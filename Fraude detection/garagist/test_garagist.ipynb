{
 "cells": [
  {
   "cell_type": "code",
   "execution_count": 1,
   "id": "46c3627a",
   "metadata": {},
   "outputs": [],
   "source": [
    "import pandas as pd"
   ]
  },
  {
   "cell_type": "code",
   "execution_count": 3,
   "id": "00570280",
   "metadata": {},
   "outputs": [],
   "source": [
    "df = pd.read_excel(\"rockauto_parts.xlsx\")"
   ]
  },
  {
   "cell_type": "code",
   "execution_count": 5,
   "id": "cc2f67c0",
   "metadata": {},
   "outputs": [],
   "source": [
    "def check_garage_fraud(df, manufacturer, part_number, price_entered):\n",
    "    manufacturer = manufacturer.upper()\n",
    "    part_number = part_number.upper()\n",
    "\n",
    "    record = df[(df[\"Manufacturer\"] == manufacturer) & (df[\"Part Number\"] == part_number)]\n",
    "\n",
    "    if not record.empty:\n",
    "        price_base = record.iloc[0][\"Price\"]\n",
    "        if price_entered > price_base * 1.2:\n",
    "            return \"The garage is fraudulent\"\n",
    "        else:\n",
    "            return \"The garage is honest\"\n",
    "    else:\n",
    "        return \"Part not found in the database\""
   ]
  },
  {
   "cell_type": "code",
   "execution_count": 8,
   "id": "88bbf932",
   "metadata": {},
   "outputs": [
    {
     "name": "stdout",
     "output_type": "stream",
     "text": [
      "Enter the manufacturer name: AIRTEX\n",
      "Enter the part number: E3995M\n",
      "Enter the garage price: 147.58\n",
      "The garage is fraudulent\n"
     ]
    }
   ],
   "source": [
    "manufacturer = input(\"Enter the manufacturer name: \")\n",
    "part_number = input(\"Enter the part number: \")\n",
    "price_entered = float(input(\"Enter the garage price: \"))\n",
    "\n",
    "result = check_garage_fraud(df, manufacturer, part_number, price_entered)\n",
    "print(result)"
   ]
  }
 ],
 "metadata": {
  "kernelspec": {
   "display_name": "Python 3",
   "language": "python",
   "name": "python3"
  },
  "language_info": {
   "codemirror_mode": {
    "name": "ipython",
    "version": 3
   },
   "file_extension": ".py",
   "mimetype": "text/x-python",
   "name": "python",
   "nbconvert_exporter": "python",
   "pygments_lexer": "ipython3",
   "version": "3.8.8"
  }
 },
 "nbformat": 4,
 "nbformat_minor": 5
}
