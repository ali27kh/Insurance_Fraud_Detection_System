{
 "cells": [
  {
   "cell_type": "code",
   "execution_count": 70,
   "metadata": {
    "id": "O1PeSHbg9sDh"
   },
   "outputs": [],
   "source": [
    "import urllib.request\n",
    "import re\n",
    "import pandas as pd\n",
    "import matplotlib as plt\n",
    "import numpy as np"
   ]
  },
  {
   "cell_type": "code",
   "execution_count": 2,
   "metadata": {
    "id": "j6kLIzI39yqy"
   },
   "outputs": [],
   "source": [
    "BonusMalus= pd.read_csv(r\"ClassesBonusMalus.csv\")"
   ]
  },
  {
   "cell_type": "code",
   "execution_count": 3,
   "metadata": {
    "colab": {
     "base_uri": "https://localhost:8080/",
     "height": 587
    },
    "executionInfo": {
     "elapsed": 13,
     "status": "ok",
     "timestamp": 1631485176851,
     "user": {
      "displayName": "Aliii Khelifi",
      "photoUrl": "https://lh3.googleusercontent.com/a/default-user=s64",
      "userId": "10316340169032043076"
     },
     "user_tz": -60
    },
    "id": "KJNz-sry-N3N",
    "outputId": "93bc4b8a-1942-484b-c4a4-8072a7521eae"
   },
   "outputs": [
    {
     "data": {
      "text/html": [
       "<div>\n",
       "<style scoped>\n",
       "    .dataframe tbody tr th:only-of-type {\n",
       "        vertical-align: middle;\n",
       "    }\n",
       "\n",
       "    .dataframe tbody tr th {\n",
       "        vertical-align: top;\n",
       "    }\n",
       "\n",
       "    .dataframe thead th {\n",
       "        text-align: right;\n",
       "    }\n",
       "</style>\n",
       "<table border=\"1\" class=\"dataframe\">\n",
       "  <thead>\n",
       "    <tr style=\"text-align: right;\">\n",
       "      <th></th>\n",
       "      <th>CodeBonusMalus_id</th>\n",
       "      <th>CodePolice_id</th>\n",
       "      <th>CodeVehicule_id</th>\n",
       "      <th>CodeAssure_id</th>\n",
       "      <th>CodeSouscripteur_id</th>\n",
       "      <th>codeUsage</th>\n",
       "      <th>ETAT_VEHICULE</th>\n",
       "      <th>DATE_AFFECTATION</th>\n",
       "      <th>classeBonusMalus</th>\n",
       "      <th>classeBonusMalusCompagnie</th>\n",
       "      <th>coefBonusMalus</th>\n",
       "    </tr>\n",
       "  </thead>\n",
       "  <tbody>\n",
       "    <tr>\n",
       "      <th>0</th>\n",
       "      <td>117346</td>\n",
       "      <td>116167</td>\n",
       "      <td>111858</td>\n",
       "      <td>101772</td>\n",
       "      <td>101691</td>\n",
       "      <td>1</td>\n",
       "      <td>V</td>\n",
       "      <td>2017-07-14 00:00:00.000000</td>\n",
       "      <td>1</td>\n",
       "      <td>1</td>\n",
       "      <td>70</td>\n",
       "    </tr>\n",
       "    <tr>\n",
       "      <th>1</th>\n",
       "      <td>117347</td>\n",
       "      <td>116168</td>\n",
       "      <td>111859</td>\n",
       "      <td>99417</td>\n",
       "      <td>99336</td>\n",
       "      <td>10</td>\n",
       "      <td>V</td>\n",
       "      <td>2017-07-14 00:00:00.000000</td>\n",
       "      <td>1</td>\n",
       "      <td>1</td>\n",
       "      <td>80</td>\n",
       "    </tr>\n",
       "    <tr>\n",
       "      <th>2</th>\n",
       "      <td>117348</td>\n",
       "      <td>116169</td>\n",
       "      <td>111860</td>\n",
       "      <td>101773</td>\n",
       "      <td>101692</td>\n",
       "      <td>1</td>\n",
       "      <td>V</td>\n",
       "      <td>2017-07-14 00:00:00.000000</td>\n",
       "      <td>1</td>\n",
       "      <td>1</td>\n",
       "      <td>70</td>\n",
       "    </tr>\n",
       "    <tr>\n",
       "      <th>3</th>\n",
       "      <td>117349</td>\n",
       "      <td>116170</td>\n",
       "      <td>111861</td>\n",
       "      <td>101774</td>\n",
       "      <td>101693</td>\n",
       "      <td>1</td>\n",
       "      <td>V</td>\n",
       "      <td>2017-07-14 00:00:00.000000</td>\n",
       "      <td>1</td>\n",
       "      <td>1</td>\n",
       "      <td>70</td>\n",
       "    </tr>\n",
       "    <tr>\n",
       "      <th>4</th>\n",
       "      <td>117350</td>\n",
       "      <td>116171</td>\n",
       "      <td>111862</td>\n",
       "      <td>101775</td>\n",
       "      <td>101694</td>\n",
       "      <td>1</td>\n",
       "      <td>V</td>\n",
       "      <td>2017-07-14 00:00:00.000000</td>\n",
       "      <td>2</td>\n",
       "      <td>2</td>\n",
       "      <td>80</td>\n",
       "    </tr>\n",
       "    <tr>\n",
       "      <th>...</th>\n",
       "      <td>...</td>\n",
       "      <td>...</td>\n",
       "      <td>...</td>\n",
       "      <td>...</td>\n",
       "      <td>...</td>\n",
       "      <td>...</td>\n",
       "      <td>...</td>\n",
       "      <td>...</td>\n",
       "      <td>...</td>\n",
       "      <td>...</td>\n",
       "      <td>...</td>\n",
       "    </tr>\n",
       "    <tr>\n",
       "      <th>921531</th>\n",
       "      <td>658899</td>\n",
       "      <td>654359</td>\n",
       "      <td>559180</td>\n",
       "      <td>230555</td>\n",
       "      <td>230480</td>\n",
       "      <td>1</td>\n",
       "      <td>V</td>\n",
       "      <td>2017-12-17 00:00:00.000000</td>\n",
       "      <td>4</td>\n",
       "      <td>4</td>\n",
       "      <td>100</td>\n",
       "    </tr>\n",
       "    <tr>\n",
       "      <th>921532</th>\n",
       "      <td>658900</td>\n",
       "      <td>654360</td>\n",
       "      <td>559181</td>\n",
       "      <td>362916</td>\n",
       "      <td>362943</td>\n",
       "      <td>5</td>\n",
       "      <td>V</td>\n",
       "      <td>2017-05-25 00:00:00.000000</td>\n",
       "      <td>4</td>\n",
       "      <td>4</td>\n",
       "      <td>120</td>\n",
       "    </tr>\n",
       "    <tr>\n",
       "      <th>921533</th>\n",
       "      <td>658901</td>\n",
       "      <td>654361</td>\n",
       "      <td>556851</td>\n",
       "      <td>528931</td>\n",
       "      <td>528936</td>\n",
       "      <td>1</td>\n",
       "      <td>V</td>\n",
       "      <td>2016-10-03 00:00:00.000000</td>\n",
       "      <td>1</td>\n",
       "      <td>1</td>\n",
       "      <td>70</td>\n",
       "    </tr>\n",
       "    <tr>\n",
       "      <th>921534</th>\n",
       "      <td>658902</td>\n",
       "      <td>654362</td>\n",
       "      <td>559182</td>\n",
       "      <td>266358</td>\n",
       "      <td>258175</td>\n",
       "      <td>6</td>\n",
       "      <td>V</td>\n",
       "      <td>2017-12-17 00:00:00.000000</td>\n",
       "      <td>2</td>\n",
       "      <td>2</td>\n",
       "      <td>90</td>\n",
       "    </tr>\n",
       "    <tr>\n",
       "      <th>921535</th>\n",
       "      <td>658903</td>\n",
       "      <td>654363</td>\n",
       "      <td>559183</td>\n",
       "      <td>528932</td>\n",
       "      <td>528937</td>\n",
       "      <td>5</td>\n",
       "      <td>V</td>\n",
       "      <td>2017-12-17 00:00:00.000000</td>\n",
       "      <td>4</td>\n",
       "      <td>4</td>\n",
       "      <td>120</td>\n",
       "    </tr>\n",
       "  </tbody>\n",
       "</table>\n",
       "<p>921536 rows × 11 columns</p>\n",
       "</div>"
      ],
      "text/plain": [
       "        CodeBonusMalus_id  CodePolice_id  CodeVehicule_id  CodeAssure_id  \\\n",
       "0                  117346         116167           111858         101772   \n",
       "1                  117347         116168           111859          99417   \n",
       "2                  117348         116169           111860         101773   \n",
       "3                  117349         116170           111861         101774   \n",
       "4                  117350         116171           111862         101775   \n",
       "...                   ...            ...              ...            ...   \n",
       "921531             658899         654359           559180         230555   \n",
       "921532             658900         654360           559181         362916   \n",
       "921533             658901         654361           556851         528931   \n",
       "921534             658902         654362           559182         266358   \n",
       "921535             658903         654363           559183         528932   \n",
       "\n",
       "        CodeSouscripteur_id  codeUsage ETAT_VEHICULE  \\\n",
       "0                    101691          1             V   \n",
       "1                     99336         10             V   \n",
       "2                    101692          1             V   \n",
       "3                    101693          1             V   \n",
       "4                    101694          1             V   \n",
       "...                     ...        ...           ...   \n",
       "921531               230480          1             V   \n",
       "921532               362943          5             V   \n",
       "921533               528936          1             V   \n",
       "921534               258175          6             V   \n",
       "921535               528937          5             V   \n",
       "\n",
       "                  DATE_AFFECTATION  classeBonusMalus  \\\n",
       "0       2017-07-14 00:00:00.000000                 1   \n",
       "1       2017-07-14 00:00:00.000000                 1   \n",
       "2       2017-07-14 00:00:00.000000                 1   \n",
       "3       2017-07-14 00:00:00.000000                 1   \n",
       "4       2017-07-14 00:00:00.000000                 2   \n",
       "...                            ...               ...   \n",
       "921531  2017-12-17 00:00:00.000000                 4   \n",
       "921532  2017-05-25 00:00:00.000000                 4   \n",
       "921533  2016-10-03 00:00:00.000000                 1   \n",
       "921534  2017-12-17 00:00:00.000000                 2   \n",
       "921535  2017-12-17 00:00:00.000000                 4   \n",
       "\n",
       "        classeBonusMalusCompagnie  coefBonusMalus  \n",
       "0                               1              70  \n",
       "1                               1              80  \n",
       "2                               1              70  \n",
       "3                               1              70  \n",
       "4                               2              80  \n",
       "...                           ...             ...  \n",
       "921531                          4             100  \n",
       "921532                          4             120  \n",
       "921533                          1              70  \n",
       "921534                          2              90  \n",
       "921535                          4             120  \n",
       "\n",
       "[921536 rows x 11 columns]"
      ]
     },
     "execution_count": 3,
     "metadata": {},
     "output_type": "execute_result"
    }
   ],
   "source": [
    "BonusMalus"
   ]
  },
  {
   "cell_type": "markdown",
   "metadata": {
    "id": "DrX-UfTn-Tai"
   },
   "source": [
    "# **I-PreProcessing:**"
   ]
  },
  {
   "cell_type": "code",
   "execution_count": 4,
   "metadata": {
    "colab": {
     "base_uri": "https://localhost:8080/"
    },
    "executionInfo": {
     "elapsed": 342,
     "status": "ok",
     "timestamp": 1627340926217,
     "user": {
      "displayName": "Aliii Khelifi",
      "photoUrl": "",
      "userId": "10316340169032043076"
     },
     "user_tz": -60
    },
    "id": "Muvs19AW-snE",
    "outputId": "8c6a105f-27e6-4f9d-eda1-73e08b73a3ff"
   },
   "outputs": [
    {
     "data": {
      "text/plain": [
       "Index(['CodeBonusMalus_id', 'CodePolice_id', 'CodeVehicule_id',\n",
       "       'CodeAssure_id', 'CodeSouscripteur_id', 'codeUsage', 'ETAT_VEHICULE',\n",
       "       'DATE_AFFECTATION', 'classeBonusMalus', 'classeBonusMalusCompagnie',\n",
       "       'coefBonusMalus'],\n",
       "      dtype='object')"
      ]
     },
     "execution_count": 4,
     "metadata": {},
     "output_type": "execute_result"
    }
   ],
   "source": [
    "BonusMalus.columns"
   ]
  },
  {
   "cell_type": "code",
   "execution_count": 5,
   "metadata": {
    "colab": {
     "base_uri": "https://localhost:8080/"
    },
    "executionInfo": {
     "elapsed": 3,
     "status": "ok",
     "timestamp": 1627340927802,
     "user": {
      "displayName": "Aliii Khelifi",
      "photoUrl": "",
      "userId": "10316340169032043076"
     },
     "user_tz": -60
    },
    "id": "7hSmFdZd_YcK",
    "outputId": "616748cd-6d45-4801-9edd-d44976be5869"
   },
   "outputs": [
    {
     "data": {
      "text/plain": [
       "(921536, 11)"
      ]
     },
     "execution_count": 5,
     "metadata": {},
     "output_type": "execute_result"
    }
   ],
   "source": [
    "BonusMalus.shape"
   ]
  },
  {
   "cell_type": "code",
   "execution_count": 6,
   "metadata": {
    "colab": {
     "base_uri": "https://localhost:8080/"
    },
    "executionInfo": {
     "elapsed": 4,
     "status": "ok",
     "timestamp": 1627340928919,
     "user": {
      "displayName": "Aliii Khelifi",
      "photoUrl": "",
      "userId": "10316340169032043076"
     },
     "user_tz": -60
    },
    "id": "_kJbNrhl--ZZ",
    "outputId": "6c519bd5-33a0-4b0f-8b90-ba5f43199368"
   },
   "outputs": [
    {
     "data": {
      "text/plain": [
       "CodeBonusMalus_id            0\n",
       "CodePolice_id                0\n",
       "CodeVehicule_id              0\n",
       "CodeAssure_id                0\n",
       "CodeSouscripteur_id          0\n",
       "codeUsage                    0\n",
       "ETAT_VEHICULE                0\n",
       "DATE_AFFECTATION             0\n",
       "classeBonusMalus             0\n",
       "classeBonusMalusCompagnie    0\n",
       "coefBonusMalus               0\n",
       "dtype: int64"
      ]
     },
     "execution_count": 6,
     "metadata": {},
     "output_type": "execute_result"
    }
   ],
   "source": [
    "BonusMalus.isnull().sum()"
   ]
  },
  {
   "cell_type": "code",
   "execution_count": 7,
   "metadata": {
    "colab": {
     "base_uri": "https://localhost:8080/"
    },
    "executionInfo": {
     "elapsed": 2,
     "status": "ok",
     "timestamp": 1627121990972,
     "user": {
      "displayName": "Aliii Khelifi",
      "photoUrl": "",
      "userId": "10316340169032043076"
     },
     "user_tz": -60
    },
    "id": "ln88DpJO_I_P",
    "outputId": "155cf7ca-5d22-430c-e4b1-8a8a924f3ecc"
   },
   "outputs": [
    {
     "data": {
      "text/plain": [
       "array([ 1,  2,  3,  6,  7,  8,  4,  9,  5, 11, 10], dtype=int64)"
      ]
     },
     "execution_count": 7,
     "metadata": {},
     "output_type": "execute_result"
    }
   ],
   "source": [
    "BonusMalus[\"classeBonusMalus\"].unique()"
   ]
  },
  {
   "cell_type": "markdown",
   "metadata": {
    "id": "WxlYMdgY_svc"
   },
   "source": [
    "Il ya 11 Classes BonusMalus à etudier."
   ]
  },
  {
   "cell_type": "code",
   "execution_count": 8,
   "metadata": {
    "id": "qw0NZ9M1_0lB"
   },
   "outputs": [],
   "source": [
    "Vehicule_clean = pd.read_csv(r\"Vehicule.csv\")"
   ]
  },
  {
   "cell_type": "code",
   "execution_count": 9,
   "metadata": {
    "id": "dPE4ozupAc6r"
   },
   "outputs": [],
   "source": [
    "df_merge=pd.merge(Vehicule_clean,BonusMalus,left_on=\"CodeVehicule_id\",right_on=\"CodeVehicule_id\")"
   ]
  },
  {
   "cell_type": "code",
   "execution_count": 10,
   "metadata": {
    "colab": {
     "base_uri": "https://localhost:8080/",
     "height": 588
    },
    "executionInfo": {
     "elapsed": 7,
     "status": "ok",
     "timestamp": 1627121995118,
     "user": {
      "displayName": "Aliii Khelifi",
      "photoUrl": "",
      "userId": "10316340169032043076"
     },
     "user_tz": -60
    },
    "id": "4mf_t8FzBNrU",
    "outputId": "ff6d02fc-4f3a-4b53-d426-7ea79f7d4a9c"
   },
   "outputs": [
    {
     "data": {
      "text/html": [
       "<div>\n",
       "<style scoped>\n",
       "    .dataframe tbody tr th:only-of-type {\n",
       "        vertical-align: middle;\n",
       "    }\n",
       "\n",
       "    .dataframe tbody tr th {\n",
       "        vertical-align: top;\n",
       "    }\n",
       "\n",
       "    .dataframe thead th {\n",
       "        text-align: right;\n",
       "    }\n",
       "</style>\n",
       "<table border=\"1\" class=\"dataframe\">\n",
       "  <thead>\n",
       "    <tr style=\"text-align: right;\">\n",
       "      <th></th>\n",
       "      <th>CodeVehicule_id</th>\n",
       "      <th>codeMarque</th>\n",
       "      <th>puissanceFiscal</th>\n",
       "      <th>typeImmatriculation</th>\n",
       "      <th>energie</th>\n",
       "      <th>dateInsertion</th>\n",
       "      <th>CodeBonusMalus_id</th>\n",
       "      <th>CodePolice_id</th>\n",
       "      <th>CodeAssure_id</th>\n",
       "      <th>CodeSouscripteur_id</th>\n",
       "      <th>codeUsage</th>\n",
       "      <th>ETAT_VEHICULE</th>\n",
       "      <th>DATE_AFFECTATION</th>\n",
       "      <th>classeBonusMalus</th>\n",
       "      <th>classeBonusMalusCompagnie</th>\n",
       "      <th>coefBonusMalus</th>\n",
       "    </tr>\n",
       "  </thead>\n",
       "  <tbody>\n",
       "    <tr>\n",
       "      <th>0</th>\n",
       "      <td>696264</td>\n",
       "      <td>152</td>\n",
       "      <td>5</td>\n",
       "      <td>TU</td>\n",
       "      <td>ESSENCE</td>\n",
       "      <td>2017-10-05</td>\n",
       "      <td>868429</td>\n",
       "      <td>863646</td>\n",
       "      <td>668681</td>\n",
       "      <td>668688</td>\n",
       "      <td>1</td>\n",
       "      <td>V</td>\n",
       "      <td>2017-06-14 00:00:00.000000</td>\n",
       "      <td>5</td>\n",
       "      <td>5</td>\n",
       "      <td>120</td>\n",
       "    </tr>\n",
       "    <tr>\n",
       "      <th>1</th>\n",
       "      <td>696265</td>\n",
       "      <td>107</td>\n",
       "      <td>4</td>\n",
       "      <td>TU</td>\n",
       "      <td>ESSENCE</td>\n",
       "      <td>2017-10-05</td>\n",
       "      <td>868430</td>\n",
       "      <td>863647</td>\n",
       "      <td>668682</td>\n",
       "      <td>668689</td>\n",
       "      <td>1</td>\n",
       "      <td>V</td>\n",
       "      <td>2016-07-06 00:00:00.000000</td>\n",
       "      <td>1</td>\n",
       "      <td>1</td>\n",
       "      <td>70</td>\n",
       "    </tr>\n",
       "    <tr>\n",
       "      <th>2</th>\n",
       "      <td>696266</td>\n",
       "      <td>808</td>\n",
       "      <td>5</td>\n",
       "      <td>TU</td>\n",
       "      <td>ESSENCE</td>\n",
       "      <td>2017-10-05</td>\n",
       "      <td>868431</td>\n",
       "      <td>863648</td>\n",
       "      <td>668683</td>\n",
       "      <td>668690</td>\n",
       "      <td>1</td>\n",
       "      <td>V</td>\n",
       "      <td>2016-04-30 00:00:00.000000</td>\n",
       "      <td>4</td>\n",
       "      <td>4</td>\n",
       "      <td>100</td>\n",
       "    </tr>\n",
       "    <tr>\n",
       "      <th>3</th>\n",
       "      <td>696267</td>\n",
       "      <td>30</td>\n",
       "      <td>8</td>\n",
       "      <td>TU</td>\n",
       "      <td>GASOIL</td>\n",
       "      <td>2017-10-05</td>\n",
       "      <td>868432</td>\n",
       "      <td>863649</td>\n",
       "      <td>668684</td>\n",
       "      <td>668691</td>\n",
       "      <td>5</td>\n",
       "      <td>V</td>\n",
       "      <td>2016-05-08 00:00:00.000000</td>\n",
       "      <td>2</td>\n",
       "      <td>2</td>\n",
       "      <td>90</td>\n",
       "    </tr>\n",
       "    <tr>\n",
       "      <th>4</th>\n",
       "      <td>696268</td>\n",
       "      <td>29</td>\n",
       "      <td>7</td>\n",
       "      <td>TU</td>\n",
       "      <td>GASOIL</td>\n",
       "      <td>2017-10-05</td>\n",
       "      <td>868433</td>\n",
       "      <td>863650</td>\n",
       "      <td>370720</td>\n",
       "      <td>370747</td>\n",
       "      <td>5</td>\n",
       "      <td>V</td>\n",
       "      <td>2016-04-26 00:00:00.000000</td>\n",
       "      <td>2</td>\n",
       "      <td>2</td>\n",
       "      <td>90</td>\n",
       "    </tr>\n",
       "    <tr>\n",
       "      <th>...</th>\n",
       "      <td>...</td>\n",
       "      <td>...</td>\n",
       "      <td>...</td>\n",
       "      <td>...</td>\n",
       "      <td>...</td>\n",
       "      <td>...</td>\n",
       "      <td>...</td>\n",
       "      <td>...</td>\n",
       "      <td>...</td>\n",
       "      <td>...</td>\n",
       "      <td>...</td>\n",
       "      <td>...</td>\n",
       "      <td>...</td>\n",
       "      <td>...</td>\n",
       "      <td>...</td>\n",
       "      <td>...</td>\n",
       "    </tr>\n",
       "    <tr>\n",
       "      <th>862495</th>\n",
       "      <td>685055</td>\n",
       "      <td>107</td>\n",
       "      <td>5</td>\n",
       "      <td>TU</td>\n",
       "      <td>GASOIL</td>\n",
       "      <td>2017-10-05</td>\n",
       "      <td>1436329</td>\n",
       "      <td>1428275</td>\n",
       "      <td>1067914</td>\n",
       "      <td>1067531</td>\n",
       "      <td>1</td>\n",
       "      <td>V</td>\n",
       "      <td>2016-04-01 00:00:00.000000</td>\n",
       "      <td>4</td>\n",
       "      <td>4</td>\n",
       "      <td>100</td>\n",
       "    </tr>\n",
       "    <tr>\n",
       "      <th>862496</th>\n",
       "      <td>685056</td>\n",
       "      <td>376</td>\n",
       "      <td>10</td>\n",
       "      <td>TU</td>\n",
       "      <td>GASOIL</td>\n",
       "      <td>2017-10-05</td>\n",
       "      <td>1316495</td>\n",
       "      <td>1311618</td>\n",
       "      <td>1025698</td>\n",
       "      <td>1025711</td>\n",
       "      <td>2</td>\n",
       "      <td>V</td>\n",
       "      <td>2017-09-14 00:00:00.000000</td>\n",
       "      <td>5</td>\n",
       "      <td>5</td>\n",
       "      <td>150</td>\n",
       "    </tr>\n",
       "    <tr>\n",
       "      <th>862497</th>\n",
       "      <td>685057</td>\n",
       "      <td>29</td>\n",
       "      <td>7</td>\n",
       "      <td>TU</td>\n",
       "      <td>GASOIL</td>\n",
       "      <td>2017-10-05</td>\n",
       "      <td>1090459</td>\n",
       "      <td>1085667</td>\n",
       "      <td>844047</td>\n",
       "      <td>844057</td>\n",
       "      <td>3</td>\n",
       "      <td>V</td>\n",
       "      <td>2017-10-03 00:00:00.000000</td>\n",
       "      <td>5</td>\n",
       "      <td>5</td>\n",
       "      <td>150</td>\n",
       "    </tr>\n",
       "    <tr>\n",
       "      <th>862498</th>\n",
       "      <td>685059</td>\n",
       "      <td>29</td>\n",
       "      <td>5</td>\n",
       "      <td>TU</td>\n",
       "      <td>GASOIL</td>\n",
       "      <td>2017-10-05</td>\n",
       "      <td>872365</td>\n",
       "      <td>867582</td>\n",
       "      <td>657249</td>\n",
       "      <td>657256</td>\n",
       "      <td>5</td>\n",
       "      <td>V</td>\n",
       "      <td>2017-02-07 00:00:00.000000</td>\n",
       "      <td>1</td>\n",
       "      <td>1</td>\n",
       "      <td>80</td>\n",
       "    </tr>\n",
       "    <tr>\n",
       "      <th>862499</th>\n",
       "      <td>685059</td>\n",
       "      <td>29</td>\n",
       "      <td>5</td>\n",
       "      <td>TU</td>\n",
       "      <td>GASOIL</td>\n",
       "      <td>2017-10-05</td>\n",
       "      <td>967471</td>\n",
       "      <td>962688</td>\n",
       "      <td>745277</td>\n",
       "      <td>745285</td>\n",
       "      <td>5</td>\n",
       "      <td>V</td>\n",
       "      <td>2016-06-13 00:00:00.000000</td>\n",
       "      <td>3</td>\n",
       "      <td>3</td>\n",
       "      <td>100</td>\n",
       "    </tr>\n",
       "  </tbody>\n",
       "</table>\n",
       "<p>862500 rows × 16 columns</p>\n",
       "</div>"
      ],
      "text/plain": [
       "        CodeVehicule_id  codeMarque  puissanceFiscal typeImmatriculation  \\\n",
       "0                696264         152                5                  TU   \n",
       "1                696265         107                4                  TU   \n",
       "2                696266         808                5                  TU   \n",
       "3                696267          30                8                  TU   \n",
       "4                696268          29                7                  TU   \n",
       "...                 ...         ...              ...                 ...   \n",
       "862495           685055         107                5                  TU   \n",
       "862496           685056         376               10                  TU   \n",
       "862497           685057          29                7                  TU   \n",
       "862498           685059          29                5                  TU   \n",
       "862499           685059          29                5                  TU   \n",
       "\n",
       "        energie dateInsertion  CodeBonusMalus_id  CodePolice_id  \\\n",
       "0       ESSENCE    2017-10-05             868429         863646   \n",
       "1       ESSENCE    2017-10-05             868430         863647   \n",
       "2       ESSENCE    2017-10-05             868431         863648   \n",
       "3        GASOIL    2017-10-05             868432         863649   \n",
       "4        GASOIL    2017-10-05             868433         863650   \n",
       "...         ...           ...                ...            ...   \n",
       "862495   GASOIL    2017-10-05            1436329        1428275   \n",
       "862496   GASOIL    2017-10-05            1316495        1311618   \n",
       "862497   GASOIL    2017-10-05            1090459        1085667   \n",
       "862498   GASOIL    2017-10-05             872365         867582   \n",
       "862499   GASOIL    2017-10-05             967471         962688   \n",
       "\n",
       "        CodeAssure_id  CodeSouscripteur_id  codeUsage ETAT_VEHICULE  \\\n",
       "0              668681               668688          1             V   \n",
       "1              668682               668689          1             V   \n",
       "2              668683               668690          1             V   \n",
       "3              668684               668691          5             V   \n",
       "4              370720               370747          5             V   \n",
       "...               ...                  ...        ...           ...   \n",
       "862495        1067914              1067531          1             V   \n",
       "862496        1025698              1025711          2             V   \n",
       "862497         844047               844057          3             V   \n",
       "862498         657249               657256          5             V   \n",
       "862499         745277               745285          5             V   \n",
       "\n",
       "                  DATE_AFFECTATION  classeBonusMalus  \\\n",
       "0       2017-06-14 00:00:00.000000                 5   \n",
       "1       2016-07-06 00:00:00.000000                 1   \n",
       "2       2016-04-30 00:00:00.000000                 4   \n",
       "3       2016-05-08 00:00:00.000000                 2   \n",
       "4       2016-04-26 00:00:00.000000                 2   \n",
       "...                            ...               ...   \n",
       "862495  2016-04-01 00:00:00.000000                 4   \n",
       "862496  2017-09-14 00:00:00.000000                 5   \n",
       "862497  2017-10-03 00:00:00.000000                 5   \n",
       "862498  2017-02-07 00:00:00.000000                 1   \n",
       "862499  2016-06-13 00:00:00.000000                 3   \n",
       "\n",
       "        classeBonusMalusCompagnie  coefBonusMalus  \n",
       "0                               5             120  \n",
       "1                               1              70  \n",
       "2                               4             100  \n",
       "3                               2              90  \n",
       "4                               2              90  \n",
       "...                           ...             ...  \n",
       "862495                          4             100  \n",
       "862496                          5             150  \n",
       "862497                          5             150  \n",
       "862498                          1              80  \n",
       "862499                          3             100  \n",
       "\n",
       "[862500 rows x 16 columns]"
      ]
     },
     "execution_count": 10,
     "metadata": {},
     "output_type": "execute_result"
    }
   ],
   "source": [
    "df_merge"
   ]
  },
  {
   "cell_type": "code",
   "execution_count": 11,
   "metadata": {
    "colab": {
     "base_uri": "https://localhost:8080/"
    },
    "executionInfo": {
     "elapsed": 341,
     "status": "ok",
     "timestamp": 1627121998481,
     "user": {
      "displayName": "Aliii Khelifi",
      "photoUrl": "",
      "userId": "10316340169032043076"
     },
     "user_tz": -60
    },
    "id": "M7jbbQ2HC3IK",
    "outputId": "23330b57-9cc8-43e1-a89d-16749b53fe84"
   },
   "outputs": [
    {
     "name": "stdout",
     "output_type": "stream",
     "text": [
      "<class 'pandas.core.frame.DataFrame'>\n",
      "Int64Index: 862500 entries, 0 to 862499\n",
      "Data columns (total 16 columns):\n",
      " #   Column                     Non-Null Count   Dtype \n",
      "---  ------                     --------------   ----- \n",
      " 0   CodeVehicule_id            862500 non-null  int64 \n",
      " 1   codeMarque                 862500 non-null  int64 \n",
      " 2   puissanceFiscal            862500 non-null  int64 \n",
      " 3   typeImmatriculation        862500 non-null  object\n",
      " 4   energie                    862500 non-null  object\n",
      " 5   dateInsertion              862500 non-null  object\n",
      " 6   CodeBonusMalus_id          862500 non-null  int64 \n",
      " 7   CodePolice_id              862500 non-null  int64 \n",
      " 8   CodeAssure_id              862500 non-null  int64 \n",
      " 9   CodeSouscripteur_id        862500 non-null  int64 \n",
      " 10  codeUsage                  862500 non-null  int64 \n",
      " 11  ETAT_VEHICULE              862500 non-null  object\n",
      " 12  DATE_AFFECTATION           862500 non-null  object\n",
      " 13  classeBonusMalus           862500 non-null  int64 \n",
      " 14  classeBonusMalusCompagnie  862500 non-null  int64 \n",
      " 15  coefBonusMalus             862500 non-null  int64 \n",
      "dtypes: int64(11), object(5)\n",
      "memory usage: 111.9+ MB\n"
     ]
    }
   ],
   "source": [
    "df_merge.info()"
   ]
  },
  {
   "cell_type": "code",
   "execution_count": 13,
   "metadata": {
    "colab": {
     "base_uri": "https://localhost:8080/"
    },
    "executionInfo": {
     "elapsed": 2767,
     "status": "ok",
     "timestamp": 1631485194777,
     "user": {
      "displayName": "Aliii Khelifi",
      "photoUrl": "https://lh3.googleusercontent.com/a/default-user=s64",
      "userId": "10316340169032043076"
     },
     "user_tz": -60
    },
    "id": "hmhpKXjzC_bj",
    "outputId": "697a741d-55c2-4e83-b5ca-f5be29526dae"
   },
   "outputs": [
    {
     "name": "stderr",
     "output_type": "stream",
     "text": [
      "C:\\Users\\ALI\\anaconda3\\lib\\site-packages\\IPython\\core\\interactiveshell.py:3165: DtypeWarning: Columns (2) have mixed types.Specify dtype option on import or set low_memory=False.\n",
      "  has_raised = await self.run_ast_nodes(code_ast.body, cell_name,\n"
     ]
    }
   ],
   "source": [
    "Police_clean = pd.read_csv(r\"Police.csv\")"
   ]
  },
  {
   "cell_type": "code",
   "execution_count": 14,
   "metadata": {
    "colab": {
     "base_uri": "https://localhost:8080/",
     "height": 399
    },
    "executionInfo": {
     "elapsed": 9,
     "status": "ok",
     "timestamp": 1627122002292,
     "user": {
      "displayName": "Aliii Khelifi",
      "photoUrl": "",
      "userId": "10316340169032043076"
     },
     "user_tz": -60
    },
    "id": "uITlL9d5N1bW",
    "outputId": "a83a125f-4f35-4ba4-b842-49f65edaa0aa"
   },
   "outputs": [
    {
     "data": {
      "text/html": [
       "<div>\n",
       "<style scoped>\n",
       "    .dataframe tbody tr th:only-of-type {\n",
       "        vertical-align: middle;\n",
       "    }\n",
       "\n",
       "    .dataframe tbody tr th {\n",
       "        vertical-align: top;\n",
       "    }\n",
       "\n",
       "    .dataframe thead th {\n",
       "        text-align: right;\n",
       "    }\n",
       "</style>\n",
       "<table border=\"1\" class=\"dataframe\">\n",
       "  <thead>\n",
       "    <tr style=\"text-align: right;\">\n",
       "      <th></th>\n",
       "      <th>CodePolice_id</th>\n",
       "      <th>codeCompagnie</th>\n",
       "      <th>codeAgence</th>\n",
       "      <th>typeIntermediaire</th>\n",
       "      <th>numPolice</th>\n",
       "      <th>naturePolice</th>\n",
       "      <th>typePolice</th>\n",
       "      <th>Etat_Police</th>\n",
       "      <th>dateEffetPolice</th>\n",
       "      <th>dateEcheancePolice</th>\n",
       "    </tr>\n",
       "  </thead>\n",
       "  <tbody>\n",
       "    <tr>\n",
       "      <th>0</th>\n",
       "      <td>545568</td>\n",
       "      <td>1</td>\n",
       "      <td>599</td>\n",
       "      <td>1</td>\n",
       "      <td>20155.0076050/6</td>\n",
       "      <td>R</td>\n",
       "      <td>I</td>\n",
       "      <td>R</td>\n",
       "      <td>2015-10-13</td>\n",
       "      <td>1013.0</td>\n",
       "    </tr>\n",
       "    <tr>\n",
       "      <th>1</th>\n",
       "      <td>545569</td>\n",
       "      <td>1</td>\n",
       "      <td>655</td>\n",
       "      <td>1</td>\n",
       "      <td>20155.0076056/5</td>\n",
       "      <td>R</td>\n",
       "      <td>I</td>\n",
       "      <td>V</td>\n",
       "      <td>2015-10-13</td>\n",
       "      <td>1013.0</td>\n",
       "    </tr>\n",
       "    <tr>\n",
       "      <th>2</th>\n",
       "      <td>545570</td>\n",
       "      <td>1</td>\n",
       "      <td>757</td>\n",
       "      <td>1</td>\n",
       "      <td>20155.0076058/9</td>\n",
       "      <td>R</td>\n",
       "      <td>I</td>\n",
       "      <td>V</td>\n",
       "      <td>2015-10-13</td>\n",
       "      <td>1013.0</td>\n",
       "    </tr>\n",
       "    <tr>\n",
       "      <th>3</th>\n",
       "      <td>545571</td>\n",
       "      <td>1</td>\n",
       "      <td>636</td>\n",
       "      <td>1</td>\n",
       "      <td>20155.0076059/4</td>\n",
       "      <td>R</td>\n",
       "      <td>I</td>\n",
       "      <td>V</td>\n",
       "      <td>2015-10-13</td>\n",
       "      <td>1013.0</td>\n",
       "    </tr>\n",
       "    <tr>\n",
       "      <th>4</th>\n",
       "      <td>545572</td>\n",
       "      <td>1</td>\n",
       "      <td>610</td>\n",
       "      <td>1</td>\n",
       "      <td>20155.0076062/9</td>\n",
       "      <td>R</td>\n",
       "      <td>I</td>\n",
       "      <td>V</td>\n",
       "      <td>2015-10-13</td>\n",
       "      <td>1013.0</td>\n",
       "    </tr>\n",
       "    <tr>\n",
       "      <th>...</th>\n",
       "      <td>...</td>\n",
       "      <td>...</td>\n",
       "      <td>...</td>\n",
       "      <td>...</td>\n",
       "      <td>...</td>\n",
       "      <td>...</td>\n",
       "      <td>...</td>\n",
       "      <td>...</td>\n",
       "      <td>...</td>\n",
       "      <td>...</td>\n",
       "    </tr>\n",
       "    <tr>\n",
       "      <th>937275</th>\n",
       "      <td>437233</td>\n",
       "      <td>1</td>\n",
       "      <td>626</td>\n",
       "      <td>1</td>\n",
       "      <td>201650000043769</td>\n",
       "      <td>R</td>\n",
       "      <td>I</td>\n",
       "      <td>V</td>\n",
       "      <td>2016-05-31</td>\n",
       "      <td>531.0</td>\n",
       "    </tr>\n",
       "    <tr>\n",
       "      <th>937276</th>\n",
       "      <td>437234</td>\n",
       "      <td>1</td>\n",
       "      <td>585</td>\n",
       "      <td>1</td>\n",
       "      <td>201650000043774</td>\n",
       "      <td>R</td>\n",
       "      <td>I</td>\n",
       "      <td>V</td>\n",
       "      <td>2016-05-31</td>\n",
       "      <td>531.0</td>\n",
       "    </tr>\n",
       "    <tr>\n",
       "      <th>937277</th>\n",
       "      <td>437235</td>\n",
       "      <td>1</td>\n",
       "      <td>576</td>\n",
       "      <td>1</td>\n",
       "      <td>201650000043782</td>\n",
       "      <td>R</td>\n",
       "      <td>I</td>\n",
       "      <td>V</td>\n",
       "      <td>2016-05-31</td>\n",
       "      <td>531.0</td>\n",
       "    </tr>\n",
       "    <tr>\n",
       "      <th>937278</th>\n",
       "      <td>437236</td>\n",
       "      <td>1</td>\n",
       "      <td>768</td>\n",
       "      <td>1</td>\n",
       "      <td>201650000043794</td>\n",
       "      <td>R</td>\n",
       "      <td>I</td>\n",
       "      <td>R</td>\n",
       "      <td>2016-05-31</td>\n",
       "      <td>531.0</td>\n",
       "    </tr>\n",
       "    <tr>\n",
       "      <th>937279</th>\n",
       "      <td>437237</td>\n",
       "      <td>1</td>\n",
       "      <td>689</td>\n",
       "      <td>1</td>\n",
       "      <td>201650000043795</td>\n",
       "      <td>R</td>\n",
       "      <td>I</td>\n",
       "      <td>V</td>\n",
       "      <td>2016-05-31</td>\n",
       "      <td>531.0</td>\n",
       "    </tr>\n",
       "  </tbody>\n",
       "</table>\n",
       "<p>937280 rows × 10 columns</p>\n",
       "</div>"
      ],
      "text/plain": [
       "        CodePolice_id  codeCompagnie codeAgence  typeIntermediaire  \\\n",
       "0              545568              1        599                  1   \n",
       "1              545569              1        655                  1   \n",
       "2              545570              1        757                  1   \n",
       "3              545571              1        636                  1   \n",
       "4              545572              1        610                  1   \n",
       "...               ...            ...        ...                ...   \n",
       "937275         437233              1        626                  1   \n",
       "937276         437234              1        585                  1   \n",
       "937277         437235              1        576                  1   \n",
       "937278         437236              1        768                  1   \n",
       "937279         437237              1        689                  1   \n",
       "\n",
       "              numPolice naturePolice typePolice Etat_Police dateEffetPolice  \\\n",
       "0       20155.0076050/6            R          I           R      2015-10-13   \n",
       "1       20155.0076056/5            R          I           V      2015-10-13   \n",
       "2       20155.0076058/9            R          I           V      2015-10-13   \n",
       "3       20155.0076059/4            R          I           V      2015-10-13   \n",
       "4       20155.0076062/9            R          I           V      2015-10-13   \n",
       "...                 ...          ...        ...         ...             ...   \n",
       "937275  201650000043769            R          I           V      2016-05-31   \n",
       "937276  201650000043774            R          I           V      2016-05-31   \n",
       "937277  201650000043782            R          I           V      2016-05-31   \n",
       "937278  201650000043794            R          I           R      2016-05-31   \n",
       "937279  201650000043795            R          I           V      2016-05-31   \n",
       "\n",
       "        dateEcheancePolice  \n",
       "0                   1013.0  \n",
       "1                   1013.0  \n",
       "2                   1013.0  \n",
       "3                   1013.0  \n",
       "4                   1013.0  \n",
       "...                    ...  \n",
       "937275               531.0  \n",
       "937276               531.0  \n",
       "937277               531.0  \n",
       "937278               531.0  \n",
       "937279               531.0  \n",
       "\n",
       "[937280 rows x 10 columns]"
      ]
     },
     "execution_count": 14,
     "metadata": {},
     "output_type": "execute_result"
    }
   ],
   "source": [
    "Police_clean"
   ]
  },
  {
   "cell_type": "code",
   "execution_count": 15,
   "metadata": {
    "colab": {
     "base_uri": "https://localhost:8080/"
    },
    "executionInfo": {
     "elapsed": 243,
     "status": "ok",
     "timestamp": 1627122004644,
     "user": {
      "displayName": "Aliii Khelifi",
      "photoUrl": "",
      "userId": "10316340169032043076"
     },
     "user_tz": -60
    },
    "id": "laGhIFgLFq8m",
    "outputId": "f7954775-8939-49dd-cb90-047780e2321b"
   },
   "outputs": [
    {
     "data": {
      "text/plain": [
       "(937280, 10)"
      ]
     },
     "execution_count": 15,
     "metadata": {},
     "output_type": "execute_result"
    }
   ],
   "source": [
    "Police_clean.shape"
   ]
  },
  {
   "cell_type": "code",
   "execution_count": 16,
   "metadata": {
    "colab": {
     "base_uri": "https://localhost:8080/"
    },
    "executionInfo": {
     "elapsed": 241,
     "status": "ok",
     "timestamp": 1627122006014,
     "user": {
      "displayName": "Aliii Khelifi",
      "photoUrl": "",
      "userId": "10316340169032043076"
     },
     "user_tz": -60
    },
    "id": "QvQ5bmkVF4Zy",
    "outputId": "ab490cf1-7ed0-45b4-f08f-ac2e093206a0"
   },
   "outputs": [
    {
     "name": "stdout",
     "output_type": "stream",
     "text": [
      "<class 'pandas.core.frame.DataFrame'>\n",
      "RangeIndex: 937280 entries, 0 to 937279\n",
      "Data columns (total 10 columns):\n",
      " #   Column              Non-Null Count   Dtype  \n",
      "---  ------              --------------   -----  \n",
      " 0   CodePolice_id       937280 non-null  int64  \n",
      " 1   codeCompagnie       937280 non-null  int64  \n",
      " 2   codeAgence          937280 non-null  object \n",
      " 3   typeIntermediaire   937280 non-null  int64  \n",
      " 4   numPolice           937280 non-null  object \n",
      " 5   naturePolice        937280 non-null  object \n",
      " 6   typePolice          937280 non-null  object \n",
      " 7   Etat_Police         937280 non-null  object \n",
      " 8   dateEffetPolice     937280 non-null  object \n",
      " 9   dateEcheancePolice  845396 non-null  float64\n",
      "dtypes: float64(1), int64(3), object(6)\n",
      "memory usage: 71.5+ MB\n"
     ]
    }
   ],
   "source": [
    "Police_clean.info()"
   ]
  },
  {
   "cell_type": "code",
   "execution_count": 17,
   "metadata": {
    "colab": {
     "base_uri": "https://localhost:8080/"
    },
    "executionInfo": {
     "elapsed": 595,
     "status": "ok",
     "timestamp": 1627122008345,
     "user": {
      "displayName": "Aliii Khelifi",
      "photoUrl": "",
      "userId": "10316340169032043076"
     },
     "user_tz": -60
    },
    "id": "TX-J3HdnGL9s",
    "outputId": "693866f4-e8ef-471b-9a6f-4eaecdd07d60"
   },
   "outputs": [
    {
     "data": {
      "text/plain": [
       "CodePolice_id             0\n",
       "codeCompagnie             0\n",
       "codeAgence                0\n",
       "typeIntermediaire         0\n",
       "numPolice                 0\n",
       "naturePolice              0\n",
       "typePolice                0\n",
       "Etat_Police               0\n",
       "dateEffetPolice           0\n",
       "dateEcheancePolice    91884\n",
       "dtype: int64"
      ]
     },
     "execution_count": 17,
     "metadata": {},
     "output_type": "execute_result"
    }
   ],
   "source": [
    "Police_clean.isnull().sum()"
   ]
  },
  {
   "cell_type": "code",
   "execution_count": 18,
   "metadata": {
    "id": "jNhXGkX0GU6r"
   },
   "outputs": [],
   "source": [
    "df_merge2=pd.merge(Police_clean,df_merge,left_on=\"CodePolice_id\",right_on=\"CodePolice_id\")"
   ]
  },
  {
   "cell_type": "code",
   "execution_count": 19,
   "metadata": {
    "colab": {
     "base_uri": "https://localhost:8080/",
     "height": 588
    },
    "executionInfo": {
     "elapsed": 232,
     "status": "ok",
     "timestamp": 1627122011575,
     "user": {
      "displayName": "Aliii Khelifi",
      "photoUrl": "",
      "userId": "10316340169032043076"
     },
     "user_tz": -60
    },
    "id": "fWgkEJ5KuPN_",
    "outputId": "40b8279d-3dc0-4813-d598-d8c33973add7"
   },
   "outputs": [
    {
     "data": {
      "text/html": [
       "<div>\n",
       "<style scoped>\n",
       "    .dataframe tbody tr th:only-of-type {\n",
       "        vertical-align: middle;\n",
       "    }\n",
       "\n",
       "    .dataframe tbody tr th {\n",
       "        vertical-align: top;\n",
       "    }\n",
       "\n",
       "    .dataframe thead th {\n",
       "        text-align: right;\n",
       "    }\n",
       "</style>\n",
       "<table border=\"1\" class=\"dataframe\">\n",
       "  <thead>\n",
       "    <tr style=\"text-align: right;\">\n",
       "      <th></th>\n",
       "      <th>CodePolice_id</th>\n",
       "      <th>codeCompagnie</th>\n",
       "      <th>codeAgence</th>\n",
       "      <th>typeIntermediaire</th>\n",
       "      <th>numPolice</th>\n",
       "      <th>naturePolice</th>\n",
       "      <th>typePolice</th>\n",
       "      <th>Etat_Police</th>\n",
       "      <th>dateEffetPolice</th>\n",
       "      <th>dateEcheancePolice</th>\n",
       "      <th>...</th>\n",
       "      <th>dateInsertion</th>\n",
       "      <th>CodeBonusMalus_id</th>\n",
       "      <th>CodeAssure_id</th>\n",
       "      <th>CodeSouscripteur_id</th>\n",
       "      <th>codeUsage</th>\n",
       "      <th>ETAT_VEHICULE</th>\n",
       "      <th>DATE_AFFECTATION</th>\n",
       "      <th>classeBonusMalus</th>\n",
       "      <th>classeBonusMalusCompagnie</th>\n",
       "      <th>coefBonusMalus</th>\n",
       "    </tr>\n",
       "  </thead>\n",
       "  <tbody>\n",
       "    <tr>\n",
       "      <th>0</th>\n",
       "      <td>545568</td>\n",
       "      <td>1</td>\n",
       "      <td>599</td>\n",
       "      <td>1</td>\n",
       "      <td>20155.0076050/6</td>\n",
       "      <td>R</td>\n",
       "      <td>I</td>\n",
       "      <td>R</td>\n",
       "      <td>2015-10-13</td>\n",
       "      <td>1013.0</td>\n",
       "      <td>...</td>\n",
       "      <td>2017-10-05</td>\n",
       "      <td>550108</td>\n",
       "      <td>444953</td>\n",
       "      <td>444957</td>\n",
       "      <td>1</td>\n",
       "      <td>V</td>\n",
       "      <td>2017-10-13 00:00:00.000000</td>\n",
       "      <td>5</td>\n",
       "      <td>5</td>\n",
       "      <td>120</td>\n",
       "    </tr>\n",
       "    <tr>\n",
       "      <th>1</th>\n",
       "      <td>545569</td>\n",
       "      <td>1</td>\n",
       "      <td>655</td>\n",
       "      <td>1</td>\n",
       "      <td>20155.0076056/5</td>\n",
       "      <td>R</td>\n",
       "      <td>I</td>\n",
       "      <td>V</td>\n",
       "      <td>2015-10-13</td>\n",
       "      <td>1013.0</td>\n",
       "      <td>...</td>\n",
       "      <td>2017-10-05</td>\n",
       "      <td>550109</td>\n",
       "      <td>444954</td>\n",
       "      <td>444958</td>\n",
       "      <td>5</td>\n",
       "      <td>V</td>\n",
       "      <td>2017-10-13 00:00:00.000000</td>\n",
       "      <td>3</td>\n",
       "      <td>3</td>\n",
       "      <td>100</td>\n",
       "    </tr>\n",
       "    <tr>\n",
       "      <th>2</th>\n",
       "      <td>545570</td>\n",
       "      <td>1</td>\n",
       "      <td>757</td>\n",
       "      <td>1</td>\n",
       "      <td>20155.0076058/9</td>\n",
       "      <td>R</td>\n",
       "      <td>I</td>\n",
       "      <td>V</td>\n",
       "      <td>2015-10-13</td>\n",
       "      <td>1013.0</td>\n",
       "      <td>...</td>\n",
       "      <td>2017-10-05</td>\n",
       "      <td>550110</td>\n",
       "      <td>99315</td>\n",
       "      <td>99234</td>\n",
       "      <td>6</td>\n",
       "      <td>V</td>\n",
       "      <td>2016-10-13 00:00:00.000000</td>\n",
       "      <td>1</td>\n",
       "      <td>1</td>\n",
       "      <td>80</td>\n",
       "    </tr>\n",
       "    <tr>\n",
       "      <th>3</th>\n",
       "      <td>545571</td>\n",
       "      <td>1</td>\n",
       "      <td>636</td>\n",
       "      <td>1</td>\n",
       "      <td>20155.0076059/4</td>\n",
       "      <td>R</td>\n",
       "      <td>I</td>\n",
       "      <td>V</td>\n",
       "      <td>2015-10-13</td>\n",
       "      <td>1013.0</td>\n",
       "      <td>...</td>\n",
       "      <td>2017-10-05</td>\n",
       "      <td>550111</td>\n",
       "      <td>444955</td>\n",
       "      <td>444959</td>\n",
       "      <td>1</td>\n",
       "      <td>V</td>\n",
       "      <td>2016-10-13 00:00:00.000000</td>\n",
       "      <td>1</td>\n",
       "      <td>1</td>\n",
       "      <td>70</td>\n",
       "    </tr>\n",
       "    <tr>\n",
       "      <th>4</th>\n",
       "      <td>545572</td>\n",
       "      <td>1</td>\n",
       "      <td>610</td>\n",
       "      <td>1</td>\n",
       "      <td>20155.0076062/9</td>\n",
       "      <td>R</td>\n",
       "      <td>I</td>\n",
       "      <td>V</td>\n",
       "      <td>2015-10-13</td>\n",
       "      <td>1013.0</td>\n",
       "      <td>...</td>\n",
       "      <td>2017-10-05</td>\n",
       "      <td>550112</td>\n",
       "      <td>350665</td>\n",
       "      <td>350692</td>\n",
       "      <td>6</td>\n",
       "      <td>V</td>\n",
       "      <td>2017-10-13 00:00:00.000000</td>\n",
       "      <td>2</td>\n",
       "      <td>2</td>\n",
       "      <td>90</td>\n",
       "    </tr>\n",
       "    <tr>\n",
       "      <th>...</th>\n",
       "      <td>...</td>\n",
       "      <td>...</td>\n",
       "      <td>...</td>\n",
       "      <td>...</td>\n",
       "      <td>...</td>\n",
       "      <td>...</td>\n",
       "      <td>...</td>\n",
       "      <td>...</td>\n",
       "      <td>...</td>\n",
       "      <td>...</td>\n",
       "      <td>...</td>\n",
       "      <td>...</td>\n",
       "      <td>...</td>\n",
       "      <td>...</td>\n",
       "      <td>...</td>\n",
       "      <td>...</td>\n",
       "      <td>...</td>\n",
       "      <td>...</td>\n",
       "      <td>...</td>\n",
       "      <td>...</td>\n",
       "      <td>...</td>\n",
       "    </tr>\n",
       "    <tr>\n",
       "      <th>500522</th>\n",
       "      <td>437233</td>\n",
       "      <td>1</td>\n",
       "      <td>626</td>\n",
       "      <td>1</td>\n",
       "      <td>201650000043769</td>\n",
       "      <td>R</td>\n",
       "      <td>I</td>\n",
       "      <td>V</td>\n",
       "      <td>2016-05-31</td>\n",
       "      <td>531.0</td>\n",
       "      <td>...</td>\n",
       "      <td>2017-10-05</td>\n",
       "      <td>441743</td>\n",
       "      <td>361896</td>\n",
       "      <td>361923</td>\n",
       "      <td>1</td>\n",
       "      <td>V</td>\n",
       "      <td>2016-05-31 00:00:00.000000</td>\n",
       "      <td>6</td>\n",
       "      <td>6</td>\n",
       "      <td>140</td>\n",
       "    </tr>\n",
       "    <tr>\n",
       "      <th>500523</th>\n",
       "      <td>437234</td>\n",
       "      <td>1</td>\n",
       "      <td>585</td>\n",
       "      <td>1</td>\n",
       "      <td>201650000043774</td>\n",
       "      <td>R</td>\n",
       "      <td>I</td>\n",
       "      <td>V</td>\n",
       "      <td>2016-05-31</td>\n",
       "      <td>531.0</td>\n",
       "      <td>...</td>\n",
       "      <td>2017-10-05</td>\n",
       "      <td>441744</td>\n",
       "      <td>361897</td>\n",
       "      <td>361924</td>\n",
       "      <td>1</td>\n",
       "      <td>V</td>\n",
       "      <td>2016-05-31 00:00:00.000000</td>\n",
       "      <td>1</td>\n",
       "      <td>1</td>\n",
       "      <td>70</td>\n",
       "    </tr>\n",
       "    <tr>\n",
       "      <th>500524</th>\n",
       "      <td>437235</td>\n",
       "      <td>1</td>\n",
       "      <td>576</td>\n",
       "      <td>1</td>\n",
       "      <td>201650000043782</td>\n",
       "      <td>R</td>\n",
       "      <td>I</td>\n",
       "      <td>V</td>\n",
       "      <td>2016-05-31</td>\n",
       "      <td>531.0</td>\n",
       "      <td>...</td>\n",
       "      <td>2017-10-05</td>\n",
       "      <td>441745</td>\n",
       "      <td>361898</td>\n",
       "      <td>361925</td>\n",
       "      <td>5</td>\n",
       "      <td>V</td>\n",
       "      <td>2016-05-31 00:00:00.000000</td>\n",
       "      <td>3</td>\n",
       "      <td>3</td>\n",
       "      <td>100</td>\n",
       "    </tr>\n",
       "    <tr>\n",
       "      <th>500525</th>\n",
       "      <td>437236</td>\n",
       "      <td>1</td>\n",
       "      <td>768</td>\n",
       "      <td>1</td>\n",
       "      <td>201650000043794</td>\n",
       "      <td>R</td>\n",
       "      <td>I</td>\n",
       "      <td>R</td>\n",
       "      <td>2016-05-31</td>\n",
       "      <td>531.0</td>\n",
       "      <td>...</td>\n",
       "      <td>2017-10-05</td>\n",
       "      <td>441746</td>\n",
       "      <td>361899</td>\n",
       "      <td>361926</td>\n",
       "      <td>1</td>\n",
       "      <td>V</td>\n",
       "      <td>2016-05-31 00:00:00.000000</td>\n",
       "      <td>5</td>\n",
       "      <td>5</td>\n",
       "      <td>120</td>\n",
       "    </tr>\n",
       "    <tr>\n",
       "      <th>500526</th>\n",
       "      <td>437237</td>\n",
       "      <td>1</td>\n",
       "      <td>689</td>\n",
       "      <td>1</td>\n",
       "      <td>201650000043795</td>\n",
       "      <td>R</td>\n",
       "      <td>I</td>\n",
       "      <td>V</td>\n",
       "      <td>2016-05-31</td>\n",
       "      <td>531.0</td>\n",
       "      <td>...</td>\n",
       "      <td>2017-10-05</td>\n",
       "      <td>441747</td>\n",
       "      <td>152003</td>\n",
       "      <td>151925</td>\n",
       "      <td>5</td>\n",
       "      <td>V</td>\n",
       "      <td>2016-05-31 00:00:00.000000</td>\n",
       "      <td>1</td>\n",
       "      <td>1</td>\n",
       "      <td>80</td>\n",
       "    </tr>\n",
       "  </tbody>\n",
       "</table>\n",
       "<p>500527 rows × 25 columns</p>\n",
       "</div>"
      ],
      "text/plain": [
       "        CodePolice_id  codeCompagnie codeAgence  typeIntermediaire  \\\n",
       "0              545568              1        599                  1   \n",
       "1              545569              1        655                  1   \n",
       "2              545570              1        757                  1   \n",
       "3              545571              1        636                  1   \n",
       "4              545572              1        610                  1   \n",
       "...               ...            ...        ...                ...   \n",
       "500522         437233              1        626                  1   \n",
       "500523         437234              1        585                  1   \n",
       "500524         437235              1        576                  1   \n",
       "500525         437236              1        768                  1   \n",
       "500526         437237              1        689                  1   \n",
       "\n",
       "              numPolice naturePolice typePolice Etat_Police dateEffetPolice  \\\n",
       "0       20155.0076050/6            R          I           R      2015-10-13   \n",
       "1       20155.0076056/5            R          I           V      2015-10-13   \n",
       "2       20155.0076058/9            R          I           V      2015-10-13   \n",
       "3       20155.0076059/4            R          I           V      2015-10-13   \n",
       "4       20155.0076062/9            R          I           V      2015-10-13   \n",
       "...                 ...          ...        ...         ...             ...   \n",
       "500522  201650000043769            R          I           V      2016-05-31   \n",
       "500523  201650000043774            R          I           V      2016-05-31   \n",
       "500524  201650000043782            R          I           V      2016-05-31   \n",
       "500525  201650000043794            R          I           R      2016-05-31   \n",
       "500526  201650000043795            R          I           V      2016-05-31   \n",
       "\n",
       "        dateEcheancePolice  ...  dateInsertion  CodeBonusMalus_id  \\\n",
       "0                   1013.0  ...     2017-10-05             550108   \n",
       "1                   1013.0  ...     2017-10-05             550109   \n",
       "2                   1013.0  ...     2017-10-05             550110   \n",
       "3                   1013.0  ...     2017-10-05             550111   \n",
       "4                   1013.0  ...     2017-10-05             550112   \n",
       "...                    ...  ...            ...                ...   \n",
       "500522               531.0  ...     2017-10-05             441743   \n",
       "500523               531.0  ...     2017-10-05             441744   \n",
       "500524               531.0  ...     2017-10-05             441745   \n",
       "500525               531.0  ...     2017-10-05             441746   \n",
       "500526               531.0  ...     2017-10-05             441747   \n",
       "\n",
       "        CodeAssure_id CodeSouscripteur_id codeUsage ETAT_VEHICULE  \\\n",
       "0              444953              444957         1             V   \n",
       "1              444954              444958         5             V   \n",
       "2               99315               99234         6             V   \n",
       "3              444955              444959         1             V   \n",
       "4              350665              350692         6             V   \n",
       "...               ...                 ...       ...           ...   \n",
       "500522         361896              361923         1             V   \n",
       "500523         361897              361924         1             V   \n",
       "500524         361898              361925         5             V   \n",
       "500525         361899              361926         1             V   \n",
       "500526         152003              151925         5             V   \n",
       "\n",
       "                  DATE_AFFECTATION  classeBonusMalus  \\\n",
       "0       2017-10-13 00:00:00.000000                 5   \n",
       "1       2017-10-13 00:00:00.000000                 3   \n",
       "2       2016-10-13 00:00:00.000000                 1   \n",
       "3       2016-10-13 00:00:00.000000                 1   \n",
       "4       2017-10-13 00:00:00.000000                 2   \n",
       "...                            ...               ...   \n",
       "500522  2016-05-31 00:00:00.000000                 6   \n",
       "500523  2016-05-31 00:00:00.000000                 1   \n",
       "500524  2016-05-31 00:00:00.000000                 3   \n",
       "500525  2016-05-31 00:00:00.000000                 5   \n",
       "500526  2016-05-31 00:00:00.000000                 1   \n",
       "\n",
       "        classeBonusMalusCompagnie  coefBonusMalus  \n",
       "0                               5             120  \n",
       "1                               3             100  \n",
       "2                               1              80  \n",
       "3                               1              70  \n",
       "4                               2              90  \n",
       "...                           ...             ...  \n",
       "500522                          6             140  \n",
       "500523                          1              70  \n",
       "500524                          3             100  \n",
       "500525                          5             120  \n",
       "500526                          1              80  \n",
       "\n",
       "[500527 rows x 25 columns]"
      ]
     },
     "execution_count": 19,
     "metadata": {},
     "output_type": "execute_result"
    }
   ],
   "source": [
    "df_merge2"
   ]
  },
  {
   "cell_type": "code",
   "execution_count": 20,
   "metadata": {
    "colab": {
     "base_uri": "https://localhost:8080/"
    },
    "executionInfo": {
     "elapsed": 4,
     "status": "ok",
     "timestamp": 1627122013969,
     "user": {
      "displayName": "Aliii Khelifi",
      "photoUrl": "",
      "userId": "10316340169032043076"
     },
     "user_tz": -60
    },
    "id": "czIz43oxGht7",
    "outputId": "b341ec9e-c242-41cb-aad3-43ac4a610f09"
   },
   "outputs": [
    {
     "data": {
      "text/plain": [
       "(500527, 25)"
      ]
     },
     "execution_count": 20,
     "metadata": {},
     "output_type": "execute_result"
    }
   ],
   "source": [
    "df_merge2.shape"
   ]
  },
  {
   "cell_type": "code",
   "execution_count": 22,
   "metadata": {
    "id": "ktnxfS_gGr2j"
   },
   "outputs": [],
   "source": [
    "Assure = pd.read_csv(r\"Assure.csv\")"
   ]
  },
  {
   "cell_type": "code",
   "execution_count": 23,
   "metadata": {
    "colab": {
     "base_uri": "https://localhost:8080/",
     "height": 399
    },
    "executionInfo": {
     "elapsed": 10,
     "status": "ok",
     "timestamp": 1627122016347,
     "user": {
      "displayName": "Aliii Khelifi",
      "photoUrl": "",
      "userId": "10316340169032043076"
     },
     "user_tz": -60
    },
    "id": "SSKUgmAlG25L",
    "outputId": "b578d85b-0b0d-4d3d-ef19-41e3b2e8ed79"
   },
   "outputs": [
    {
     "data": {
      "text/html": [
       "<div>\n",
       "<style scoped>\n",
       "    .dataframe tbody tr th:only-of-type {\n",
       "        vertical-align: middle;\n",
       "    }\n",
       "\n",
       "    .dataframe tbody tr th {\n",
       "        vertical-align: top;\n",
       "    }\n",
       "\n",
       "    .dataframe thead th {\n",
       "        text-align: right;\n",
       "    }\n",
       "</style>\n",
       "<table border=\"1\" class=\"dataframe\">\n",
       "  <thead>\n",
       "    <tr style=\"text-align: right;\">\n",
       "      <th></th>\n",
       "      <th>CodeAssure_id</th>\n",
       "    </tr>\n",
       "  </thead>\n",
       "  <tbody>\n",
       "    <tr>\n",
       "      <th>0</th>\n",
       "      <td>753885</td>\n",
       "    </tr>\n",
       "    <tr>\n",
       "      <th>1</th>\n",
       "      <td>753886</td>\n",
       "    </tr>\n",
       "    <tr>\n",
       "      <th>2</th>\n",
       "      <td>753887</td>\n",
       "    </tr>\n",
       "    <tr>\n",
       "      <th>3</th>\n",
       "      <td>753888</td>\n",
       "    </tr>\n",
       "    <tr>\n",
       "      <th>4</th>\n",
       "      <td>753889</td>\n",
       "    </tr>\n",
       "    <tr>\n",
       "      <th>...</th>\n",
       "      <td>...</td>\n",
       "    </tr>\n",
       "    <tr>\n",
       "      <th>1041228</th>\n",
       "      <td>753880</td>\n",
       "    </tr>\n",
       "    <tr>\n",
       "      <th>1041229</th>\n",
       "      <td>753881</td>\n",
       "    </tr>\n",
       "    <tr>\n",
       "      <th>1041230</th>\n",
       "      <td>753882</td>\n",
       "    </tr>\n",
       "    <tr>\n",
       "      <th>1041231</th>\n",
       "      <td>753883</td>\n",
       "    </tr>\n",
       "    <tr>\n",
       "      <th>1041232</th>\n",
       "      <td>753884</td>\n",
       "    </tr>\n",
       "  </tbody>\n",
       "</table>\n",
       "<p>1041233 rows × 1 columns</p>\n",
       "</div>"
      ],
      "text/plain": [
       "         CodeAssure_id\n",
       "0               753885\n",
       "1               753886\n",
       "2               753887\n",
       "3               753888\n",
       "4               753889\n",
       "...                ...\n",
       "1041228         753880\n",
       "1041229         753881\n",
       "1041230         753882\n",
       "1041231         753883\n",
       "1041232         753884\n",
       "\n",
       "[1041233 rows x 1 columns]"
      ]
     },
     "execution_count": 23,
     "metadata": {},
     "output_type": "execute_result"
    }
   ],
   "source": [
    "Assure"
   ]
  },
  {
   "cell_type": "code",
   "execution_count": 24,
   "metadata": {
    "id": "jtlvTy5hG-0T"
   },
   "outputs": [],
   "source": [
    "df_merge3=pd.merge(Assure,df_merge2,left_on=\"CodeAssure_id\",right_on=\"CodeAssure_id\")"
   ]
  },
  {
   "cell_type": "code",
   "execution_count": 25,
   "metadata": {
    "colab": {
     "base_uri": "https://localhost:8080/",
     "height": 588
    },
    "executionInfo": {
     "elapsed": 7,
     "status": "ok",
     "timestamp": 1627340955002,
     "user": {
      "displayName": "Aliii Khelifi",
      "photoUrl": "",
      "userId": "10316340169032043076"
     },
     "user_tz": -60
    },
    "id": "OekpoCyNHCPn",
    "outputId": "b2f6795d-6530-439d-97c2-47613f01d3cd"
   },
   "outputs": [
    {
     "data": {
      "text/html": [
       "<div>\n",
       "<style scoped>\n",
       "    .dataframe tbody tr th:only-of-type {\n",
       "        vertical-align: middle;\n",
       "    }\n",
       "\n",
       "    .dataframe tbody tr th {\n",
       "        vertical-align: top;\n",
       "    }\n",
       "\n",
       "    .dataframe thead th {\n",
       "        text-align: right;\n",
       "    }\n",
       "</style>\n",
       "<table border=\"1\" class=\"dataframe\">\n",
       "  <thead>\n",
       "    <tr style=\"text-align: right;\">\n",
       "      <th></th>\n",
       "      <th>CodeAssure_id</th>\n",
       "      <th>CodePolice_id</th>\n",
       "      <th>codeCompagnie</th>\n",
       "      <th>codeAgence</th>\n",
       "      <th>typeIntermediaire</th>\n",
       "      <th>numPolice</th>\n",
       "      <th>naturePolice</th>\n",
       "      <th>typePolice</th>\n",
       "      <th>Etat_Police</th>\n",
       "      <th>dateEffetPolice</th>\n",
       "      <th>...</th>\n",
       "      <th>energie</th>\n",
       "      <th>dateInsertion</th>\n",
       "      <th>CodeBonusMalus_id</th>\n",
       "      <th>CodeSouscripteur_id</th>\n",
       "      <th>codeUsage</th>\n",
       "      <th>ETAT_VEHICULE</th>\n",
       "      <th>DATE_AFFECTATION</th>\n",
       "      <th>classeBonusMalus</th>\n",
       "      <th>classeBonusMalusCompagnie</th>\n",
       "      <th>coefBonusMalus</th>\n",
       "    </tr>\n",
       "  </thead>\n",
       "  <tbody>\n",
       "    <tr>\n",
       "      <th>0</th>\n",
       "      <td>753885</td>\n",
       "      <td>975337</td>\n",
       "      <td>14</td>\n",
       "      <td>55</td>\n",
       "      <td>2</td>\n",
       "      <td>555111122</td>\n",
       "      <td>R</td>\n",
       "      <td>I</td>\n",
       "      <td>V</td>\n",
       "      <td>2013-08-07</td>\n",
       "      <td>...</td>\n",
       "      <td>ESSENCE</td>\n",
       "      <td>2017-10-05</td>\n",
       "      <td>980120</td>\n",
       "      <td>753893</td>\n",
       "      <td>1</td>\n",
       "      <td>V</td>\n",
       "      <td>2017-08-07 00:00:00.000000</td>\n",
       "      <td>3</td>\n",
       "      <td>3</td>\n",
       "      <td>90</td>\n",
       "    </tr>\n",
       "    <tr>\n",
       "      <th>1</th>\n",
       "      <td>753886</td>\n",
       "      <td>975338</td>\n",
       "      <td>14</td>\n",
       "      <td>630</td>\n",
       "      <td>1</td>\n",
       "      <td>555027531</td>\n",
       "      <td>R</td>\n",
       "      <td>I</td>\n",
       "      <td>V</td>\n",
       "      <td>2013-08-07</td>\n",
       "      <td>...</td>\n",
       "      <td>GASOIL</td>\n",
       "      <td>2017-10-05</td>\n",
       "      <td>980121</td>\n",
       "      <td>753894</td>\n",
       "      <td>1</td>\n",
       "      <td>V</td>\n",
       "      <td>2017-08-07 00:00:00.000000</td>\n",
       "      <td>3</td>\n",
       "      <td>3</td>\n",
       "      <td>90</td>\n",
       "    </tr>\n",
       "    <tr>\n",
       "      <th>2</th>\n",
       "      <td>753887</td>\n",
       "      <td>975339</td>\n",
       "      <td>14</td>\n",
       "      <td>615</td>\n",
       "      <td>1</td>\n",
       "      <td>555026476</td>\n",
       "      <td>R</td>\n",
       "      <td>I</td>\n",
       "      <td>V</td>\n",
       "      <td>2013-02-26</td>\n",
       "      <td>...</td>\n",
       "      <td>GASOIL</td>\n",
       "      <td>2017-10-05</td>\n",
       "      <td>980122</td>\n",
       "      <td>753895</td>\n",
       "      <td>1</td>\n",
       "      <td>V</td>\n",
       "      <td>2017-02-26 00:00:00.000000</td>\n",
       "      <td>3</td>\n",
       "      <td>3</td>\n",
       "      <td>90</td>\n",
       "    </tr>\n",
       "    <tr>\n",
       "      <th>3</th>\n",
       "      <td>753888</td>\n",
       "      <td>975341</td>\n",
       "      <td>14</td>\n",
       "      <td>914</td>\n",
       "      <td>2</td>\n",
       "      <td>555285252</td>\n",
       "      <td>R</td>\n",
       "      <td>I</td>\n",
       "      <td>V</td>\n",
       "      <td>2016-10-13</td>\n",
       "      <td>...</td>\n",
       "      <td>ESSENCE</td>\n",
       "      <td>2017-10-05</td>\n",
       "      <td>980124</td>\n",
       "      <td>753896</td>\n",
       "      <td>1</td>\n",
       "      <td>V</td>\n",
       "      <td>2016-10-13 00:00:00.000000</td>\n",
       "      <td>2</td>\n",
       "      <td>2</td>\n",
       "      <td>80</td>\n",
       "    </tr>\n",
       "    <tr>\n",
       "      <th>4</th>\n",
       "      <td>753889</td>\n",
       "      <td>975342</td>\n",
       "      <td>14</td>\n",
       "      <td>336</td>\n",
       "      <td>1</td>\n",
       "      <td>555245309</td>\n",
       "      <td>R</td>\n",
       "      <td>I</td>\n",
       "      <td>V</td>\n",
       "      <td>2016-05-17</td>\n",
       "      <td>...</td>\n",
       "      <td>ESSENCE</td>\n",
       "      <td>2017-10-05</td>\n",
       "      <td>980125</td>\n",
       "      <td>753897</td>\n",
       "      <td>1</td>\n",
       "      <td>V</td>\n",
       "      <td>2016-05-17 00:00:00.000000</td>\n",
       "      <td>8</td>\n",
       "      <td>8</td>\n",
       "      <td>200</td>\n",
       "    </tr>\n",
       "    <tr>\n",
       "      <th>...</th>\n",
       "      <td>...</td>\n",
       "      <td>...</td>\n",
       "      <td>...</td>\n",
       "      <td>...</td>\n",
       "      <td>...</td>\n",
       "      <td>...</td>\n",
       "      <td>...</td>\n",
       "      <td>...</td>\n",
       "      <td>...</td>\n",
       "      <td>...</td>\n",
       "      <td>...</td>\n",
       "      <td>...</td>\n",
       "      <td>...</td>\n",
       "      <td>...</td>\n",
       "      <td>...</td>\n",
       "      <td>...</td>\n",
       "      <td>...</td>\n",
       "      <td>...</td>\n",
       "      <td>...</td>\n",
       "      <td>...</td>\n",
       "      <td>...</td>\n",
       "    </tr>\n",
       "    <tr>\n",
       "      <th>500522</th>\n",
       "      <td>753880</td>\n",
       "      <td>975330</td>\n",
       "      <td>14</td>\n",
       "      <td>907</td>\n",
       "      <td>1</td>\n",
       "      <td>504064518</td>\n",
       "      <td>R</td>\n",
       "      <td>I</td>\n",
       "      <td>V</td>\n",
       "      <td>2015-11-24</td>\n",
       "      <td>...</td>\n",
       "      <td>GASOIL</td>\n",
       "      <td>2017-10-05</td>\n",
       "      <td>980113</td>\n",
       "      <td>753888</td>\n",
       "      <td>5</td>\n",
       "      <td>V</td>\n",
       "      <td>2016-11-24 00:00:00.000000</td>\n",
       "      <td>6</td>\n",
       "      <td>6</td>\n",
       "      <td>170</td>\n",
       "    </tr>\n",
       "    <tr>\n",
       "      <th>500523</th>\n",
       "      <td>753881</td>\n",
       "      <td>975331</td>\n",
       "      <td>14</td>\n",
       "      <td>315</td>\n",
       "      <td>1</td>\n",
       "      <td>504062934</td>\n",
       "      <td>R</td>\n",
       "      <td>I</td>\n",
       "      <td>V</td>\n",
       "      <td>2012-01-24</td>\n",
       "      <td>...</td>\n",
       "      <td>ESSENCE</td>\n",
       "      <td>2017-10-05</td>\n",
       "      <td>980114</td>\n",
       "      <td>753889</td>\n",
       "      <td>1</td>\n",
       "      <td>V</td>\n",
       "      <td>2018-01-24 00:00:00.000000</td>\n",
       "      <td>2</td>\n",
       "      <td>2</td>\n",
       "      <td>80</td>\n",
       "    </tr>\n",
       "    <tr>\n",
       "      <th>500524</th>\n",
       "      <td>753882</td>\n",
       "      <td>975332</td>\n",
       "      <td>14</td>\n",
       "      <td>911</td>\n",
       "      <td>1</td>\n",
       "      <td>555021223</td>\n",
       "      <td>R</td>\n",
       "      <td>I</td>\n",
       "      <td>V</td>\n",
       "      <td>2013-03-30</td>\n",
       "      <td>...</td>\n",
       "      <td>ESSENCE</td>\n",
       "      <td>2017-10-05</td>\n",
       "      <td>980115</td>\n",
       "      <td>753890</td>\n",
       "      <td>1</td>\n",
       "      <td>V</td>\n",
       "      <td>2017-03-30 00:00:00.000000</td>\n",
       "      <td>3</td>\n",
       "      <td>3</td>\n",
       "      <td>90</td>\n",
       "    </tr>\n",
       "    <tr>\n",
       "      <th>500525</th>\n",
       "      <td>753883</td>\n",
       "      <td>975334</td>\n",
       "      <td>14</td>\n",
       "      <td>618</td>\n",
       "      <td>1</td>\n",
       "      <td>555026741</td>\n",
       "      <td>R</td>\n",
       "      <td>I</td>\n",
       "      <td>V</td>\n",
       "      <td>2013-03-06</td>\n",
       "      <td>...</td>\n",
       "      <td>GASOIL</td>\n",
       "      <td>2017-10-05</td>\n",
       "      <td>980117</td>\n",
       "      <td>753891</td>\n",
       "      <td>1</td>\n",
       "      <td>V</td>\n",
       "      <td>2016-03-06 00:00:00.000000</td>\n",
       "      <td>1</td>\n",
       "      <td>1</td>\n",
       "      <td>70</td>\n",
       "    </tr>\n",
       "    <tr>\n",
       "      <th>500526</th>\n",
       "      <td>753884</td>\n",
       "      <td>975336</td>\n",
       "      <td>14</td>\n",
       "      <td>248</td>\n",
       "      <td>1</td>\n",
       "      <td>555030972</td>\n",
       "      <td>R</td>\n",
       "      <td>I</td>\n",
       "      <td>V</td>\n",
       "      <td>2014-05-03</td>\n",
       "      <td>...</td>\n",
       "      <td>ESSENCE</td>\n",
       "      <td>2017-10-05</td>\n",
       "      <td>980119</td>\n",
       "      <td>753892</td>\n",
       "      <td>1</td>\n",
       "      <td>V</td>\n",
       "      <td>2016-05-03 00:00:00.000000</td>\n",
       "      <td>4</td>\n",
       "      <td>4</td>\n",
       "      <td>100</td>\n",
       "    </tr>\n",
       "  </tbody>\n",
       "</table>\n",
       "<p>500527 rows × 25 columns</p>\n",
       "</div>"
      ],
      "text/plain": [
       "        CodeAssure_id  CodePolice_id  codeCompagnie codeAgence  \\\n",
       "0              753885         975337             14         55   \n",
       "1              753886         975338             14        630   \n",
       "2              753887         975339             14        615   \n",
       "3              753888         975341             14        914   \n",
       "4              753889         975342             14        336   \n",
       "...               ...            ...            ...        ...   \n",
       "500522         753880         975330             14        907   \n",
       "500523         753881         975331             14        315   \n",
       "500524         753882         975332             14        911   \n",
       "500525         753883         975334             14        618   \n",
       "500526         753884         975336             14        248   \n",
       "\n",
       "        typeIntermediaire  numPolice naturePolice typePolice Etat_Police  \\\n",
       "0                       2  555111122            R          I           V   \n",
       "1                       1  555027531            R          I           V   \n",
       "2                       1  555026476            R          I           V   \n",
       "3                       2  555285252            R          I           V   \n",
       "4                       1  555245309            R          I           V   \n",
       "...                   ...        ...          ...        ...         ...   \n",
       "500522                  1  504064518            R          I           V   \n",
       "500523                  1  504062934            R          I           V   \n",
       "500524                  1  555021223            R          I           V   \n",
       "500525                  1  555026741            R          I           V   \n",
       "500526                  1  555030972            R          I           V   \n",
       "\n",
       "       dateEffetPolice  ...  energie  dateInsertion  CodeBonusMalus_id  \\\n",
       "0           2013-08-07  ...  ESSENCE     2017-10-05             980120   \n",
       "1           2013-08-07  ...   GASOIL     2017-10-05             980121   \n",
       "2           2013-02-26  ...   GASOIL     2017-10-05             980122   \n",
       "3           2016-10-13  ...  ESSENCE     2017-10-05             980124   \n",
       "4           2016-05-17  ...  ESSENCE     2017-10-05             980125   \n",
       "...                ...  ...      ...            ...                ...   \n",
       "500522      2015-11-24  ...   GASOIL     2017-10-05             980113   \n",
       "500523      2012-01-24  ...  ESSENCE     2017-10-05             980114   \n",
       "500524      2013-03-30  ...  ESSENCE     2017-10-05             980115   \n",
       "500525      2013-03-06  ...   GASOIL     2017-10-05             980117   \n",
       "500526      2014-05-03  ...  ESSENCE     2017-10-05             980119   \n",
       "\n",
       "        CodeSouscripteur_id codeUsage ETAT_VEHICULE  \\\n",
       "0                    753893         1             V   \n",
       "1                    753894         1             V   \n",
       "2                    753895         1             V   \n",
       "3                    753896         1             V   \n",
       "4                    753897         1             V   \n",
       "...                     ...       ...           ...   \n",
       "500522               753888         5             V   \n",
       "500523               753889         1             V   \n",
       "500524               753890         1             V   \n",
       "500525               753891         1             V   \n",
       "500526               753892         1             V   \n",
       "\n",
       "                  DATE_AFFECTATION  classeBonusMalus  \\\n",
       "0       2017-08-07 00:00:00.000000                 3   \n",
       "1       2017-08-07 00:00:00.000000                 3   \n",
       "2       2017-02-26 00:00:00.000000                 3   \n",
       "3       2016-10-13 00:00:00.000000                 2   \n",
       "4       2016-05-17 00:00:00.000000                 8   \n",
       "...                            ...               ...   \n",
       "500522  2016-11-24 00:00:00.000000                 6   \n",
       "500523  2018-01-24 00:00:00.000000                 2   \n",
       "500524  2017-03-30 00:00:00.000000                 3   \n",
       "500525  2016-03-06 00:00:00.000000                 1   \n",
       "500526  2016-05-03 00:00:00.000000                 4   \n",
       "\n",
       "        classeBonusMalusCompagnie  coefBonusMalus  \n",
       "0                               3              90  \n",
       "1                               3              90  \n",
       "2                               3              90  \n",
       "3                               2              80  \n",
       "4                               8             200  \n",
       "...                           ...             ...  \n",
       "500522                          6             170  \n",
       "500523                          2              80  \n",
       "500524                          3              90  \n",
       "500525                          1              70  \n",
       "500526                          4             100  \n",
       "\n",
       "[500527 rows x 25 columns]"
      ]
     },
     "execution_count": 25,
     "metadata": {},
     "output_type": "execute_result"
    }
   ],
   "source": [
    "df_merge3"
   ]
  },
  {
   "cell_type": "code",
   "execution_count": 26,
   "metadata": {
    "colab": {
     "base_uri": "https://localhost:8080/"
    },
    "executionInfo": {
     "elapsed": 243,
     "status": "ok",
     "timestamp": 1627889071351,
     "user": {
      "displayName": "Aliii Khelifi",
      "photoUrl": "",
      "userId": "10316340169032043076"
     },
     "user_tz": -60
    },
    "id": "0GWFr68ev7k0",
    "outputId": "0b28dfb6-d909-4e89-a79f-aafa73346bb6"
   },
   "outputs": [
    {
     "data": {
      "text/plain": [
       "Index(['CodeAssure_id', 'CodePolice_id', 'codeCompagnie', 'codeAgence',\n",
       "       'typeIntermediaire', 'numPolice', 'naturePolice', 'typePolice',\n",
       "       'Etat_Police', 'dateEffetPolice', 'dateEcheancePolice',\n",
       "       'CodeVehicule_id', 'codeMarque', 'puissanceFiscal',\n",
       "       'typeImmatriculation', 'energie', 'dateInsertion', 'CodeBonusMalus_id',\n",
       "       'CodeSouscripteur_id', 'codeUsage', 'ETAT_VEHICULE', 'DATE_AFFECTATION',\n",
       "       'classeBonusMalus', 'classeBonusMalusCompagnie', 'coefBonusMalus'],\n",
       "      dtype='object')"
      ]
     },
     "execution_count": 26,
     "metadata": {},
     "output_type": "execute_result"
    }
   ],
   "source": [
    "df_merge3.columns"
   ]
  },
  {
   "cell_type": "code",
   "execution_count": 28,
   "metadata": {
    "id": "5JMaCbX4zdME"
   },
   "outputs": [],
   "source": [
    "df_merge3.to_csv(r\"data_viz.csv\",index=False)"
   ]
  },
  {
   "cell_type": "code",
   "execution_count": 29,
   "metadata": {
    "colab": {
     "base_uri": "https://localhost:8080/"
    },
    "executionInfo": {
     "elapsed": 1964,
     "status": "ok",
     "timestamp": 1631485220428,
     "user": {
      "displayName": "Aliii Khelifi",
      "photoUrl": "https://lh3.googleusercontent.com/a/default-user=s64",
      "userId": "10316340169032043076"
     },
     "user_tz": -60
    },
    "id": "qlkAHBIcXks5",
    "outputId": "c65ac3e7-f908-4c1c-e92a-f536fae1dc2d"
   },
   "outputs": [
    {
     "name": "stderr",
     "output_type": "stream",
     "text": [
      "C:\\Users\\ALI\\anaconda3\\lib\\site-packages\\IPython\\core\\interactiveshell.py:3165: DtypeWarning: Columns (10,13,14) have mixed types.Specify dtype option on import or set low_memory=False.\n",
      "  has_raised = await self.run_ast_nodes(code_ast.body, cell_name,\n"
     ]
    }
   ],
   "source": [
    "Sinistre = pd.read_csv(r\"sinistre_clean2.csv\")"
   ]
  },
  {
   "cell_type": "code",
   "execution_count": 30,
   "metadata": {
    "colab": {
     "base_uri": "https://localhost:8080/"
    },
    "executionInfo": {
     "elapsed": 6,
     "status": "ok",
     "timestamp": 1627340959998,
     "user": {
      "displayName": "Aliii Khelifi",
      "photoUrl": "",
      "userId": "10316340169032043076"
     },
     "user_tz": -60
    },
    "id": "RRnce1bPX6rD",
    "outputId": "072d6a93-2613-48f4-8c01-f6b1012f6bbb"
   },
   "outputs": [
    {
     "data": {
      "text/plain": [
       "(585267, 23)"
      ]
     },
     "execution_count": 30,
     "metadata": {},
     "output_type": "execute_result"
    }
   ],
   "source": [
    "Sinistre.shape"
   ]
  },
  {
   "cell_type": "code",
   "execution_count": 31,
   "metadata": {
    "colab": {
     "base_uri": "https://localhost:8080/",
     "height": 436
    },
    "executionInfo": {
     "elapsed": 429,
     "status": "ok",
     "timestamp": 1627122029235,
     "user": {
      "displayName": "Aliii Khelifi",
      "photoUrl": "",
      "userId": "10316340169032043076"
     },
     "user_tz": -60
    },
    "id": "Zv1TSACeYQ0Y",
    "outputId": "dd4d3f4b-e632-4f4c-9b87-5a9ed6462d2f"
   },
   "outputs": [
    {
     "data": {
      "text/html": [
       "<div>\n",
       "<style scoped>\n",
       "    .dataframe tbody tr th:only-of-type {\n",
       "        vertical-align: middle;\n",
       "    }\n",
       "\n",
       "    .dataframe tbody tr th {\n",
       "        vertical-align: top;\n",
       "    }\n",
       "\n",
       "    .dataframe thead th {\n",
       "        text-align: right;\n",
       "    }\n",
       "</style>\n",
       "<table border=\"1\" class=\"dataframe\">\n",
       "  <thead>\n",
       "    <tr style=\"text-align: right;\">\n",
       "      <th></th>\n",
       "      <th>Unnamed: 0</th>\n",
       "      <th>Unnamed: 1</th>\n",
       "      <th>Unnamed: 2</th>\n",
       "      <th>Unnamed: 3</th>\n",
       "      <th>dateDeSurvenanceDuSinistre</th>\n",
       "      <th>heureSurvanceDusinistre</th>\n",
       "      <th>dateOuvertureDuSinistre</th>\n",
       "      <th>lieuDuSinistre</th>\n",
       "      <th>identificationTiers</th>\n",
       "      <th>pourcentadeDeResponsabilite</th>\n",
       "      <th>...</th>\n",
       "      <th>numeroImmatriculationVehiculeAdverse</th>\n",
       "      <th>typeImmatriculationVehiculeAdverse</th>\n",
       "      <th>mouvementDusinistre</th>\n",
       "      <th>natureDuSinistre</th>\n",
       "      <th>Calculer_Sinistre</th>\n",
       "      <th>lieuDuSinistreajuste</th>\n",
       "      <th>heureSurvanceDusinistreajuste</th>\n",
       "      <th>fraud</th>\n",
       "      <th>mois</th>\n",
       "      <th>saison</th>\n",
       "    </tr>\n",
       "  </thead>\n",
       "  <tbody>\n",
       "    <tr>\n",
       "      <th>0</th>\n",
       "      <td>NaN</td>\n",
       "      <td>NaN</td>\n",
       "      <td>NaN</td>\n",
       "      <td>NaN</td>\n",
       "      <td>2017-12-18</td>\n",
       "      <td>0.0</td>\n",
       "      <td>2017-12-18</td>\n",
       "      <td>NaN</td>\n",
       "      <td>NaN</td>\n",
       "      <td>0</td>\n",
       "      <td>...</td>\n",
       "      <td>1651TU133</td>\n",
       "      <td>TU</td>\n",
       "      <td>2.0</td>\n",
       "      <td>M</td>\n",
       "      <td>1</td>\n",
       "      <td>inconnu</td>\n",
       "      <td>0</td>\n",
       "      <td>0</td>\n",
       "      <td>12</td>\n",
       "      <td>hiver</td>\n",
       "    </tr>\n",
       "    <tr>\n",
       "      <th>1</th>\n",
       "      <td>NaN</td>\n",
       "      <td>NaN</td>\n",
       "      <td>NaN</td>\n",
       "      <td>NaN</td>\n",
       "      <td>2018-02-16</td>\n",
       "      <td>0.0</td>\n",
       "      <td>2018-02-16</td>\n",
       "      <td>NaN</td>\n",
       "      <td>NaN</td>\n",
       "      <td>0</td>\n",
       "      <td>...</td>\n",
       "      <td>7046TU163</td>\n",
       "      <td>TU</td>\n",
       "      <td>2.0</td>\n",
       "      <td>M</td>\n",
       "      <td>1</td>\n",
       "      <td>inconnu</td>\n",
       "      <td>0</td>\n",
       "      <td>0</td>\n",
       "      <td>2</td>\n",
       "      <td>hiver</td>\n",
       "    </tr>\n",
       "    <tr>\n",
       "      <th>2</th>\n",
       "      <td>NaN</td>\n",
       "      <td>NaN</td>\n",
       "      <td>NaN</td>\n",
       "      <td>NaN</td>\n",
       "      <td>2017-03-11</td>\n",
       "      <td>0.0</td>\n",
       "      <td>2017-03-27</td>\n",
       "      <td>NaN</td>\n",
       "      <td>NaN</td>\n",
       "      <td>100</td>\n",
       "      <td>...</td>\n",
       "      <td>3626TU159</td>\n",
       "      <td>TU</td>\n",
       "      <td>3.0</td>\n",
       "      <td>M</td>\n",
       "      <td>1</td>\n",
       "      <td>inconnu</td>\n",
       "      <td>0</td>\n",
       "      <td>0</td>\n",
       "      <td>3</td>\n",
       "      <td>printemps</td>\n",
       "    </tr>\n",
       "    <tr>\n",
       "      <th>3</th>\n",
       "      <td>NaN</td>\n",
       "      <td>NaN</td>\n",
       "      <td>NaN</td>\n",
       "      <td>NaN</td>\n",
       "      <td>2017-11-23</td>\n",
       "      <td>0.0</td>\n",
       "      <td>2017-11-27</td>\n",
       "      <td>NaN</td>\n",
       "      <td>NaN</td>\n",
       "      <td>0</td>\n",
       "      <td>...</td>\n",
       "      <td>8312TU163</td>\n",
       "      <td>TU</td>\n",
       "      <td>3.0</td>\n",
       "      <td>M</td>\n",
       "      <td>1</td>\n",
       "      <td>inconnu</td>\n",
       "      <td>0</td>\n",
       "      <td>0</td>\n",
       "      <td>11</td>\n",
       "      <td>automne</td>\n",
       "    </tr>\n",
       "    <tr>\n",
       "      <th>4</th>\n",
       "      <td>NaN</td>\n",
       "      <td>NaN</td>\n",
       "      <td>NaN</td>\n",
       "      <td>NaN</td>\n",
       "      <td>2017-02-23</td>\n",
       "      <td>0.0</td>\n",
       "      <td>2017-03-02</td>\n",
       "      <td>NaN</td>\n",
       "      <td>NaN</td>\n",
       "      <td>0</td>\n",
       "      <td>...</td>\n",
       "      <td>9213TU96</td>\n",
       "      <td>TU</td>\n",
       "      <td>3.0</td>\n",
       "      <td>M</td>\n",
       "      <td>1</td>\n",
       "      <td>inconnu</td>\n",
       "      <td>0</td>\n",
       "      <td>0</td>\n",
       "      <td>3</td>\n",
       "      <td>printemps</td>\n",
       "    </tr>\n",
       "    <tr>\n",
       "      <th>...</th>\n",
       "      <td>...</td>\n",
       "      <td>...</td>\n",
       "      <td>...</td>\n",
       "      <td>...</td>\n",
       "      <td>...</td>\n",
       "      <td>...</td>\n",
       "      <td>...</td>\n",
       "      <td>...</td>\n",
       "      <td>...</td>\n",
       "      <td>...</td>\n",
       "      <td>...</td>\n",
       "      <td>...</td>\n",
       "      <td>...</td>\n",
       "      <td>...</td>\n",
       "      <td>...</td>\n",
       "      <td>...</td>\n",
       "      <td>...</td>\n",
       "      <td>...</td>\n",
       "      <td>...</td>\n",
       "      <td>...</td>\n",
       "      <td>...</td>\n",
       "    </tr>\n",
       "    <tr>\n",
       "      <th>585262</th>\n",
       "      <td>NaN</td>\n",
       "      <td>NaN</td>\n",
       "      <td>NaN</td>\n",
       "      <td>NaN</td>\n",
       "      <td>2017-05-24</td>\n",
       "      <td>NaN</td>\n",
       "      <td>2017-05-24</td>\n",
       "      <td>NaN</td>\n",
       "      <td>NaN</td>\n",
       "      <td>100</td>\n",
       "      <td>...</td>\n",
       "      <td>NaN</td>\n",
       "      <td>NaN</td>\n",
       "      <td>NaN</td>\n",
       "      <td>M</td>\n",
       "      <td>0</td>\n",
       "      <td>inconnu</td>\n",
       "      <td>0</td>\n",
       "      <td>0</td>\n",
       "      <td>5</td>\n",
       "      <td>printemps</td>\n",
       "    </tr>\n",
       "    <tr>\n",
       "      <th>585263</th>\n",
       "      <td>NaN</td>\n",
       "      <td>NaN</td>\n",
       "      <td>NaN</td>\n",
       "      <td>NaN</td>\n",
       "      <td>2017-05-24</td>\n",
       "      <td>NaN</td>\n",
       "      <td>2017-05-24</td>\n",
       "      <td>NaN</td>\n",
       "      <td>NaN</td>\n",
       "      <td>100</td>\n",
       "      <td>...</td>\n",
       "      <td>NaN</td>\n",
       "      <td>NaN</td>\n",
       "      <td>NaN</td>\n",
       "      <td>M</td>\n",
       "      <td>0</td>\n",
       "      <td>inconnu</td>\n",
       "      <td>0</td>\n",
       "      <td>0</td>\n",
       "      <td>5</td>\n",
       "      <td>printemps</td>\n",
       "    </tr>\n",
       "    <tr>\n",
       "      <th>585264</th>\n",
       "      <td>NaN</td>\n",
       "      <td>NaN</td>\n",
       "      <td>NaN</td>\n",
       "      <td>NaN</td>\n",
       "      <td>2017-05-24</td>\n",
       "      <td>NaN</td>\n",
       "      <td>2017-05-24</td>\n",
       "      <td>NaN</td>\n",
       "      <td>NaN</td>\n",
       "      <td>100</td>\n",
       "      <td>...</td>\n",
       "      <td>NaN</td>\n",
       "      <td>NaN</td>\n",
       "      <td>NaN</td>\n",
       "      <td>M</td>\n",
       "      <td>0</td>\n",
       "      <td>inconnu</td>\n",
       "      <td>0</td>\n",
       "      <td>0</td>\n",
       "      <td>5</td>\n",
       "      <td>printemps</td>\n",
       "    </tr>\n",
       "    <tr>\n",
       "      <th>585265</th>\n",
       "      <td>NaN</td>\n",
       "      <td>NaN</td>\n",
       "      <td>NaN</td>\n",
       "      <td>NaN</td>\n",
       "      <td>2017-03-17</td>\n",
       "      <td>NaN</td>\n",
       "      <td>2017-03-17</td>\n",
       "      <td>NaN</td>\n",
       "      <td>NaN</td>\n",
       "      <td>0</td>\n",
       "      <td>...</td>\n",
       "      <td>NaN</td>\n",
       "      <td>NaN</td>\n",
       "      <td>NaN</td>\n",
       "      <td>M</td>\n",
       "      <td>0</td>\n",
       "      <td>inconnu</td>\n",
       "      <td>0</td>\n",
       "      <td>0</td>\n",
       "      <td>3</td>\n",
       "      <td>printemps</td>\n",
       "    </tr>\n",
       "    <tr>\n",
       "      <th>585266</th>\n",
       "      <td>NaN</td>\n",
       "      <td>NaN</td>\n",
       "      <td>NaN</td>\n",
       "      <td>NaN</td>\n",
       "      <td>2017-03-17</td>\n",
       "      <td>NaN</td>\n",
       "      <td>2017-03-17</td>\n",
       "      <td>NaN</td>\n",
       "      <td>NaN</td>\n",
       "      <td>0</td>\n",
       "      <td>...</td>\n",
       "      <td>NaN</td>\n",
       "      <td>NaN</td>\n",
       "      <td>NaN</td>\n",
       "      <td>M</td>\n",
       "      <td>-1</td>\n",
       "      <td>inconnu</td>\n",
       "      <td>0</td>\n",
       "      <td>0</td>\n",
       "      <td>3</td>\n",
       "      <td>printemps</td>\n",
       "    </tr>\n",
       "  </tbody>\n",
       "</table>\n",
       "<p>585267 rows × 23 columns</p>\n",
       "</div>"
      ],
      "text/plain": [
       "        Unnamed: 0  Unnamed: 1  Unnamed: 2  Unnamed: 3  \\\n",
       "0              NaN         NaN         NaN         NaN   \n",
       "1              NaN         NaN         NaN         NaN   \n",
       "2              NaN         NaN         NaN         NaN   \n",
       "3              NaN         NaN         NaN         NaN   \n",
       "4              NaN         NaN         NaN         NaN   \n",
       "...            ...         ...         ...         ...   \n",
       "585262         NaN         NaN         NaN         NaN   \n",
       "585263         NaN         NaN         NaN         NaN   \n",
       "585264         NaN         NaN         NaN         NaN   \n",
       "585265         NaN         NaN         NaN         NaN   \n",
       "585266         NaN         NaN         NaN         NaN   \n",
       "\n",
       "       dateDeSurvenanceDuSinistre  heureSurvanceDusinistre  \\\n",
       "0                      2017-12-18                      0.0   \n",
       "1                      2018-02-16                      0.0   \n",
       "2                      2017-03-11                      0.0   \n",
       "3                      2017-11-23                      0.0   \n",
       "4                      2017-02-23                      0.0   \n",
       "...                           ...                      ...   \n",
       "585262                 2017-05-24                      NaN   \n",
       "585263                 2017-05-24                      NaN   \n",
       "585264                 2017-05-24                      NaN   \n",
       "585265                 2017-03-17                      NaN   \n",
       "585266                 2017-03-17                      NaN   \n",
       "\n",
       "       dateOuvertureDuSinistre lieuDuSinistre identificationTiers  \\\n",
       "0                   2017-12-18            NaN                 NaN   \n",
       "1                   2018-02-16            NaN                 NaN   \n",
       "2                   2017-03-27            NaN                 NaN   \n",
       "3                   2017-11-27            NaN                 NaN   \n",
       "4                   2017-03-02            NaN                 NaN   \n",
       "...                        ...            ...                 ...   \n",
       "585262              2017-05-24            NaN                 NaN   \n",
       "585263              2017-05-24            NaN                 NaN   \n",
       "585264              2017-05-24            NaN                 NaN   \n",
       "585265              2017-03-17            NaN                 NaN   \n",
       "585266              2017-03-17            NaN                 NaN   \n",
       "\n",
       "        pourcentadeDeResponsabilite  ... numeroImmatriculationVehiculeAdverse  \\\n",
       "0                                 0  ...                            1651TU133   \n",
       "1                                 0  ...                            7046TU163   \n",
       "2                               100  ...                            3626TU159   \n",
       "3                                 0  ...                            8312TU163   \n",
       "4                                 0  ...                             9213TU96   \n",
       "...                             ...  ...                                  ...   \n",
       "585262                          100  ...                                  NaN   \n",
       "585263                          100  ...                                  NaN   \n",
       "585264                          100  ...                                  NaN   \n",
       "585265                            0  ...                                  NaN   \n",
       "585266                            0  ...                                  NaN   \n",
       "\n",
       "        typeImmatriculationVehiculeAdverse  mouvementDusinistre  \\\n",
       "0                                       TU                  2.0   \n",
       "1                                       TU                  2.0   \n",
       "2                                       TU                  3.0   \n",
       "3                                       TU                  3.0   \n",
       "4                                       TU                  3.0   \n",
       "...                                    ...                  ...   \n",
       "585262                                 NaN                  NaN   \n",
       "585263                                 NaN                  NaN   \n",
       "585264                                 NaN                  NaN   \n",
       "585265                                 NaN                  NaN   \n",
       "585266                                 NaN                  NaN   \n",
       "\n",
       "       natureDuSinistre Calculer_Sinistre  lieuDuSinistreajuste  \\\n",
       "0                     M                 1               inconnu   \n",
       "1                     M                 1               inconnu   \n",
       "2                     M                 1               inconnu   \n",
       "3                     M                 1               inconnu   \n",
       "4                     M                 1               inconnu   \n",
       "...                 ...               ...                   ...   \n",
       "585262                M                 0               inconnu   \n",
       "585263                M                 0               inconnu   \n",
       "585264                M                 0               inconnu   \n",
       "585265                M                 0               inconnu   \n",
       "585266                M                -1               inconnu   \n",
       "\n",
       "       heureSurvanceDusinistreajuste  fraud mois     saison  \n",
       "0                                  0      0   12      hiver  \n",
       "1                                  0      0    2      hiver  \n",
       "2                                  0      0    3  printemps  \n",
       "3                                  0      0   11    automne  \n",
       "4                                  0      0    3  printemps  \n",
       "...                              ...    ...  ...        ...  \n",
       "585262                             0      0    5  printemps  \n",
       "585263                             0      0    5  printemps  \n",
       "585264                             0      0    5  printemps  \n",
       "585265                             0      0    3  printemps  \n",
       "585266                             0      0    3  printemps  \n",
       "\n",
       "[585267 rows x 23 columns]"
      ]
     },
     "execution_count": 31,
     "metadata": {},
     "output_type": "execute_result"
    }
   ],
   "source": [
    "Sinistre"
   ]
  },
  {
   "cell_type": "code",
   "execution_count": 32,
   "metadata": {
    "colab": {
     "base_uri": "https://localhost:8080/"
    },
    "executionInfo": {
     "elapsed": 610,
     "status": "ok",
     "timestamp": 1627122031829,
     "user": {
      "displayName": "Aliii Khelifi",
      "photoUrl": "",
      "userId": "10316340169032043076"
     },
     "user_tz": -60
    },
    "id": "9nufU7vaY6fE",
    "outputId": "d244aac9-5487-411a-adb3-63e056ebe60d"
   },
   "outputs": [
    {
     "data": {
      "text/plain": [
       "Unnamed: 0                              585267\n",
       "Unnamed: 1                              585267\n",
       "Unnamed: 2                              585267\n",
       "Unnamed: 3                              585267\n",
       "dateDeSurvenanceDuSinistre                   0\n",
       "heureSurvanceDusinistre                  24332\n",
       "dateOuvertureDuSinistre                      0\n",
       "lieuDuSinistre                          361882\n",
       "identificationTiers                     369844\n",
       "pourcentadeDeResponsabilite                  0\n",
       "numeroDePoliceCompagnieAdverse          380121\n",
       "codeCompagnieAdverse                    302615\n",
       "porcentageCompagnieAdverse                   0\n",
       "numeroImmatriculationVehiculeAdverse    364894\n",
       "typeImmatriculationVehiculeAdverse      358613\n",
       "mouvementDusinistre                      24332\n",
       "natureDuSinistre                             0\n",
       "Calculer_Sinistre                            0\n",
       "lieuDuSinistreajuste                         0\n",
       "heureSurvanceDusinistreajuste                0\n",
       "fraud                                        0\n",
       "mois                                         0\n",
       "saison                                       0\n",
       "dtype: int64"
      ]
     },
     "execution_count": 32,
     "metadata": {},
     "output_type": "execute_result"
    }
   ],
   "source": [
    "Sinistre.isna().sum()"
   ]
  },
  {
   "cell_type": "code",
   "execution_count": 33,
   "metadata": {
    "id": "qJ7K9rvJZKDy"
   },
   "outputs": [],
   "source": [
    "Sinistre_clean1 = Sinistre.drop(Sinistre.columns[[0, 1, 2, 3, 8]], axis=1)"
   ]
  },
  {
   "cell_type": "code",
   "execution_count": 34,
   "metadata": {
    "colab": {
     "base_uri": "https://localhost:8080/",
     "height": 419
    },
    "executionInfo": {
     "elapsed": 425,
     "status": "ok",
     "timestamp": 1627122035541,
     "user": {
      "displayName": "Aliii Khelifi",
      "photoUrl": "",
      "userId": "10316340169032043076"
     },
     "user_tz": -60
    },
    "id": "4-K5O5YKdD8e",
    "outputId": "0d10df4f-cc90-4828-f383-6de39a6eab7a"
   },
   "outputs": [
    {
     "data": {
      "text/html": [
       "<div>\n",
       "<style scoped>\n",
       "    .dataframe tbody tr th:only-of-type {\n",
       "        vertical-align: middle;\n",
       "    }\n",
       "\n",
       "    .dataframe tbody tr th {\n",
       "        vertical-align: top;\n",
       "    }\n",
       "\n",
       "    .dataframe thead th {\n",
       "        text-align: right;\n",
       "    }\n",
       "</style>\n",
       "<table border=\"1\" class=\"dataframe\">\n",
       "  <thead>\n",
       "    <tr style=\"text-align: right;\">\n",
       "      <th></th>\n",
       "      <th>dateDeSurvenanceDuSinistre</th>\n",
       "      <th>heureSurvanceDusinistre</th>\n",
       "      <th>dateOuvertureDuSinistre</th>\n",
       "      <th>lieuDuSinistre</th>\n",
       "      <th>pourcentadeDeResponsabilite</th>\n",
       "      <th>numeroDePoliceCompagnieAdverse</th>\n",
       "      <th>codeCompagnieAdverse</th>\n",
       "      <th>porcentageCompagnieAdverse</th>\n",
       "      <th>numeroImmatriculationVehiculeAdverse</th>\n",
       "      <th>typeImmatriculationVehiculeAdverse</th>\n",
       "      <th>mouvementDusinistre</th>\n",
       "      <th>natureDuSinistre</th>\n",
       "      <th>Calculer_Sinistre</th>\n",
       "      <th>lieuDuSinistreajuste</th>\n",
       "      <th>heureSurvanceDusinistreajuste</th>\n",
       "      <th>fraud</th>\n",
       "      <th>mois</th>\n",
       "      <th>saison</th>\n",
       "    </tr>\n",
       "  </thead>\n",
       "  <tbody>\n",
       "    <tr>\n",
       "      <th>0</th>\n",
       "      <td>2017-12-18</td>\n",
       "      <td>0.0</td>\n",
       "      <td>2017-12-18</td>\n",
       "      <td>NaN</td>\n",
       "      <td>0</td>\n",
       "      <td>834736</td>\n",
       "      <td>11.0</td>\n",
       "      <td>0</td>\n",
       "      <td>1651TU133</td>\n",
       "      <td>TU</td>\n",
       "      <td>2.0</td>\n",
       "      <td>M</td>\n",
       "      <td>1</td>\n",
       "      <td>inconnu</td>\n",
       "      <td>0</td>\n",
       "      <td>0</td>\n",
       "      <td>12</td>\n",
       "      <td>hiver</td>\n",
       "    </tr>\n",
       "    <tr>\n",
       "      <th>1</th>\n",
       "      <td>2018-02-16</td>\n",
       "      <td>0.0</td>\n",
       "      <td>2018-02-16</td>\n",
       "      <td>NaN</td>\n",
       "      <td>0</td>\n",
       "      <td>NaN</td>\n",
       "      <td>1.0</td>\n",
       "      <td>0</td>\n",
       "      <td>7046TU163</td>\n",
       "      <td>TU</td>\n",
       "      <td>2.0</td>\n",
       "      <td>M</td>\n",
       "      <td>1</td>\n",
       "      <td>inconnu</td>\n",
       "      <td>0</td>\n",
       "      <td>0</td>\n",
       "      <td>2</td>\n",
       "      <td>hiver</td>\n",
       "    </tr>\n",
       "    <tr>\n",
       "      <th>2</th>\n",
       "      <td>2017-03-11</td>\n",
       "      <td>0.0</td>\n",
       "      <td>2017-03-27</td>\n",
       "      <td>NaN</td>\n",
       "      <td>100</td>\n",
       "      <td>10204000027</td>\n",
       "      <td>4.0</td>\n",
       "      <td>0</td>\n",
       "      <td>3626TU159</td>\n",
       "      <td>TU</td>\n",
       "      <td>3.0</td>\n",
       "      <td>M</td>\n",
       "      <td>1</td>\n",
       "      <td>inconnu</td>\n",
       "      <td>0</td>\n",
       "      <td>0</td>\n",
       "      <td>3</td>\n",
       "      <td>printemps</td>\n",
       "    </tr>\n",
       "    <tr>\n",
       "      <th>3</th>\n",
       "      <td>2017-11-23</td>\n",
       "      <td>0.0</td>\n",
       "      <td>2017-11-27</td>\n",
       "      <td>NaN</td>\n",
       "      <td>0</td>\n",
       "      <td>101160000565</td>\n",
       "      <td>4.0</td>\n",
       "      <td>0</td>\n",
       "      <td>8312TU163</td>\n",
       "      <td>TU</td>\n",
       "      <td>3.0</td>\n",
       "      <td>M</td>\n",
       "      <td>1</td>\n",
       "      <td>inconnu</td>\n",
       "      <td>0</td>\n",
       "      <td>0</td>\n",
       "      <td>11</td>\n",
       "      <td>automne</td>\n",
       "    </tr>\n",
       "    <tr>\n",
       "      <th>4</th>\n",
       "      <td>2017-02-23</td>\n",
       "      <td>0.0</td>\n",
       "      <td>2017-03-02</td>\n",
       "      <td>NaN</td>\n",
       "      <td>0</td>\n",
       "      <td>20075.0336001/3</td>\n",
       "      <td>1.0</td>\n",
       "      <td>0</td>\n",
       "      <td>9213TU96</td>\n",
       "      <td>TU</td>\n",
       "      <td>3.0</td>\n",
       "      <td>M</td>\n",
       "      <td>1</td>\n",
       "      <td>inconnu</td>\n",
       "      <td>0</td>\n",
       "      <td>0</td>\n",
       "      <td>3</td>\n",
       "      <td>printemps</td>\n",
       "    </tr>\n",
       "    <tr>\n",
       "      <th>...</th>\n",
       "      <td>...</td>\n",
       "      <td>...</td>\n",
       "      <td>...</td>\n",
       "      <td>...</td>\n",
       "      <td>...</td>\n",
       "      <td>...</td>\n",
       "      <td>...</td>\n",
       "      <td>...</td>\n",
       "      <td>...</td>\n",
       "      <td>...</td>\n",
       "      <td>...</td>\n",
       "      <td>...</td>\n",
       "      <td>...</td>\n",
       "      <td>...</td>\n",
       "      <td>...</td>\n",
       "      <td>...</td>\n",
       "      <td>...</td>\n",
       "      <td>...</td>\n",
       "    </tr>\n",
       "    <tr>\n",
       "      <th>585262</th>\n",
       "      <td>2017-05-24</td>\n",
       "      <td>NaN</td>\n",
       "      <td>2017-05-24</td>\n",
       "      <td>NaN</td>\n",
       "      <td>100</td>\n",
       "      <td>NaN</td>\n",
       "      <td>NaN</td>\n",
       "      <td>0</td>\n",
       "      <td>NaN</td>\n",
       "      <td>NaN</td>\n",
       "      <td>NaN</td>\n",
       "      <td>M</td>\n",
       "      <td>0</td>\n",
       "      <td>inconnu</td>\n",
       "      <td>0</td>\n",
       "      <td>0</td>\n",
       "      <td>5</td>\n",
       "      <td>printemps</td>\n",
       "    </tr>\n",
       "    <tr>\n",
       "      <th>585263</th>\n",
       "      <td>2017-05-24</td>\n",
       "      <td>NaN</td>\n",
       "      <td>2017-05-24</td>\n",
       "      <td>NaN</td>\n",
       "      <td>100</td>\n",
       "      <td>NaN</td>\n",
       "      <td>NaN</td>\n",
       "      <td>0</td>\n",
       "      <td>NaN</td>\n",
       "      <td>NaN</td>\n",
       "      <td>NaN</td>\n",
       "      <td>M</td>\n",
       "      <td>0</td>\n",
       "      <td>inconnu</td>\n",
       "      <td>0</td>\n",
       "      <td>0</td>\n",
       "      <td>5</td>\n",
       "      <td>printemps</td>\n",
       "    </tr>\n",
       "    <tr>\n",
       "      <th>585264</th>\n",
       "      <td>2017-05-24</td>\n",
       "      <td>NaN</td>\n",
       "      <td>2017-05-24</td>\n",
       "      <td>NaN</td>\n",
       "      <td>100</td>\n",
       "      <td>NaN</td>\n",
       "      <td>NaN</td>\n",
       "      <td>0</td>\n",
       "      <td>NaN</td>\n",
       "      <td>NaN</td>\n",
       "      <td>NaN</td>\n",
       "      <td>M</td>\n",
       "      <td>0</td>\n",
       "      <td>inconnu</td>\n",
       "      <td>0</td>\n",
       "      <td>0</td>\n",
       "      <td>5</td>\n",
       "      <td>printemps</td>\n",
       "    </tr>\n",
       "    <tr>\n",
       "      <th>585265</th>\n",
       "      <td>2017-03-17</td>\n",
       "      <td>NaN</td>\n",
       "      <td>2017-03-17</td>\n",
       "      <td>NaN</td>\n",
       "      <td>0</td>\n",
       "      <td>NaN</td>\n",
       "      <td>NaN</td>\n",
       "      <td>100</td>\n",
       "      <td>NaN</td>\n",
       "      <td>NaN</td>\n",
       "      <td>NaN</td>\n",
       "      <td>M</td>\n",
       "      <td>0</td>\n",
       "      <td>inconnu</td>\n",
       "      <td>0</td>\n",
       "      <td>0</td>\n",
       "      <td>3</td>\n",
       "      <td>printemps</td>\n",
       "    </tr>\n",
       "    <tr>\n",
       "      <th>585266</th>\n",
       "      <td>2017-03-17</td>\n",
       "      <td>NaN</td>\n",
       "      <td>2017-03-17</td>\n",
       "      <td>NaN</td>\n",
       "      <td>0</td>\n",
       "      <td>NaN</td>\n",
       "      <td>NaN</td>\n",
       "      <td>100</td>\n",
       "      <td>NaN</td>\n",
       "      <td>NaN</td>\n",
       "      <td>NaN</td>\n",
       "      <td>M</td>\n",
       "      <td>-1</td>\n",
       "      <td>inconnu</td>\n",
       "      <td>0</td>\n",
       "      <td>0</td>\n",
       "      <td>3</td>\n",
       "      <td>printemps</td>\n",
       "    </tr>\n",
       "  </tbody>\n",
       "</table>\n",
       "<p>585267 rows × 18 columns</p>\n",
       "</div>"
      ],
      "text/plain": [
       "       dateDeSurvenanceDuSinistre  heureSurvanceDusinistre  \\\n",
       "0                      2017-12-18                      0.0   \n",
       "1                      2018-02-16                      0.0   \n",
       "2                      2017-03-11                      0.0   \n",
       "3                      2017-11-23                      0.0   \n",
       "4                      2017-02-23                      0.0   \n",
       "...                           ...                      ...   \n",
       "585262                 2017-05-24                      NaN   \n",
       "585263                 2017-05-24                      NaN   \n",
       "585264                 2017-05-24                      NaN   \n",
       "585265                 2017-03-17                      NaN   \n",
       "585266                 2017-03-17                      NaN   \n",
       "\n",
       "       dateOuvertureDuSinistre lieuDuSinistre  pourcentadeDeResponsabilite  \\\n",
       "0                   2017-12-18            NaN                            0   \n",
       "1                   2018-02-16            NaN                            0   \n",
       "2                   2017-03-27            NaN                          100   \n",
       "3                   2017-11-27            NaN                            0   \n",
       "4                   2017-03-02            NaN                            0   \n",
       "...                        ...            ...                          ...   \n",
       "585262              2017-05-24            NaN                          100   \n",
       "585263              2017-05-24            NaN                          100   \n",
       "585264              2017-05-24            NaN                          100   \n",
       "585265              2017-03-17            NaN                            0   \n",
       "585266              2017-03-17            NaN                            0   \n",
       "\n",
       "       numeroDePoliceCompagnieAdverse  codeCompagnieAdverse  \\\n",
       "0                              834736                  11.0   \n",
       "1                                 NaN                   1.0   \n",
       "2                         10204000027                   4.0   \n",
       "3                        101160000565                   4.0   \n",
       "4                     20075.0336001/3                   1.0   \n",
       "...                               ...                   ...   \n",
       "585262                            NaN                   NaN   \n",
       "585263                            NaN                   NaN   \n",
       "585264                            NaN                   NaN   \n",
       "585265                            NaN                   NaN   \n",
       "585266                            NaN                   NaN   \n",
       "\n",
       "        porcentageCompagnieAdverse numeroImmatriculationVehiculeAdverse  \\\n",
       "0                                0                            1651TU133   \n",
       "1                                0                            7046TU163   \n",
       "2                                0                            3626TU159   \n",
       "3                                0                            8312TU163   \n",
       "4                                0                             9213TU96   \n",
       "...                            ...                                  ...   \n",
       "585262                           0                                  NaN   \n",
       "585263                           0                                  NaN   \n",
       "585264                           0                                  NaN   \n",
       "585265                         100                                  NaN   \n",
       "585266                         100                                  NaN   \n",
       "\n",
       "       typeImmatriculationVehiculeAdverse  mouvementDusinistre  \\\n",
       "0                                      TU                  2.0   \n",
       "1                                      TU                  2.0   \n",
       "2                                      TU                  3.0   \n",
       "3                                      TU                  3.0   \n",
       "4                                      TU                  3.0   \n",
       "...                                   ...                  ...   \n",
       "585262                                NaN                  NaN   \n",
       "585263                                NaN                  NaN   \n",
       "585264                                NaN                  NaN   \n",
       "585265                                NaN                  NaN   \n",
       "585266                                NaN                  NaN   \n",
       "\n",
       "       natureDuSinistre  Calculer_Sinistre lieuDuSinistreajuste  \\\n",
       "0                     M                  1              inconnu   \n",
       "1                     M                  1              inconnu   \n",
       "2                     M                  1              inconnu   \n",
       "3                     M                  1              inconnu   \n",
       "4                     M                  1              inconnu   \n",
       "...                 ...                ...                  ...   \n",
       "585262                M                  0              inconnu   \n",
       "585263                M                  0              inconnu   \n",
       "585264                M                  0              inconnu   \n",
       "585265                M                  0              inconnu   \n",
       "585266                M                 -1              inconnu   \n",
       "\n",
       "        heureSurvanceDusinistreajuste  fraud  mois     saison  \n",
       "0                                   0      0    12      hiver  \n",
       "1                                   0      0     2      hiver  \n",
       "2                                   0      0     3  printemps  \n",
       "3                                   0      0    11    automne  \n",
       "4                                   0      0     3  printemps  \n",
       "...                               ...    ...   ...        ...  \n",
       "585262                              0      0     5  printemps  \n",
       "585263                              0      0     5  printemps  \n",
       "585264                              0      0     5  printemps  \n",
       "585265                              0      0     3  printemps  \n",
       "585266                              0      0     3  printemps  \n",
       "\n",
       "[585267 rows x 18 columns]"
      ]
     },
     "execution_count": 34,
     "metadata": {},
     "output_type": "execute_result"
    }
   ],
   "source": [
    "Sinistre_clean1"
   ]
  },
  {
   "cell_type": "code",
   "execution_count": 35,
   "metadata": {
    "colab": {
     "base_uri": "https://localhost:8080/"
    },
    "executionInfo": {
     "elapsed": 623,
     "status": "ok",
     "timestamp": 1627122038091,
     "user": {
      "displayName": "Aliii Khelifi",
      "photoUrl": "",
      "userId": "10316340169032043076"
     },
     "user_tz": -60
    },
    "id": "dx6LGOlndTlR",
    "outputId": "996fd000-8a4f-4cfa-d5b5-a0300b7e3f01"
   },
   "outputs": [
    {
     "data": {
      "text/plain": [
       "dateDeSurvenanceDuSinistre                   0\n",
       "heureSurvanceDusinistre                  24332\n",
       "dateOuvertureDuSinistre                      0\n",
       "lieuDuSinistre                          361882\n",
       "pourcentadeDeResponsabilite                  0\n",
       "numeroDePoliceCompagnieAdverse          380121\n",
       "codeCompagnieAdverse                    302615\n",
       "porcentageCompagnieAdverse                   0\n",
       "numeroImmatriculationVehiculeAdverse    364894\n",
       "typeImmatriculationVehiculeAdverse      358613\n",
       "mouvementDusinistre                      24332\n",
       "natureDuSinistre                             0\n",
       "Calculer_Sinistre                            0\n",
       "lieuDuSinistreajuste                         0\n",
       "heureSurvanceDusinistreajuste                0\n",
       "fraud                                        0\n",
       "mois                                         0\n",
       "saison                                       0\n",
       "dtype: int64"
      ]
     },
     "execution_count": 35,
     "metadata": {},
     "output_type": "execute_result"
    }
   ],
   "source": [
    "Sinistre_clean1.isna().sum()"
   ]
  },
  {
   "cell_type": "markdown",
   "metadata": {
    "id": "FFqe8vZwOeDL"
   },
   "source": [
    "# **II-Détection des Fraudes:**"
   ]
  },
  {
   "cell_type": "markdown",
   "metadata": {
    "id": "7Y_hhA77Oytu"
   },
   "source": [
    "**Type De Fraude 1 : coeffcient Bonus Malus**"
   ]
  },
  {
   "cell_type": "code",
   "execution_count": 36,
   "metadata": {
    "colab": {
     "base_uri": "https://localhost:8080/"
    },
    "executionInfo": {
     "elapsed": 8,
     "status": "ok",
     "timestamp": 1631485222627,
     "user": {
      "displayName": "Aliii Khelifi",
      "photoUrl": "https://lh3.googleusercontent.com/a/default-user=s64",
      "userId": "10316340169032043076"
     },
     "user_tz": -60
    },
    "id": "LbqblWi9OqPd",
    "outputId": "42476598-db02-4909-a7b6-f3223f680fd2"
   },
   "outputs": [
    {
     "data": {
      "text/plain": [
       "52752"
      ]
     },
     "execution_count": 36,
     "metadata": {},
     "output_type": "execute_result"
    }
   ],
   "source": [
    "len(df_merge3[(df_merge3[\"classeBonusMalus\"]==1 ) & (df_merge3[\"coefBonusMalus\"]!=70 )])"
   ]
  },
  {
   "cell_type": "code",
   "execution_count": 37,
   "metadata": {
    "colab": {
     "base_uri": "https://localhost:8080/"
    },
    "executionInfo": {
     "elapsed": 5,
     "status": "ok",
     "timestamp": 1631485224250,
     "user": {
      "displayName": "Aliii Khelifi",
      "photoUrl": "https://lh3.googleusercontent.com/a/default-user=s64",
      "userId": "10316340169032043076"
     },
     "user_tz": -60
    },
    "id": "K_NLEtwjQGkW",
    "outputId": "dc3ea99b-7cc0-4197-b233-46b67e3d848c"
   },
   "outputs": [
    {
     "data": {
      "text/plain": [
       "30306"
      ]
     },
     "execution_count": 37,
     "metadata": {},
     "output_type": "execute_result"
    }
   ],
   "source": [
    "len(df_merge3[(df_merge3[\"classeBonusMalus\"]==2 ) & (df_merge3[\"coefBonusMalus\"]!=80 )])"
   ]
  },
  {
   "cell_type": "code",
   "execution_count": 38,
   "metadata": {
    "colab": {
     "base_uri": "https://localhost:8080/"
    },
    "executionInfo": {
     "elapsed": 416,
     "status": "ok",
     "timestamp": 1631485225191,
     "user": {
      "displayName": "Aliii Khelifi",
      "photoUrl": "https://lh3.googleusercontent.com/a/default-user=s64",
      "userId": "10316340169032043076"
     },
     "user_tz": -60
    },
    "id": "Sg0v1A3BQI8j",
    "outputId": "ec446968-a5f2-41ed-da04-5da4d319ef45"
   },
   "outputs": [
    {
     "data": {
      "text/plain": [
       "47987"
      ]
     },
     "execution_count": 38,
     "metadata": {},
     "output_type": "execute_result"
    }
   ],
   "source": [
    "len(df_merge3[(df_merge3[\"classeBonusMalus\"]==3 ) & (df_merge3[\"coefBonusMalus\"]!=90 )])"
   ]
  },
  {
   "cell_type": "code",
   "execution_count": 39,
   "metadata": {
    "colab": {
     "base_uri": "https://localhost:8080/"
    },
    "executionInfo": {
     "elapsed": 437,
     "status": "ok",
     "timestamp": 1631485227675,
     "user": {
      "displayName": "Aliii Khelifi",
      "photoUrl": "https://lh3.googleusercontent.com/a/default-user=s64",
      "userId": "10316340169032043076"
     },
     "user_tz": -60
    },
    "id": "Q1MZvuU4QJM8",
    "outputId": "34750e53-7d5c-437f-d493-1be92f4a2087"
   },
   "outputs": [
    {
     "data": {
      "text/plain": [
       "11540"
      ]
     },
     "execution_count": 39,
     "metadata": {},
     "output_type": "execute_result"
    }
   ],
   "source": [
    "len(df_merge3[(df_merge3[\"classeBonusMalus\"]==4 ) & (df_merge3[\"coefBonusMalus\"]!=100 )])"
   ]
  },
  {
   "cell_type": "code",
   "execution_count": 40,
   "metadata": {
    "colab": {
     "base_uri": "https://localhost:8080/"
    },
    "executionInfo": {
     "elapsed": 8,
     "status": "ok",
     "timestamp": 1631485228066,
     "user": {
      "displayName": "Aliii Khelifi",
      "photoUrl": "https://lh3.googleusercontent.com/a/default-user=s64",
      "userId": "10316340169032043076"
     },
     "user_tz": -60
    },
    "id": "d8zMvJopQNBr",
    "outputId": "8d822197-8144-4578-f442-ed544bb610f0"
   },
   "outputs": [
    {
     "data": {
      "text/plain": [
       "24516"
      ]
     },
     "execution_count": 40,
     "metadata": {},
     "output_type": "execute_result"
    }
   ],
   "source": [
    "len(df_merge3[(df_merge3[\"classeBonusMalus\"]==5 ) & (df_merge3[\"coefBonusMalus\"]!=120 )])"
   ]
  },
  {
   "cell_type": "code",
   "execution_count": 41,
   "metadata": {
    "colab": {
     "base_uri": "https://localhost:8080/"
    },
    "executionInfo": {
     "elapsed": 11,
     "status": "ok",
     "timestamp": 1631485229779,
     "user": {
      "displayName": "Aliii Khelifi",
      "photoUrl": "https://lh3.googleusercontent.com/a/default-user=s64",
      "userId": "10316340169032043076"
     },
     "user_tz": -60
    },
    "id": "aOwmrD4JQNKM",
    "outputId": "3822601c-f81b-472c-9fa9-5ae5c2bed760"
   },
   "outputs": [
    {
     "data": {
      "text/plain": [
       "2365"
      ]
     },
     "execution_count": 41,
     "metadata": {},
     "output_type": "execute_result"
    }
   ],
   "source": [
    "len(df_merge3[(df_merge3[\"classeBonusMalus\"]==6 ) & (df_merge3[\"coefBonusMalus\"]!=140 )])"
   ]
  },
  {
   "cell_type": "code",
   "execution_count": 42,
   "metadata": {
    "colab": {
     "base_uri": "https://localhost:8080/"
    },
    "executionInfo": {
     "elapsed": 551,
     "status": "ok",
     "timestamp": 1631485231951,
     "user": {
      "displayName": "Aliii Khelifi",
      "photoUrl": "https://lh3.googleusercontent.com/a/default-user=s64",
      "userId": "10316340169032043076"
     },
     "user_tz": -60
    },
    "id": "MeBulQdPQNRN",
    "outputId": "0085f0c1-d2a0-4682-d12e-2f7054dc69f5"
   },
   "outputs": [
    {
     "data": {
      "text/plain": [
       "1193"
      ]
     },
     "execution_count": 42,
     "metadata": {},
     "output_type": "execute_result"
    }
   ],
   "source": [
    "len(df_merge3[(df_merge3[\"classeBonusMalus\"]==7 ) & (df_merge3[\"coefBonusMalus\"]!=160 )])"
   ]
  },
  {
   "cell_type": "code",
   "execution_count": 43,
   "metadata": {
    "colab": {
     "base_uri": "https://localhost:8080/"
    },
    "executionInfo": {
     "elapsed": 6,
     "status": "ok",
     "timestamp": 1631485233099,
     "user": {
      "displayName": "Aliii Khelifi",
      "photoUrl": "https://lh3.googleusercontent.com/a/default-user=s64",
      "userId": "10316340169032043076"
     },
     "user_tz": -60
    },
    "id": "45_2usyHQNYS",
    "outputId": "f3c2c5be-77b1-4a71-fbdb-9950b620e6d6"
   },
   "outputs": [
    {
     "data": {
      "text/plain": [
       "0"
      ]
     },
     "execution_count": 43,
     "metadata": {},
     "output_type": "execute_result"
    }
   ],
   "source": [
    "len(df_merge3[(df_merge3[\"classeBonusMalus\"]==8 ) & (df_merge3[\"coefBonusMalus\"]!=200 )])"
   ]
  },
  {
   "cell_type": "code",
   "execution_count": 44,
   "metadata": {
    "colab": {
     "base_uri": "https://localhost:8080/"
    },
    "executionInfo": {
     "elapsed": 8,
     "status": "ok",
     "timestamp": 1631485234308,
     "user": {
      "displayName": "Aliii Khelifi",
      "photoUrl": "https://lh3.googleusercontent.com/a/default-user=s64",
      "userId": "10316340169032043076"
     },
     "user_tz": -60
    },
    "id": "ZwvQGD2cQNey",
    "outputId": "aea73a02-88c9-4a73-bc22-40cf493a495c"
   },
   "outputs": [
    {
     "data": {
      "text/plain": [
       "3"
      ]
     },
     "execution_count": 44,
     "metadata": {},
     "output_type": "execute_result"
    }
   ],
   "source": [
    "len(df_merge3[(df_merge3[\"classeBonusMalus\"]==9 ) & (df_merge3[\"coefBonusMalus\"]!=250 )])"
   ]
  },
  {
   "cell_type": "code",
   "execution_count": 45,
   "metadata": {
    "colab": {
     "base_uri": "https://localhost:8080/"
    },
    "executionInfo": {
     "elapsed": 587,
     "status": "ok",
     "timestamp": 1631485236014,
     "user": {
      "displayName": "Aliii Khelifi",
      "photoUrl": "https://lh3.googleusercontent.com/a/default-user=s64",
      "userId": "10316340169032043076"
     },
     "user_tz": -60
    },
    "id": "WDvUodBkQNl6",
    "outputId": "a4e81f96-8fc0-459b-c292-9ed82d55b391"
   },
   "outputs": [
    {
     "data": {
      "text/plain": [
       "7"
      ]
     },
     "execution_count": 45,
     "metadata": {},
     "output_type": "execute_result"
    }
   ],
   "source": [
    "len(df_merge3[(df_merge3[\"classeBonusMalus\"]==10 ) & (df_merge3[\"coefBonusMalus\"]!=300 )])"
   ]
  },
  {
   "cell_type": "code",
   "execution_count": 46,
   "metadata": {
    "colab": {
     "base_uri": "https://localhost:8080/"
    },
    "executionInfo": {
     "elapsed": 6,
     "status": "ok",
     "timestamp": 1631485237044,
     "user": {
      "displayName": "Aliii Khelifi",
      "photoUrl": "https://lh3.googleusercontent.com/a/default-user=s64",
      "userId": "10316340169032043076"
     },
     "user_tz": -60
    },
    "id": "JV3ReycxQNss",
    "outputId": "fe9ac999-1c46-40ea-8ccb-2cb4cbc95f9b"
   },
   "outputs": [
    {
     "data": {
      "text/plain": [
       "2"
      ]
     },
     "execution_count": 46,
     "metadata": {},
     "output_type": "execute_result"
    }
   ],
   "source": [
    "len(df_merge3[(df_merge3[\"classeBonusMalus\"]==11 ) & (df_merge3[\"coefBonusMalus\"]!=350 )])"
   ]
  },
  {
   "cell_type": "markdown",
   "metadata": {
    "id": "JJlQXOhjRd7U"
   },
   "source": [
    "**Comparaison de classe Bonus Malus avec Coeff Bonus Malus**"
   ]
  },
  {
   "cell_type": "code",
   "execution_count": 47,
   "metadata": {
    "id": "y10Ox5smRc7k"
   },
   "outputs": [],
   "source": [
    "df_merge3.loc[(df_merge3[\"classeBonusMalus\"]==1 ) & (df_merge3[\"coefBonusMalus\"]!=70 ),'fraude']=1\n",
    "df_merge3.loc[(df_merge3[\"classeBonusMalus\"]==2 ) & (df_merge3[\"coefBonusMalus\"]!=80 ),'fraude']=1\n",
    "df_merge3.loc[(df_merge3[\"classeBonusMalus\"]==3 ) & (df_merge3[\"coefBonusMalus\"]!=90 ),'fraude']=1\n",
    "df_merge3.loc[(df_merge3[\"classeBonusMalus\"]==4 ) & (df_merge3[\"coefBonusMalus\"]!=100 ),'fraude']=1\n",
    "df_merge3.loc[(df_merge3[\"classeBonusMalus\"]==5 ) & (df_merge3[\"coefBonusMalus\"]!=120 ),'fraude']=1\n",
    "df_merge3.loc[(df_merge3[\"classeBonusMalus\"]==6 ) & (df_merge3[\"coefBonusMalus\"]!=140 ),'fraude']=1\n",
    "df_merge3.loc[(df_merge3[\"classeBonusMalus\"]==7 ) & (df_merge3[\"coefBonusMalus\"]!=160 ),'fraude']=1\n",
    "df_merge3.loc[(df_merge3[\"classeBonusMalus\"]==8 ) & (df_merge3[\"coefBonusMalus\"]!=200 ),'fraude']=1\n",
    "df_merge3.loc[(df_merge3[\"classeBonusMalus\"]==9 ) & (df_merge3[\"coefBonusMalus\"]!=250 ),'fraude']=1\n",
    "df_merge3.loc[(df_merge3[\"classeBonusMalus\"]==10 ) & (df_merge3[\"coefBonusMalus\"]!=300 ),'fraude']=1\n",
    "df_merge3.loc[(df_merge3[\"classeBonusMalus\"]==11 ) & (df_merge3[\"coefBonusMalus\"]!=350 ),'fraude']=1"
   ]
  },
  {
   "cell_type": "code",
   "execution_count": 48,
   "metadata": {
    "colab": {
     "base_uri": "https://localhost:8080/"
    },
    "executionInfo": {
     "elapsed": 7,
     "status": "ok",
     "timestamp": 1631485244655,
     "user": {
      "displayName": "Aliii Khelifi",
      "photoUrl": "https://lh3.googleusercontent.com/a/default-user=s64",
      "userId": "10316340169032043076"
     },
     "user_tz": -60
    },
    "id": "P98mnaKESLWT",
    "outputId": "a02c99ad-0227-46e9-fce3-7d7af52d4eea"
   },
   "outputs": [
    {
     "data": {
      "text/plain": [
       "170671"
      ]
     },
     "execution_count": 48,
     "metadata": {},
     "output_type": "execute_result"
    }
   ],
   "source": [
    "len(df_merge3[df_merge3[\"fraude\"]==1])"
   ]
  },
  {
   "cell_type": "code",
   "execution_count": 53,
   "metadata": {},
   "outputs": [],
   "source": [
    "import matplotlib.pyplot as plt"
   ]
  },
  {
   "cell_type": "code",
   "execution_count": 55,
   "metadata": {
    "id": "ZSqOeMFBRW3p"
   },
   "outputs": [
    {
     "data": {
      "image/png": "[encoded data removed]",
      "text/plain": [
       "<Figure size 432x288 with 1 Axes>"
      ]
     },
     "metadata": {
      "needs_background": "light"
     },
     "output_type": "display_data"
    }
   ],
   "source": [
    "fig = plt.figure()\n",
    "\n",
    "x = [1,2,3,4,5,6,7,8,9,10,11]\n",
    "y1 = df_merge3[(df_merge3[\"classeBonusMalus\"]==1) & (df_merge3[\"fraude\"]==1)].shape[0]\n",
    "y2 = df_merge3[(df_merge3[\"classeBonusMalus\"]==2) & (df_merge3[\"fraude\"]==1)].shape[0]\n",
    "y3 = df_merge3[(df_merge3[\"classeBonusMalus\"]==3) & (df_merge3[\"fraude\"]==1)].shape[0]\n",
    "y4 = df_merge3[(df_merge3[\"classeBonusMalus\"]==4) & (df_merge3[\"fraude\"]==1)].shape[0]\n",
    "y5 = df_merge3[(df_merge3[\"classeBonusMalus\"]==5) & (df_merge3[\"fraude\"]==1)].shape[0]\n",
    "y6 = df_merge3[(df_merge3[\"classeBonusMalus\"]==6) & (df_merge3[\"fraude\"]==1)].shape[0]\n",
    "y7 = df_merge3[(df_merge3[\"classeBonusMalus\"]==7) & (df_merge3[\"fraude\"]==1)].shape[0]\n",
    "y8 = df_merge3[(df_merge3[\"classeBonusMalus\"]==8) & (df_merge3[\"fraude\"]==1)].shape[0]\n",
    "y9 = df_merge3[(df_merge3[\"classeBonusMalus\"]==9) & (df_merge3[\"fraude\"]==1)].shape[0]\n",
    "y10 = df_merge3[(df_merge3[\"classeBonusMalus\"]==10) & (df_merge3[\"fraude\"]==1)].shape[0]\n",
    "y11 = df_merge3[(df_merge3[\"classeBonusMalus\"]==11) & (df_merge3[\"fraude\"]==1)].shape[0]\n",
    "height = [y1,y2,y3,y4,y5,y6,y7,y8,y9,y10,y11]\n",
    "width = 0.5\n",
    "\n",
    "plt.bar(x, height, width)\n",
    "plt.grid()\n",
    "plt.show()"
   ]
  },
  {
   "cell_type": "markdown",
   "metadata": {
    "id": "qXW0jjkwfeqf"
   },
   "source": [
    "**Type De Fraude 2: Pourcentage De Responsabilite**"
   ]
  },
  {
   "cell_type": "code",
   "execution_count": 56,
   "metadata": {
    "id": "9jBaTPosfyPV"
   },
   "outputs": [],
   "source": [
    "Sinistre.drop(columns=[\"fraud\"],inplace=True)"
   ]
  },
  {
   "cell_type": "code",
   "execution_count": 57,
   "metadata": {
    "id": "eOOwwYl5gN-e"
   },
   "outputs": [],
   "source": [
    "Sinistre[\"fraude2\"]=0"
   ]
  },
  {
   "cell_type": "code",
   "execution_count": 58,
   "metadata": {
    "id": "AwBWUASHgTpY"
   },
   "outputs": [],
   "source": [
    "Sinistre.loc[(Sinistre[\"pourcentadeDeResponsabilite\"]>100),'fraude2']=1"
   ]
  },
  {
   "cell_type": "code",
   "execution_count": 59,
   "metadata": {
    "colab": {
     "base_uri": "https://localhost:8080/"
    },
    "executionInfo": {
     "elapsed": 14,
     "status": "ok",
     "timestamp": 1631485253870,
     "user": {
      "displayName": "Aliii Khelifi",
      "photoUrl": "https://lh3.googleusercontent.com/a/default-user=s64",
      "userId": "10316340169032043076"
     },
     "user_tz": -60
    },
    "id": "4qaUqgZIgeG_",
    "outputId": "c5085f2b-91cf-4d1c-af14-34f28e754f2d"
   },
   "outputs": [
    {
     "data": {
      "text/plain": [
       "0    584189\n",
       "1      1078\n",
       "Name: fraude2, dtype: int64"
      ]
     },
     "execution_count": 59,
     "metadata": {},
     "output_type": "execute_result"
    }
   ],
   "source": [
    "Sinistre[\"fraude2\"].value_counts()"
   ]
  },
  {
   "cell_type": "code",
   "execution_count": 60,
   "metadata": {
    "colab": {
     "base_uri": "https://localhost:8080/"
    },
    "executionInfo": {
     "elapsed": 11,
     "status": "ok",
     "timestamp": 1631485256212,
     "user": {
      "displayName": "Aliii Khelifi",
      "photoUrl": "https://lh3.googleusercontent.com/a/default-user=s64",
      "userId": "10316340169032043076"
     },
     "user_tz": -60
    },
    "id": "ZHFKpaCa5yhA",
    "outputId": "81027d7f-6851-4a08-d370-737ce0b3c36d"
   },
   "outputs": [
    {
     "data": {
      "text/plain": [
       "Index(['Unnamed: 0', 'Unnamed: 1', 'Unnamed: 2', 'Unnamed: 3',\n",
       "       'dateDeSurvenanceDuSinistre', 'heureSurvanceDusinistre',\n",
       "       'dateOuvertureDuSinistre', 'lieuDuSinistre', 'identificationTiers',\n",
       "       'pourcentadeDeResponsabilite', 'numeroDePoliceCompagnieAdverse',\n",
       "       'codeCompagnieAdverse', 'porcentageCompagnieAdverse',\n",
       "       'numeroImmatriculationVehiculeAdverse',\n",
       "       'typeImmatriculationVehiculeAdverse', 'mouvementDusinistre',\n",
       "       'natureDuSinistre', 'Calculer_Sinistre', 'lieuDuSinistreajuste',\n",
       "       'heureSurvanceDusinistreajuste', 'mois', 'saison', 'fraude2'],\n",
       "      dtype='object')"
      ]
     },
     "execution_count": 60,
     "metadata": {},
     "output_type": "execute_result"
    }
   ],
   "source": [
    "Sinistre.columns"
   ]
  },
  {
   "cell_type": "markdown",
   "metadata": {
    "id": "ZU40tW7olriS"
   },
   "source": [
    "**Type De Fraude 3: Nombre de véhicules**"
   ]
  },
  {
   "cell_type": "code",
   "execution_count": 61,
   "metadata": {
    "id": "Js28YPI4hHDr"
   },
   "outputs": [],
   "source": [
    "list_nbr_voiture=df_merge3[\"CodePolice_id\"].value_counts()\n",
    "bd = dict(list_nbr_voiture)\n",
    "df_nbr_voiture = pd.DataFrame(list(bd.items()),columns = ['cga_police_id','nombre_voiture'])"
   ]
  },
  {
   "cell_type": "code",
   "execution_count": 62,
   "metadata": {
    "colab": {
     "base_uri": "https://localhost:8080/",
     "height": 418
    },
    "executionInfo": {
     "elapsed": 17,
     "status": "ok",
     "timestamp": 1631485260769,
     "user": {
      "displayName": "Aliii Khelifi",
      "photoUrl": "https://lh3.googleusercontent.com/a/default-user=s64",
      "userId": "10316340169032043076"
     },
     "user_tz": -60
    },
    "id": "EBvZE6uMlm_h",
    "outputId": "d6d6bf64-663c-459c-d836-1ef950525a83"
   },
   "outputs": [
    {
     "data": {
      "text/html": [
       "<div>\n",
       "<style scoped>\n",
       "    .dataframe tbody tr th:only-of-type {\n",
       "        vertical-align: middle;\n",
       "    }\n",
       "\n",
       "    .dataframe tbody tr th {\n",
       "        vertical-align: top;\n",
       "    }\n",
       "\n",
       "    .dataframe thead th {\n",
       "        text-align: right;\n",
       "    }\n",
       "</style>\n",
       "<table border=\"1\" class=\"dataframe\">\n",
       "  <thead>\n",
       "    <tr style=\"text-align: right;\">\n",
       "      <th></th>\n",
       "      <th>cga_police_id</th>\n",
       "      <th>nombre_voiture</th>\n",
       "    </tr>\n",
       "  </thead>\n",
       "  <tbody>\n",
       "    <tr>\n",
       "      <th>0</th>\n",
       "      <td>358106</td>\n",
       "      <td>282</td>\n",
       "    </tr>\n",
       "    <tr>\n",
       "      <th>1</th>\n",
       "      <td>358369</td>\n",
       "      <td>177</td>\n",
       "    </tr>\n",
       "    <tr>\n",
       "      <th>2</th>\n",
       "      <td>358131</td>\n",
       "      <td>132</td>\n",
       "    </tr>\n",
       "    <tr>\n",
       "      <th>3</th>\n",
       "      <td>358387</td>\n",
       "      <td>121</td>\n",
       "    </tr>\n",
       "    <tr>\n",
       "      <th>4</th>\n",
       "      <td>358624</td>\n",
       "      <td>113</td>\n",
       "    </tr>\n",
       "    <tr>\n",
       "      <th>...</th>\n",
       "      <td>...</td>\n",
       "      <td>...</td>\n",
       "    </tr>\n",
       "    <tr>\n",
       "      <th>112</th>\n",
       "      <td>357867</td>\n",
       "      <td>6</td>\n",
       "    </tr>\n",
       "    <tr>\n",
       "      <th>113</th>\n",
       "      <td>358109</td>\n",
       "      <td>6</td>\n",
       "    </tr>\n",
       "    <tr>\n",
       "      <th>114</th>\n",
       "      <td>357877</td>\n",
       "      <td>6</td>\n",
       "    </tr>\n",
       "    <tr>\n",
       "      <th>115</th>\n",
       "      <td>357866</td>\n",
       "      <td>6</td>\n",
       "    </tr>\n",
       "    <tr>\n",
       "      <th>116</th>\n",
       "      <td>358603</td>\n",
       "      <td>6</td>\n",
       "    </tr>\n",
       "  </tbody>\n",
       "</table>\n",
       "<p>117 rows × 2 columns</p>\n",
       "</div>"
      ],
      "text/plain": [
       "     cga_police_id  nombre_voiture\n",
       "0           358106             282\n",
       "1           358369             177\n",
       "2           358131             132\n",
       "3           358387             121\n",
       "4           358624             113\n",
       "..             ...             ...\n",
       "112         357867               6\n",
       "113         358109               6\n",
       "114         357877               6\n",
       "115         357866               6\n",
       "116         358603               6\n",
       "\n",
       "[117 rows x 2 columns]"
      ]
     },
     "execution_count": 62,
     "metadata": {},
     "output_type": "execute_result"
    }
   ],
   "source": [
    "df_nbr_voiture[df_nbr_voiture[\"nombre_voiture\"]>5]"
   ]
  },
  {
   "cell_type": "markdown",
   "metadata": {
    "id": "ZYVMlyNyNPdb"
   },
   "source": [
    " Ce qui déclare un nombre de véhicules >= 6 : Fraudeur"
   ]
  },
  {
   "cell_type": "markdown",
   "metadata": {
    "id": "beAFNMT49CIK"
   },
   "source": [
    "# **Préparation de Data final**"
   ]
  },
  {
   "cell_type": "code",
   "execution_count": 63,
   "metadata": {
    "id": "TU2mQ-HS9BCJ"
   },
   "outputs": [],
   "source": [
    "df_concat =  pd.concat([BonusMalus,Sinistre_clean1,Police_clean], axis=1)"
   ]
  },
  {
   "cell_type": "code",
   "execution_count": 64,
   "metadata": {
    "colab": {
     "base_uri": "https://localhost:8080/"
    },
    "executionInfo": {
     "elapsed": 15,
     "status": "ok",
     "timestamp": 1631485263779,
     "user": {
      "displayName": "Aliii Khelifi",
      "photoUrl": "https://lh3.googleusercontent.com/a/default-user=s64",
      "userId": "10316340169032043076"
     },
     "user_tz": -60
    },
    "id": "uff9v4gD9UiU",
    "outputId": "db3cc1c6-6663-482e-cc9d-c8849506bcf4"
   },
   "outputs": [
    {
     "data": {
      "text/plain": [
       "(937280, 39)"
      ]
     },
     "execution_count": 64,
     "metadata": {},
     "output_type": "execute_result"
    }
   ],
   "source": [
    "df_concat.shape"
   ]
  },
  {
   "cell_type": "code",
   "execution_count": 65,
   "metadata": {
    "colab": {
     "base_uri": "https://localhost:8080/",
     "height": 522
    },
    "executionInfo": {
     "elapsed": 12,
     "status": "ok",
     "timestamp": 1631485264614,
     "user": {
      "displayName": "Aliii Khelifi",
      "photoUrl": "https://lh3.googleusercontent.com/a/default-user=s64",
      "userId": "10316340169032043076"
     },
     "user_tz": -60
    },
    "id": "mB0sOGAB9Yrc",
    "outputId": "a7c240a8-2f8a-4168-a1ac-fe2fbcab69b4"
   },
   "outputs": [
    {
     "data": {
      "text/html": [
       "<div>\n",
       "<style scoped>\n",
       "    .dataframe tbody tr th:only-of-type {\n",
       "        vertical-align: middle;\n",
       "    }\n",
       "\n",
       "    .dataframe tbody tr th {\n",
       "        vertical-align: top;\n",
       "    }\n",
       "\n",
       "    .dataframe thead th {\n",
       "        text-align: right;\n",
       "    }\n",
       "</style>\n",
       "<table border=\"1\" class=\"dataframe\">\n",
       "  <thead>\n",
       "    <tr style=\"text-align: right;\">\n",
       "      <th></th>\n",
       "      <th>CodeBonusMalus_id</th>\n",
       "      <th>CodePolice_id</th>\n",
       "      <th>CodeVehicule_id</th>\n",
       "      <th>CodeAssure_id</th>\n",
       "      <th>CodeSouscripteur_id</th>\n",
       "      <th>codeUsage</th>\n",
       "      <th>ETAT_VEHICULE</th>\n",
       "      <th>DATE_AFFECTATION</th>\n",
       "      <th>classeBonusMalus</th>\n",
       "      <th>classeBonusMalusCompagnie</th>\n",
       "      <th>...</th>\n",
       "      <th>CodePolice_id</th>\n",
       "      <th>codeCompagnie</th>\n",
       "      <th>codeAgence</th>\n",
       "      <th>typeIntermediaire</th>\n",
       "      <th>numPolice</th>\n",
       "      <th>naturePolice</th>\n",
       "      <th>typePolice</th>\n",
       "      <th>Etat_Police</th>\n",
       "      <th>dateEffetPolice</th>\n",
       "      <th>dateEcheancePolice</th>\n",
       "    </tr>\n",
       "  </thead>\n",
       "  <tbody>\n",
       "    <tr>\n",
       "      <th>0</th>\n",
       "      <td>117346.0</td>\n",
       "      <td>116167.0</td>\n",
       "      <td>111858.0</td>\n",
       "      <td>101772.0</td>\n",
       "      <td>101691.0</td>\n",
       "      <td>1.0</td>\n",
       "      <td>V</td>\n",
       "      <td>2017-07-14 00:00:00.000000</td>\n",
       "      <td>1.0</td>\n",
       "      <td>1.0</td>\n",
       "      <td>...</td>\n",
       "      <td>545568</td>\n",
       "      <td>1</td>\n",
       "      <td>599</td>\n",
       "      <td>1</td>\n",
       "      <td>20155.0076050/6</td>\n",
       "      <td>R</td>\n",
       "      <td>I</td>\n",
       "      <td>R</td>\n",
       "      <td>2015-10-13</td>\n",
       "      <td>1013.0</td>\n",
       "    </tr>\n",
       "    <tr>\n",
       "      <th>1</th>\n",
       "      <td>117347.0</td>\n",
       "      <td>116168.0</td>\n",
       "      <td>111859.0</td>\n",
       "      <td>99417.0</td>\n",
       "      <td>99336.0</td>\n",
       "      <td>10.0</td>\n",
       "      <td>V</td>\n",
       "      <td>2017-07-14 00:00:00.000000</td>\n",
       "      <td>1.0</td>\n",
       "      <td>1.0</td>\n",
       "      <td>...</td>\n",
       "      <td>545569</td>\n",
       "      <td>1</td>\n",
       "      <td>655</td>\n",
       "      <td>1</td>\n",
       "      <td>20155.0076056/5</td>\n",
       "      <td>R</td>\n",
       "      <td>I</td>\n",
       "      <td>V</td>\n",
       "      <td>2015-10-13</td>\n",
       "      <td>1013.0</td>\n",
       "    </tr>\n",
       "    <tr>\n",
       "      <th>2</th>\n",
       "      <td>117348.0</td>\n",
       "      <td>116169.0</td>\n",
       "      <td>111860.0</td>\n",
       "      <td>101773.0</td>\n",
       "      <td>101692.0</td>\n",
       "      <td>1.0</td>\n",
       "      <td>V</td>\n",
       "      <td>2017-07-14 00:00:00.000000</td>\n",
       "      <td>1.0</td>\n",
       "      <td>1.0</td>\n",
       "      <td>...</td>\n",
       "      <td>545570</td>\n",
       "      <td>1</td>\n",
       "      <td>757</td>\n",
       "      <td>1</td>\n",
       "      <td>20155.0076058/9</td>\n",
       "      <td>R</td>\n",
       "      <td>I</td>\n",
       "      <td>V</td>\n",
       "      <td>2015-10-13</td>\n",
       "      <td>1013.0</td>\n",
       "    </tr>\n",
       "    <tr>\n",
       "      <th>3</th>\n",
       "      <td>117349.0</td>\n",
       "      <td>116170.0</td>\n",
       "      <td>111861.0</td>\n",
       "      <td>101774.0</td>\n",
       "      <td>101693.0</td>\n",
       "      <td>1.0</td>\n",
       "      <td>V</td>\n",
       "      <td>2017-07-14 00:00:00.000000</td>\n",
       "      <td>1.0</td>\n",
       "      <td>1.0</td>\n",
       "      <td>...</td>\n",
       "      <td>545571</td>\n",
       "      <td>1</td>\n",
       "      <td>636</td>\n",
       "      <td>1</td>\n",
       "      <td>20155.0076059/4</td>\n",
       "      <td>R</td>\n",
       "      <td>I</td>\n",
       "      <td>V</td>\n",
       "      <td>2015-10-13</td>\n",
       "      <td>1013.0</td>\n",
       "    </tr>\n",
       "    <tr>\n",
       "      <th>4</th>\n",
       "      <td>117350.0</td>\n",
       "      <td>116171.0</td>\n",
       "      <td>111862.0</td>\n",
       "      <td>101775.0</td>\n",
       "      <td>101694.0</td>\n",
       "      <td>1.0</td>\n",
       "      <td>V</td>\n",
       "      <td>2017-07-14 00:00:00.000000</td>\n",
       "      <td>2.0</td>\n",
       "      <td>2.0</td>\n",
       "      <td>...</td>\n",
       "      <td>545572</td>\n",
       "      <td>1</td>\n",
       "      <td>610</td>\n",
       "      <td>1</td>\n",
       "      <td>20155.0076062/9</td>\n",
       "      <td>R</td>\n",
       "      <td>I</td>\n",
       "      <td>V</td>\n",
       "      <td>2015-10-13</td>\n",
       "      <td>1013.0</td>\n",
       "    </tr>\n",
       "    <tr>\n",
       "      <th>...</th>\n",
       "      <td>...</td>\n",
       "      <td>...</td>\n",
       "      <td>...</td>\n",
       "      <td>...</td>\n",
       "      <td>...</td>\n",
       "      <td>...</td>\n",
       "      <td>...</td>\n",
       "      <td>...</td>\n",
       "      <td>...</td>\n",
       "      <td>...</td>\n",
       "      <td>...</td>\n",
       "      <td>...</td>\n",
       "      <td>...</td>\n",
       "      <td>...</td>\n",
       "      <td>...</td>\n",
       "      <td>...</td>\n",
       "      <td>...</td>\n",
       "      <td>...</td>\n",
       "      <td>...</td>\n",
       "      <td>...</td>\n",
       "      <td>...</td>\n",
       "    </tr>\n",
       "    <tr>\n",
       "      <th>937275</th>\n",
       "      <td>NaN</td>\n",
       "      <td>NaN</td>\n",
       "      <td>NaN</td>\n",
       "      <td>NaN</td>\n",
       "      <td>NaN</td>\n",
       "      <td>NaN</td>\n",
       "      <td>NaN</td>\n",
       "      <td>NaN</td>\n",
       "      <td>NaN</td>\n",
       "      <td>NaN</td>\n",
       "      <td>...</td>\n",
       "      <td>437233</td>\n",
       "      <td>1</td>\n",
       "      <td>626</td>\n",
       "      <td>1</td>\n",
       "      <td>201650000043769</td>\n",
       "      <td>R</td>\n",
       "      <td>I</td>\n",
       "      <td>V</td>\n",
       "      <td>2016-05-31</td>\n",
       "      <td>531.0</td>\n",
       "    </tr>\n",
       "    <tr>\n",
       "      <th>937276</th>\n",
       "      <td>NaN</td>\n",
       "      <td>NaN</td>\n",
       "      <td>NaN</td>\n",
       "      <td>NaN</td>\n",
       "      <td>NaN</td>\n",
       "      <td>NaN</td>\n",
       "      <td>NaN</td>\n",
       "      <td>NaN</td>\n",
       "      <td>NaN</td>\n",
       "      <td>NaN</td>\n",
       "      <td>...</td>\n",
       "      <td>437234</td>\n",
       "      <td>1</td>\n",
       "      <td>585</td>\n",
       "      <td>1</td>\n",
       "      <td>201650000043774</td>\n",
       "      <td>R</td>\n",
       "      <td>I</td>\n",
       "      <td>V</td>\n",
       "      <td>2016-05-31</td>\n",
       "      <td>531.0</td>\n",
       "    </tr>\n",
       "    <tr>\n",
       "      <th>937277</th>\n",
       "      <td>NaN</td>\n",
       "      <td>NaN</td>\n",
       "      <td>NaN</td>\n",
       "      <td>NaN</td>\n",
       "      <td>NaN</td>\n",
       "      <td>NaN</td>\n",
       "      <td>NaN</td>\n",
       "      <td>NaN</td>\n",
       "      <td>NaN</td>\n",
       "      <td>NaN</td>\n",
       "      <td>...</td>\n",
       "      <td>437235</td>\n",
       "      <td>1</td>\n",
       "      <td>576</td>\n",
       "      <td>1</td>\n",
       "      <td>201650000043782</td>\n",
       "      <td>R</td>\n",
       "      <td>I</td>\n",
       "      <td>V</td>\n",
       "      <td>2016-05-31</td>\n",
       "      <td>531.0</td>\n",
       "    </tr>\n",
       "    <tr>\n",
       "      <th>937278</th>\n",
       "      <td>NaN</td>\n",
       "      <td>NaN</td>\n",
       "      <td>NaN</td>\n",
       "      <td>NaN</td>\n",
       "      <td>NaN</td>\n",
       "      <td>NaN</td>\n",
       "      <td>NaN</td>\n",
       "      <td>NaN</td>\n",
       "      <td>NaN</td>\n",
       "      <td>NaN</td>\n",
       "      <td>...</td>\n",
       "      <td>437236</td>\n",
       "      <td>1</td>\n",
       "      <td>768</td>\n",
       "      <td>1</td>\n",
       "      <td>201650000043794</td>\n",
       "      <td>R</td>\n",
       "      <td>I</td>\n",
       "      <td>R</td>\n",
       "      <td>2016-05-31</td>\n",
       "      <td>531.0</td>\n",
       "    </tr>\n",
       "    <tr>\n",
       "      <th>937279</th>\n",
       "      <td>NaN</td>\n",
       "      <td>NaN</td>\n",
       "      <td>NaN</td>\n",
       "      <td>NaN</td>\n",
       "      <td>NaN</td>\n",
       "      <td>NaN</td>\n",
       "      <td>NaN</td>\n",
       "      <td>NaN</td>\n",
       "      <td>NaN</td>\n",
       "      <td>NaN</td>\n",
       "      <td>...</td>\n",
       "      <td>437237</td>\n",
       "      <td>1</td>\n",
       "      <td>689</td>\n",
       "      <td>1</td>\n",
       "      <td>201650000043795</td>\n",
       "      <td>R</td>\n",
       "      <td>I</td>\n",
       "      <td>V</td>\n",
       "      <td>2016-05-31</td>\n",
       "      <td>531.0</td>\n",
       "    </tr>\n",
       "  </tbody>\n",
       "</table>\n",
       "<p>937280 rows × 39 columns</p>\n",
       "</div>"
      ],
      "text/plain": [
       "        CodeBonusMalus_id  CodePolice_id  CodeVehicule_id  CodeAssure_id  \\\n",
       "0                117346.0       116167.0         111858.0       101772.0   \n",
       "1                117347.0       116168.0         111859.0        99417.0   \n",
       "2                117348.0       116169.0         111860.0       101773.0   \n",
       "3                117349.0       116170.0         111861.0       101774.0   \n",
       "4                117350.0       116171.0         111862.0       101775.0   \n",
       "...                   ...            ...              ...            ...   \n",
       "937275                NaN            NaN              NaN            NaN   \n",
       "937276                NaN            NaN              NaN            NaN   \n",
       "937277                NaN            NaN              NaN            NaN   \n",
       "937278                NaN            NaN              NaN            NaN   \n",
       "937279                NaN            NaN              NaN            NaN   \n",
       "\n",
       "        CodeSouscripteur_id  codeUsage ETAT_VEHICULE  \\\n",
       "0                  101691.0        1.0             V   \n",
       "1                   99336.0       10.0             V   \n",
       "2                  101692.0        1.0             V   \n",
       "3                  101693.0        1.0             V   \n",
       "4                  101694.0        1.0             V   \n",
       "...                     ...        ...           ...   \n",
       "937275                  NaN        NaN           NaN   \n",
       "937276                  NaN        NaN           NaN   \n",
       "937277                  NaN        NaN           NaN   \n",
       "937278                  NaN        NaN           NaN   \n",
       "937279                  NaN        NaN           NaN   \n",
       "\n",
       "                  DATE_AFFECTATION  classeBonusMalus  \\\n",
       "0       2017-07-14 00:00:00.000000               1.0   \n",
       "1       2017-07-14 00:00:00.000000               1.0   \n",
       "2       2017-07-14 00:00:00.000000               1.0   \n",
       "3       2017-07-14 00:00:00.000000               1.0   \n",
       "4       2017-07-14 00:00:00.000000               2.0   \n",
       "...                            ...               ...   \n",
       "937275                         NaN               NaN   \n",
       "937276                         NaN               NaN   \n",
       "937277                         NaN               NaN   \n",
       "937278                         NaN               NaN   \n",
       "937279                         NaN               NaN   \n",
       "\n",
       "        classeBonusMalusCompagnie  ...  CodePolice_id codeCompagnie  \\\n",
       "0                             1.0  ...         545568             1   \n",
       "1                             1.0  ...         545569             1   \n",
       "2                             1.0  ...         545570             1   \n",
       "3                             1.0  ...         545571             1   \n",
       "4                             2.0  ...         545572             1   \n",
       "...                           ...  ...            ...           ...   \n",
       "937275                        NaN  ...         437233             1   \n",
       "937276                        NaN  ...         437234             1   \n",
       "937277                        NaN  ...         437235             1   \n",
       "937278                        NaN  ...         437236             1   \n",
       "937279                        NaN  ...         437237             1   \n",
       "\n",
       "        codeAgence typeIntermediaire        numPolice  naturePolice  \\\n",
       "0              599                 1  20155.0076050/6             R   \n",
       "1              655                 1  20155.0076056/5             R   \n",
       "2              757                 1  20155.0076058/9             R   \n",
       "3              636                 1  20155.0076059/4             R   \n",
       "4              610                 1  20155.0076062/9             R   \n",
       "...            ...               ...              ...           ...   \n",
       "937275         626                 1  201650000043769             R   \n",
       "937276         585                 1  201650000043774             R   \n",
       "937277         576                 1  201650000043782             R   \n",
       "937278         768                 1  201650000043794             R   \n",
       "937279         689                 1  201650000043795             R   \n",
       "\n",
       "       typePolice  Etat_Police  dateEffetPolice dateEcheancePolice  \n",
       "0               I            R       2015-10-13             1013.0  \n",
       "1               I            V       2015-10-13             1013.0  \n",
       "2               I            V       2015-10-13             1013.0  \n",
       "3               I            V       2015-10-13             1013.0  \n",
       "4               I            V       2015-10-13             1013.0  \n",
       "...           ...          ...              ...                ...  \n",
       "937275          I            V       2016-05-31              531.0  \n",
       "937276          I            V       2016-05-31              531.0  \n",
       "937277          I            V       2016-05-31              531.0  \n",
       "937278          I            R       2016-05-31              531.0  \n",
       "937279          I            V       2016-05-31              531.0  \n",
       "\n",
       "[937280 rows x 39 columns]"
      ]
     },
     "execution_count": 65,
     "metadata": {},
     "output_type": "execute_result"
    }
   ],
   "source": [
    "df_concat"
   ]
  },
  {
   "cell_type": "code",
   "execution_count": 66,
   "metadata": {
    "id": "LW57w-Fn9arv"
   },
   "outputs": [],
   "source": [
    "df = df_concat.dropna()"
   ]
  },
  {
   "cell_type": "code",
   "execution_count": 67,
   "metadata": {
    "colab": {
     "base_uri": "https://localhost:8080/"
    },
    "executionInfo": {
     "elapsed": 581,
     "status": "ok",
     "timestamp": 1631485269034,
     "user": {
      "displayName": "Aliii Khelifi",
      "photoUrl": "https://lh3.googleusercontent.com/a/default-user=s64",
      "userId": "10316340169032043076"
     },
     "user_tz": -60
    },
    "id": "fXw4jzG7xL0Q",
    "outputId": "6c96d5b3-1f7a-4858-d2a4-07de895c3080"
   },
   "outputs": [
    {
     "data": {
      "text/plain": [
       "Index(['CodeBonusMalus_id', 'CodePolice_id', 'CodeVehicule_id',\n",
       "       'CodeAssure_id', 'CodeSouscripteur_id', 'codeUsage', 'ETAT_VEHICULE',\n",
       "       'DATE_AFFECTATION', 'classeBonusMalus', 'classeBonusMalusCompagnie',\n",
       "       'coefBonusMalus', 'dateDeSurvenanceDuSinistre',\n",
       "       'heureSurvanceDusinistre', 'dateOuvertureDuSinistre', 'lieuDuSinistre',\n",
       "       'pourcentadeDeResponsabilite', 'numeroDePoliceCompagnieAdverse',\n",
       "       'codeCompagnieAdverse', 'porcentageCompagnieAdverse',\n",
       "       'numeroImmatriculationVehiculeAdverse',\n",
       "       'typeImmatriculationVehiculeAdverse', 'mouvementDusinistre',\n",
       "       'natureDuSinistre', 'Calculer_Sinistre', 'lieuDuSinistreajuste',\n",
       "       'heureSurvanceDusinistreajuste', 'fraud', 'mois', 'saison',\n",
       "       'CodePolice_id', 'codeCompagnie', 'codeAgence', 'typeIntermediaire',\n",
       "       'numPolice', 'naturePolice', 'typePolice', 'Etat_Police',\n",
       "       'dateEffetPolice', 'dateEcheancePolice'],\n",
       "      dtype='object')"
      ]
     },
     "execution_count": 67,
     "metadata": {},
     "output_type": "execute_result"
    }
   ],
   "source": [
    "df_concat.columns"
   ]
  },
  {
   "cell_type": "code",
   "execution_count": 68,
   "metadata": {
    "colab": {
     "base_uri": "https://localhost:8080/"
    },
    "executionInfo": {
     "elapsed": 517,
     "status": "ok",
     "timestamp": 1631485271902,
     "user": {
      "displayName": "Aliii Khelifi",
      "photoUrl": "https://lh3.googleusercontent.com/a/default-user=s64",
      "userId": "10316340169032043076"
     },
     "user_tz": -60
    },
    "id": "hNkx-Mhw9dMi",
    "outputId": "470f1b5e-e8d3-49b8-d465-4ae6727276df"
   },
   "outputs": [
    {
     "data": {
      "text/plain": [
       "M    123549\n",
       "C      1352\n",
       "Name: natureDuSinistre, dtype: int64"
      ]
     },
     "execution_count": 68,
     "metadata": {},
     "output_type": "execute_result"
    }
   ],
   "source": [
    "df[\"natureDuSinistre\"].value_counts()"
   ]
  },
  {
   "cell_type": "code",
   "execution_count": 72,
   "metadata": {},
   "outputs": [
    {
     "data": {
      "text/html": [
       "<div>\n",
       "<style scoped>\n",
       "    .dataframe tbody tr th:only-of-type {\n",
       "        vertical-align: middle;\n",
       "    }\n",
       "\n",
       "    .dataframe tbody tr th {\n",
       "        vertical-align: top;\n",
       "    }\n",
       "\n",
       "    .dataframe thead th {\n",
       "        text-align: right;\n",
       "    }\n",
       "</style>\n",
       "<table border=\"1\" class=\"dataframe\">\n",
       "  <thead>\n",
       "    <tr style=\"text-align: right;\">\n",
       "      <th></th>\n",
       "      <th>CodeBonusMalus_id</th>\n",
       "      <th>CodePolice_id</th>\n",
       "      <th>CodeVehicule_id</th>\n",
       "      <th>CodeAssure_id</th>\n",
       "      <th>CodeSouscripteur_id</th>\n",
       "      <th>codeUsage</th>\n",
       "      <th>ETAT_VEHICULE</th>\n",
       "      <th>DATE_AFFECTATION</th>\n",
       "      <th>classeBonusMalus</th>\n",
       "      <th>classeBonusMalusCompagnie</th>\n",
       "      <th>...</th>\n",
       "      <th>CodePolice_id</th>\n",
       "      <th>codeCompagnie</th>\n",
       "      <th>codeAgence</th>\n",
       "      <th>typeIntermediaire</th>\n",
       "      <th>numPolice</th>\n",
       "      <th>naturePolice</th>\n",
       "      <th>typePolice</th>\n",
       "      <th>Etat_Police</th>\n",
       "      <th>dateEffetPolice</th>\n",
       "      <th>dateEcheancePolice</th>\n",
       "    </tr>\n",
       "  </thead>\n",
       "  <tbody>\n",
       "    <tr>\n",
       "      <th>11707</th>\n",
       "      <td>129053.0</td>\n",
       "      <td>127874.0</td>\n",
       "      <td>123540.0</td>\n",
       "      <td>111612.0</td>\n",
       "      <td>111531.0</td>\n",
       "      <td>1.0</td>\n",
       "      <td>V</td>\n",
       "      <td>2016-12-12 00:00:00.000000</td>\n",
       "      <td>4.0</td>\n",
       "      <td>4.0</td>\n",
       "      <td>...</td>\n",
       "      <td>1435378</td>\n",
       "      <td>7</td>\n",
       "      <td>177</td>\n",
       "      <td>2</td>\n",
       "      <td>B1042427</td>\n",
       "      <td>R</td>\n",
       "      <td>I</td>\n",
       "      <td>V</td>\n",
       "      <td>2014-01-17</td>\n",
       "      <td>116.0</td>\n",
       "    </tr>\n",
       "    <tr>\n",
       "      <th>11712</th>\n",
       "      <td>129058.0</td>\n",
       "      <td>127879.0</td>\n",
       "      <td>123545.0</td>\n",
       "      <td>111615.0</td>\n",
       "      <td>111534.0</td>\n",
       "      <td>1.0</td>\n",
       "      <td>V</td>\n",
       "      <td>2016-12-12 00:00:00.000000</td>\n",
       "      <td>3.0</td>\n",
       "      <td>3.0</td>\n",
       "      <td>...</td>\n",
       "      <td>1435383</td>\n",
       "      <td>7</td>\n",
       "      <td>105</td>\n",
       "      <td>1</td>\n",
       "      <td>B1042844</td>\n",
       "      <td>R</td>\n",
       "      <td>I</td>\n",
       "      <td>V</td>\n",
       "      <td>2014-01-21</td>\n",
       "      <td>124.0</td>\n",
       "    </tr>\n",
       "    <tr>\n",
       "      <th>11727</th>\n",
       "      <td>129073.0</td>\n",
       "      <td>127894.0</td>\n",
       "      <td>123560.0</td>\n",
       "      <td>89881.0</td>\n",
       "      <td>89800.0</td>\n",
       "      <td>4.0</td>\n",
       "      <td>V</td>\n",
       "      <td>2017-01-01 00:00:00.000000</td>\n",
       "      <td>7.0</td>\n",
       "      <td>7.0</td>\n",
       "      <td>...</td>\n",
       "      <td>1435398</td>\n",
       "      <td>7</td>\n",
       "      <td>14</td>\n",
       "      <td>1</td>\n",
       "      <td>B1044001</td>\n",
       "      <td>R</td>\n",
       "      <td>I</td>\n",
       "      <td>V</td>\n",
       "      <td>2014-01-24</td>\n",
       "      <td>123.0</td>\n",
       "    </tr>\n",
       "    <tr>\n",
       "      <th>11735</th>\n",
       "      <td>129081.0</td>\n",
       "      <td>127902.0</td>\n",
       "      <td>123568.0</td>\n",
       "      <td>57304.0</td>\n",
       "      <td>57304.0</td>\n",
       "      <td>1.0</td>\n",
       "      <td>V</td>\n",
       "      <td>2017-01-01 00:00:00.000000</td>\n",
       "      <td>3.0</td>\n",
       "      <td>3.0</td>\n",
       "      <td>...</td>\n",
       "      <td>1435406</td>\n",
       "      <td>7</td>\n",
       "      <td>14</td>\n",
       "      <td>1</td>\n",
       "      <td>B1044391</td>\n",
       "      <td>R</td>\n",
       "      <td>I</td>\n",
       "      <td>V</td>\n",
       "      <td>2014-01-28</td>\n",
       "      <td>127.0</td>\n",
       "    </tr>\n",
       "    <tr>\n",
       "      <th>11743</th>\n",
       "      <td>129089.0</td>\n",
       "      <td>127910.0</td>\n",
       "      <td>123576.0</td>\n",
       "      <td>111631.0</td>\n",
       "      <td>111550.0</td>\n",
       "      <td>1.0</td>\n",
       "      <td>V</td>\n",
       "      <td>2017-01-01 00:00:00.000000</td>\n",
       "      <td>7.0</td>\n",
       "      <td>7.0</td>\n",
       "      <td>...</td>\n",
       "      <td>1435414</td>\n",
       "      <td>7</td>\n",
       "      <td>133</td>\n",
       "      <td>1</td>\n",
       "      <td>B1044804</td>\n",
       "      <td>R</td>\n",
       "      <td>I</td>\n",
       "      <td>V</td>\n",
       "      <td>2014-01-29</td>\n",
       "      <td>128.0</td>\n",
       "    </tr>\n",
       "    <tr>\n",
       "      <th>...</th>\n",
       "      <td>...</td>\n",
       "      <td>...</td>\n",
       "      <td>...</td>\n",
       "      <td>...</td>\n",
       "      <td>...</td>\n",
       "      <td>...</td>\n",
       "      <td>...</td>\n",
       "      <td>...</td>\n",
       "      <td>...</td>\n",
       "      <td>...</td>\n",
       "      <td>...</td>\n",
       "      <td>...</td>\n",
       "      <td>...</td>\n",
       "      <td>...</td>\n",
       "      <td>...</td>\n",
       "      <td>...</td>\n",
       "      <td>...</td>\n",
       "      <td>...</td>\n",
       "      <td>...</td>\n",
       "      <td>...</td>\n",
       "      <td>...</td>\n",
       "    </tr>\n",
       "    <tr>\n",
       "      <th>543873</th>\n",
       "      <td>1431974.0</td>\n",
       "      <td>1425852.0</td>\n",
       "      <td>1091229.0</td>\n",
       "      <td>36330.0</td>\n",
       "      <td>63221.0</td>\n",
       "      <td>16.0</td>\n",
       "      <td>V</td>\n",
       "      <td>2017-04-01 00:00:00.000000</td>\n",
       "      <td>3.0</td>\n",
       "      <td>3.0</td>\n",
       "      <td>...</td>\n",
       "      <td>831339</td>\n",
       "      <td>14</td>\n",
       "      <td>231</td>\n",
       "      <td>1</td>\n",
       "      <td>555077538</td>\n",
       "      <td>R</td>\n",
       "      <td>I</td>\n",
       "      <td>V</td>\n",
       "      <td>2016-09-16</td>\n",
       "      <td>916.0</td>\n",
       "    </tr>\n",
       "    <tr>\n",
       "      <th>543875</th>\n",
       "      <td>1431976.0</td>\n",
       "      <td>1425852.0</td>\n",
       "      <td>1091231.0</td>\n",
       "      <td>45825.0</td>\n",
       "      <td>63221.0</td>\n",
       "      <td>16.0</td>\n",
       "      <td>V</td>\n",
       "      <td>2017-04-01 00:00:00.000000</td>\n",
       "      <td>3.0</td>\n",
       "      <td>3.0</td>\n",
       "      <td>...</td>\n",
       "      <td>831341</td>\n",
       "      <td>14</td>\n",
       "      <td>618</td>\n",
       "      <td>1</td>\n",
       "      <td>555172263</td>\n",
       "      <td>R</td>\n",
       "      <td>I</td>\n",
       "      <td>V</td>\n",
       "      <td>2014-07-18</td>\n",
       "      <td>718.0</td>\n",
       "    </tr>\n",
       "    <tr>\n",
       "      <th>545157</th>\n",
       "      <td>1433258.0</td>\n",
       "      <td>1425909.0</td>\n",
       "      <td>1092249.0</td>\n",
       "      <td>1065695.0</td>\n",
       "      <td>63221.0</td>\n",
       "      <td>9.0</td>\n",
       "      <td>V</td>\n",
       "      <td>2018-02-27 00:00:00.000000</td>\n",
       "      <td>1.0</td>\n",
       "      <td>1.0</td>\n",
       "      <td>...</td>\n",
       "      <td>831743</td>\n",
       "      <td>14</td>\n",
       "      <td>960</td>\n",
       "      <td>1</td>\n",
       "      <td>504171757</td>\n",
       "      <td>R</td>\n",
       "      <td>I</td>\n",
       "      <td>V</td>\n",
       "      <td>2016-02-13</td>\n",
       "      <td>213.0</td>\n",
       "    </tr>\n",
       "    <tr>\n",
       "      <th>545158</th>\n",
       "      <td>1433259.0</td>\n",
       "      <td>1425909.0</td>\n",
       "      <td>1092250.0</td>\n",
       "      <td>1065695.0</td>\n",
       "      <td>63221.0</td>\n",
       "      <td>6.0</td>\n",
       "      <td>V</td>\n",
       "      <td>2018-02-27 00:00:00.000000</td>\n",
       "      <td>1.0</td>\n",
       "      <td>1.0</td>\n",
       "      <td>...</td>\n",
       "      <td>831744</td>\n",
       "      <td>14</td>\n",
       "      <td>605</td>\n",
       "      <td>1</td>\n",
       "      <td>504082273</td>\n",
       "      <td>R</td>\n",
       "      <td>I</td>\n",
       "      <td>V</td>\n",
       "      <td>2012-09-16</td>\n",
       "      <td>916.0</td>\n",
       "    </tr>\n",
       "    <tr>\n",
       "      <th>545159</th>\n",
       "      <td>1433260.0</td>\n",
       "      <td>1425909.0</td>\n",
       "      <td>1092251.0</td>\n",
       "      <td>1065695.0</td>\n",
       "      <td>63221.0</td>\n",
       "      <td>5.0</td>\n",
       "      <td>V</td>\n",
       "      <td>2018-02-27 00:00:00.000000</td>\n",
       "      <td>1.0</td>\n",
       "      <td>1.0</td>\n",
       "      <td>...</td>\n",
       "      <td>831745</td>\n",
       "      <td>14</td>\n",
       "      <td>720</td>\n",
       "      <td>1</td>\n",
       "      <td>504082608</td>\n",
       "      <td>R</td>\n",
       "      <td>I</td>\n",
       "      <td>V</td>\n",
       "      <td>2012-08-23</td>\n",
       "      <td>823.0</td>\n",
       "    </tr>\n",
       "  </tbody>\n",
       "</table>\n",
       "<p>124901 rows × 39 columns</p>\n",
       "</div>"
      ],
      "text/plain": [
       "        CodeBonusMalus_id  CodePolice_id  CodeVehicule_id  CodeAssure_id  \\\n",
       "11707            129053.0       127874.0         123540.0       111612.0   \n",
       "11712            129058.0       127879.0         123545.0       111615.0   \n",
       "11727            129073.0       127894.0         123560.0        89881.0   \n",
       "11735            129081.0       127902.0         123568.0        57304.0   \n",
       "11743            129089.0       127910.0         123576.0       111631.0   \n",
       "...                   ...            ...              ...            ...   \n",
       "543873          1431974.0      1425852.0        1091229.0        36330.0   \n",
       "543875          1431976.0      1425852.0        1091231.0        45825.0   \n",
       "545157          1433258.0      1425909.0        1092249.0      1065695.0   \n",
       "545158          1433259.0      1425909.0        1092250.0      1065695.0   \n",
       "545159          1433260.0      1425909.0        1092251.0      1065695.0   \n",
       "\n",
       "        CodeSouscripteur_id  codeUsage ETAT_VEHICULE  \\\n",
       "11707              111531.0        1.0             V   \n",
       "11712              111534.0        1.0             V   \n",
       "11727               89800.0        4.0             V   \n",
       "11735               57304.0        1.0             V   \n",
       "11743              111550.0        1.0             V   \n",
       "...                     ...        ...           ...   \n",
       "543873              63221.0       16.0             V   \n",
       "543875              63221.0       16.0             V   \n",
       "545157              63221.0        9.0             V   \n",
       "545158              63221.0        6.0             V   \n",
       "545159              63221.0        5.0             V   \n",
       "\n",
       "                  DATE_AFFECTATION  classeBonusMalus  \\\n",
       "11707   2016-12-12 00:00:00.000000               4.0   \n",
       "11712   2016-12-12 00:00:00.000000               3.0   \n",
       "11727   2017-01-01 00:00:00.000000               7.0   \n",
       "11735   2017-01-01 00:00:00.000000               3.0   \n",
       "11743   2017-01-01 00:00:00.000000               7.0   \n",
       "...                            ...               ...   \n",
       "543873  2017-04-01 00:00:00.000000               3.0   \n",
       "543875  2017-04-01 00:00:00.000000               3.0   \n",
       "545157  2018-02-27 00:00:00.000000               1.0   \n",
       "545158  2018-02-27 00:00:00.000000               1.0   \n",
       "545159  2018-02-27 00:00:00.000000               1.0   \n",
       "\n",
       "        classeBonusMalusCompagnie  ...  CodePolice_id codeCompagnie  \\\n",
       "11707                         4.0  ...        1435378             7   \n",
       "11712                         3.0  ...        1435383             7   \n",
       "11727                         7.0  ...        1435398             7   \n",
       "11735                         3.0  ...        1435406             7   \n",
       "11743                         7.0  ...        1435414             7   \n",
       "...                           ...  ...            ...           ...   \n",
       "543873                        3.0  ...         831339            14   \n",
       "543875                        3.0  ...         831341            14   \n",
       "545157                        1.0  ...         831743            14   \n",
       "545158                        1.0  ...         831744            14   \n",
       "545159                        1.0  ...         831745            14   \n",
       "\n",
       "        codeAgence typeIntermediaire  numPolice  naturePolice typePolice  \\\n",
       "11707          177                 2   B1042427             R          I   \n",
       "11712          105                 1   B1042844             R          I   \n",
       "11727           14                 1   B1044001             R          I   \n",
       "11735           14                 1   B1044391             R          I   \n",
       "11743          133                 1   B1044804             R          I   \n",
       "...            ...               ...        ...           ...        ...   \n",
       "543873         231                 1  555077538             R          I   \n",
       "543875         618                 1  555172263             R          I   \n",
       "545157         960                 1  504171757             R          I   \n",
       "545158         605                 1  504082273             R          I   \n",
       "545159         720                 1  504082608             R          I   \n",
       "\n",
       "        Etat_Police  dateEffetPolice dateEcheancePolice  \n",
       "11707             V       2014-01-17              116.0  \n",
       "11712             V       2014-01-21              124.0  \n",
       "11727             V       2014-01-24              123.0  \n",
       "11735             V       2014-01-28              127.0  \n",
       "11743             V       2014-01-29              128.0  \n",
       "...             ...              ...                ...  \n",
       "543873            V       2016-09-16              916.0  \n",
       "543875            V       2014-07-18              718.0  \n",
       "545157            V       2016-02-13              213.0  \n",
       "545158            V       2012-09-16              916.0  \n",
       "545159            V       2012-08-23              823.0  \n",
       "\n",
       "[124901 rows x 39 columns]"
      ]
     },
     "execution_count": 72,
     "metadata": {},
     "output_type": "execute_result"
    }
   ],
   "source": [
    "df"
   ]
  },
  {
   "cell_type": "code",
   "execution_count": 71,
   "metadata": {
    "colab": {
     "base_uri": "https://localhost:8080/"
    },
    "executionInfo": {
     "elapsed": 558,
     "status": "ok",
     "timestamp": 1631485272949,
     "user": {
      "displayName": "Aliii Khelifi",
      "photoUrl": "https://lh3.googleusercontent.com/a/default-user=s64",
      "userId": "10316340169032043076"
     },
     "user_tz": -60
    },
    "id": "lyFSSqs79iZ8",
    "outputId": "bcba068d-0421-465d-d90f-0abef91c1a81"
   },
   "outputs": [
    {
     "name": "stderr",
     "output_type": "stream",
     "text": [
      "<ipython-input-71-fcd775e2f97b>:7: SettingWithCopyWarning: \n",
      "A value is trying to be set on a copy of a slice from a DataFrame.\n",
      "Try using .loc[row_indexer,col_indexer] = value instead\n",
      "\n",
      "See the caveats in the documentation: https://pandas.pydata.org/pandas-docs/stable/user_guide/indexing.html#returning-a-view-versus-a-copy\n",
      "  df['natureDuSinistre'] = np.select(conditionlist1, choicelist1, default='Not Specified')\n"
     ]
    }
   ],
   "source": [
    "conditionlist1 = [\n",
    "    (df[\"natureDuSinistre\"]==\"M\"),\n",
    "    (df[\"natureDuSinistre\"]==\"C\"),\n",
    "\n",
    "    ]\n",
    "choicelist1 = [1, 0]\n",
    "df['natureDuSinistre'] = np.select(conditionlist1, choicelist1, default='Not Specified')"
   ]
  },
  {
   "cell_type": "code",
   "execution_count": 73,
   "metadata": {
    "colab": {
     "base_uri": "https://localhost:8080/"
    },
    "executionInfo": {
     "elapsed": 590,
     "status": "ok",
     "timestamp": 1631485275398,
     "user": {
      "displayName": "Aliii Khelifi",
      "photoUrl": "https://lh3.googleusercontent.com/a/default-user=s64",
      "userId": "10316340169032043076"
     },
     "user_tz": -60
    },
    "id": "TaM0eRUb9lF2",
    "outputId": "89745576-156a-42d5-dbba-282c89105a7f"
   },
   "outputs": [
    {
     "data": {
      "text/plain": [
       "1    123549\n",
       "0      1352\n",
       "Name: natureDuSinistre, dtype: int64"
      ]
     },
     "execution_count": 73,
     "metadata": {},
     "output_type": "execute_result"
    }
   ],
   "source": [
    "df[\"natureDuSinistre\"].value_counts()"
   ]
  },
  {
   "cell_type": "code",
   "execution_count": 74,
   "metadata": {
    "colab": {
     "base_uri": "https://localhost:8080/"
    },
    "executionInfo": {
     "elapsed": 6,
     "status": "ok",
     "timestamp": 1631485277036,
     "user": {
      "displayName": "Aliii Khelifi",
      "photoUrl": "https://lh3.googleusercontent.com/a/default-user=s64",
      "userId": "10316340169032043076"
     },
     "user_tz": -60
    },
    "id": "DiddxCeY9nho",
    "outputId": "11a0a0e8-97f6-419e-e386-868a16893551"
   },
   "outputs": [
    {
     "data": {
      "text/plain": [
       "R    124901\n",
       "Name: naturePolice, dtype: int64"
      ]
     },
     "execution_count": 74,
     "metadata": {},
     "output_type": "execute_result"
    }
   ],
   "source": [
    "df[\"naturePolice\"].value_counts()"
   ]
  },
  {
   "cell_type": "code",
   "execution_count": 75,
   "metadata": {
    "colab": {
     "base_uri": "https://localhost:8080/"
    },
    "executionInfo": {
     "elapsed": 12,
     "status": "ok",
     "timestamp": 1631485278741,
     "user": {
      "displayName": "Aliii Khelifi",
      "photoUrl": "https://lh3.googleusercontent.com/a/default-user=s64",
      "userId": "10316340169032043076"
     },
     "user_tz": -60
    },
    "id": "ykQ6rWxh9qlS",
    "outputId": "014b89bf-98be-405f-b4d8-4af45ce4f3eb"
   },
   "outputs": [
    {
     "data": {
      "text/plain": [
       "I    124745\n",
       "F       156\n",
       "Name: typePolice, dtype: int64"
      ]
     },
     "execution_count": 75,
     "metadata": {},
     "output_type": "execute_result"
    }
   ],
   "source": [
    "df[\"typePolice\"].value_counts()"
   ]
  },
  {
   "cell_type": "code",
   "execution_count": 76,
   "metadata": {
    "colab": {
     "base_uri": "https://localhost:8080/"
    },
    "executionInfo": {
     "elapsed": 10,
     "status": "ok",
     "timestamp": 1631485280442,
     "user": {
      "displayName": "Aliii Khelifi",
      "photoUrl": "https://lh3.googleusercontent.com/a/default-user=s64",
      "userId": "10316340169032043076"
     },
     "user_tz": -60
    },
    "id": "K7Mc7q4F9vdJ",
    "outputId": "2ef338bb-4c1f-4848-ac08-d3e597bf814d"
   },
   "outputs": [
    {
     "data": {
      "text/plain": [
       "V    98295\n",
       "R    26138\n",
       "S      468\n",
       "Name: Etat_Police, dtype: int64"
      ]
     },
     "execution_count": 76,
     "metadata": {},
     "output_type": "execute_result"
    }
   ],
   "source": [
    "df[\"Etat_Police\"].value_counts()"
   ]
  },
  {
   "cell_type": "code",
   "execution_count": 77,
   "metadata": {
    "colab": {
     "base_uri": "https://localhost:8080/"
    },
    "executionInfo": {
     "elapsed": 636,
     "status": "ok",
     "timestamp": 1631485282648,
     "user": {
      "displayName": "Aliii Khelifi",
      "photoUrl": "https://lh3.googleusercontent.com/a/default-user=s64",
      "userId": "10316340169032043076"
     },
     "user_tz": -60
    },
    "id": "KA7maq-e9yVT",
    "outputId": "e11f8b9e-2807-4ca3-e176-91387c9e4b26"
   },
   "outputs": [
    {
     "name": "stderr",
     "output_type": "stream",
     "text": [
      "<ipython-input-77-aa6b1781ba5b>:6: SettingWithCopyWarning: \n",
      "A value is trying to be set on a copy of a slice from a DataFrame.\n",
      "Try using .loc[row_indexer,col_indexer] = value instead\n",
      "\n",
      "See the caveats in the documentation: https://pandas.pydata.org/pandas-docs/stable/user_guide/indexing.html#returning-a-view-versus-a-copy\n",
      "  df['naturePolice'] = np.select(conditionlist2, choicelist2, default='Not Specified')\n"
     ]
    }
   ],
   "source": [
    "conditionlist2 = [\n",
    "    (df[\"naturePolice\"]==\"R\"),\n",
    "\n",
    "    ]\n",
    "choicelist2 = [0]\n",
    "df['naturePolice'] = np.select(conditionlist2, choicelist2, default='Not Specified')"
   ]
  },
  {
   "cell_type": "code",
   "execution_count": 78,
   "metadata": {
    "colab": {
     "base_uri": "https://localhost:8080/"
    },
    "executionInfo": {
     "elapsed": 372,
     "status": "ok",
     "timestamp": 1631485285723,
     "user": {
      "displayName": "Aliii Khelifi",
      "photoUrl": "https://lh3.googleusercontent.com/a/default-user=s64",
      "userId": "10316340169032043076"
     },
     "user_tz": -60
    },
    "id": "Hu2cLc-F9zR2",
    "outputId": "13fbee74-9673-4d61-f62c-a4858b0c1f1a"
   },
   "outputs": [
    {
     "name": "stderr",
     "output_type": "stream",
     "text": [
      "<ipython-input-78-ab96867db6e8>:7: SettingWithCopyWarning: \n",
      "A value is trying to be set on a copy of a slice from a DataFrame.\n",
      "Try using .loc[row_indexer,col_indexer] = value instead\n",
      "\n",
      "See the caveats in the documentation: https://pandas.pydata.org/pandas-docs/stable/user_guide/indexing.html#returning-a-view-versus-a-copy\n",
      "  df['typePolice'] = np.select(conditionlist3, choicelist3, default='Not Specified')\n"
     ]
    }
   ],
   "source": [
    "conditionlist3 = [\n",
    "    (df[\"typePolice\"]==\"F\"),\n",
    "    (df[\"typePolice\"]==\"I\"),\n",
    "\n",
    "    ]\n",
    "choicelist3 = [1, 0]\n",
    "df['typePolice'] = np.select(conditionlist3, choicelist3, default='Not Specified')"
   ]
  },
  {
   "cell_type": "code",
   "execution_count": 79,
   "metadata": {
    "colab": {
     "base_uri": "https://localhost:8080/"
    },
    "executionInfo": {
     "elapsed": 551,
     "status": "ok",
     "timestamp": 1631485288788,
     "user": {
      "displayName": "Aliii Khelifi",
      "photoUrl": "https://lh3.googleusercontent.com/a/default-user=s64",
      "userId": "10316340169032043076"
     },
     "user_tz": -60
    },
    "id": "ewJHX2BT92No",
    "outputId": "953437b9-6809-4f5a-84c0-a20a5062e293"
   },
   "outputs": [
    {
     "name": "stderr",
     "output_type": "stream",
     "text": [
      "<ipython-input-79-79c025900c65>:8: SettingWithCopyWarning: \n",
      "A value is trying to be set on a copy of a slice from a DataFrame.\n",
      "Try using .loc[row_indexer,col_indexer] = value instead\n",
      "\n",
      "See the caveats in the documentation: https://pandas.pydata.org/pandas-docs/stable/user_guide/indexing.html#returning-a-view-versus-a-copy\n",
      "  df['Etat_Police'] = np.select(conditionlist4, choicelist4, default='Not Specified')\n"
     ]
    }
   ],
   "source": [
    "conditionlist4 = [\n",
    "    (df[\"Etat_Police\"]==\"V\"),\n",
    "    (df[\"Etat_Police\"]==\"R\"),\n",
    "    (df[\"Etat_Police\"]==\"S\"),\n",
    "\n",
    "    ]\n",
    "choicelist4 = [1, 0, 2]\n",
    "df['Etat_Police'] = np.select(conditionlist4, choicelist4, default='Not Specified')"
   ]
  },
  {
   "cell_type": "code",
   "execution_count": 80,
   "metadata": {
    "colab": {
     "base_uri": "https://localhost:8080/"
    },
    "executionInfo": {
     "elapsed": 367,
     "status": "ok",
     "timestamp": 1631485291681,
     "user": {
      "displayName": "Aliii Khelifi",
      "photoUrl": "https://lh3.googleusercontent.com/a/default-user=s64",
      "userId": "10316340169032043076"
     },
     "user_tz": -60
    },
    "id": "Tv5KSLp094zr",
    "outputId": "ba2dae15-66a6-47fd-c282-0358b2b18f30"
   },
   "outputs": [
    {
     "name": "stderr",
     "output_type": "stream",
     "text": [
      "<ipython-input-80-961da2a5a06f>:7: SettingWithCopyWarning: \n",
      "A value is trying to be set on a copy of a slice from a DataFrame.\n",
      "Try using .loc[row_indexer,col_indexer] = value instead\n",
      "\n",
      "See the caveats in the documentation: https://pandas.pydata.org/pandas-docs/stable/user_guide/indexing.html#returning-a-view-versus-a-copy\n",
      "  df['MauvaiseClasseBM'] = np.select(conditionlist5, choicelist5, default='Not Specified')\n"
     ]
    }
   ],
   "source": [
    "conditionlist5 = [\n",
    "    (df[\"classeBonusMalus\"]>8),\n",
    "    (df[\"classeBonusMalus\"]<=8),\n",
    "\n",
    "    ]\n",
    "choicelist5 = [1, 0]\n",
    "df['MauvaiseClasseBM'] = np.select(conditionlist5, choicelist5, default='Not Specified')"
   ]
  },
  {
   "cell_type": "code",
   "execution_count": 81,
   "metadata": {
    "colab": {
     "base_uri": "https://localhost:8080/"
    },
    "executionInfo": {
     "elapsed": 473,
     "status": "ok",
     "timestamp": 1631485294669,
     "user": {
      "displayName": "Aliii Khelifi",
      "photoUrl": "https://lh3.googleusercontent.com/a/default-user=s64",
      "userId": "10316340169032043076"
     },
     "user_tz": -60
    },
    "id": "13jQOBVl-MZS",
    "outputId": "a68db993-586e-46ca-e8f3-71b9d8c6838f"
   },
   "outputs": [
    {
     "name": "stderr",
     "output_type": "stream",
     "text": [
      "<ipython-input-81-8abd3b64c2fe>:28: SettingWithCopyWarning: \n",
      "A value is trying to be set on a copy of a slice from a DataFrame.\n",
      "Try using .loc[row_indexer,col_indexer] = value instead\n",
      "\n",
      "See the caveats in the documentation: https://pandas.pydata.org/pandas-docs/stable/user_guide/indexing.html#returning-a-view-versus-a-copy\n",
      "  df['FraudeurClasseBM'] = np.select(conditionlist6, choicelist6, default='Not Specified')\n"
     ]
    }
   ],
   "source": [
    "conditionlist6 = [\n",
    "\n",
    "(df[\"classeBonusMalus\"]==1 ) & (df[\"coefBonusMalus\"]!=70 ),\n",
    "(df[\"classeBonusMalus\"]==2 ) & (df[\"coefBonusMalus\"]!=80 ),\n",
    "(df[\"classeBonusMalus\"]==3 ) & (df[\"coefBonusMalus\"]!=90 ),\n",
    "(df[\"classeBonusMalus\"]==4 ) & (df[\"coefBonusMalus\"]!=100),\n",
    "(df[\"classeBonusMalus\"]==5 ) & (df[\"coefBonusMalus\"]!=120 ),\n",
    "(df[\"classeBonusMalus\"]==6 ) & (df[\"coefBonusMalus\"]!=140 ),\n",
    "(df[\"classeBonusMalus\"]==7 ) & (df[\"coefBonusMalus\"]!=160 ),\n",
    "(df[\"classeBonusMalus\"]==8 ) & (df[\"coefBonusMalus\"]!=200 ),\n",
    "(df[\"classeBonusMalus\"]==9 ) & (df[\"coefBonusMalus\"]!=250 ),\n",
    "(df[\"classeBonusMalus\"]==10 ) & (df[\"coefBonusMalus\"]!=300),\n",
    "(df[\"classeBonusMalus\"]==11 ) & (df[\"coefBonusMalus\"]!=350),\n",
    "(df[\"classeBonusMalus\"]==1 ) & (df[\"coefBonusMalus\"]==70 ),\n",
    "(df[\"classeBonusMalus\"]==2 ) & (df[\"coefBonusMalus\"]==80 ),\n",
    "(df[\"classeBonusMalus\"]==3 ) & (df[\"coefBonusMalus\"]==90 ),\n",
    "(df[\"classeBonusMalus\"]==4 ) & (df[\"coefBonusMalus\"]==100),\n",
    "(df[\"classeBonusMalus\"]==5 ) & (df[\"coefBonusMalus\"]==120 ),\n",
    "(df[\"classeBonusMalus\"]==6 ) & (df[\"coefBonusMalus\"]==140 ),\n",
    "(df[\"classeBonusMalus\"]==7 ) & (df[\"coefBonusMalus\"]==160 ),\n",
    "(df[\"classeBonusMalus\"]==8 ) & (df[\"coefBonusMalus\"]==200 ),\n",
    "(df[\"classeBonusMalus\"]==9 ) & (df[\"coefBonusMalus\"]==250 ),\n",
    "(df[\"classeBonusMalus\"]==10 ) & (df[\"coefBonusMalus\"]==300),\n",
    "(df[\"classeBonusMalus\"]==11 ) & (df[\"coefBonusMalus\"]==350),\n",
    "\n",
    "    ]\n",
    "choicelist6 = [1,1,1,1,1,1,1,1,1,1,1,0,0,0,0,0,0,0,0,0,0,0]\n",
    "df['FraudeurClasseBM'] = np.select(conditionlist6, choicelist6, default='Not Specified')"
   ]
  },
  {
   "cell_type": "code",
   "execution_count": 82,
   "metadata": {
    "colab": {
     "base_uri": "https://localhost:8080/"
    },
    "executionInfo": {
     "elapsed": 8,
     "status": "ok",
     "timestamp": 1631485298191,
     "user": {
      "displayName": "Aliii Khelifi",
      "photoUrl": "https://lh3.googleusercontent.com/a/default-user=s64",
      "userId": "10316340169032043076"
     },
     "user_tz": -60
    },
    "id": "qv_MdoGV-fiW",
    "outputId": "976f7ad1-3a5a-491f-a160-fc2524a9b76c"
   },
   "outputs": [
    {
     "name": "stderr",
     "output_type": "stream",
     "text": [
      "<ipython-input-82-40fef8f98cd4>:7: SettingWithCopyWarning: \n",
      "A value is trying to be set on a copy of a slice from a DataFrame.\n",
      "Try using .loc[row_indexer,col_indexer] = value instead\n",
      "\n",
      "See the caveats in the documentation: https://pandas.pydata.org/pandas-docs/stable/user_guide/indexing.html#returning-a-view-versus-a-copy\n",
      "  df['Fraude1'] = np.select(conditionlist7, choicelist7, default='Not Specified')\n"
     ]
    }
   ],
   "source": [
    "conditionlist7 = [\n",
    "    (df[\"MauvaiseClasseBM\"]=='1') & (df[\"FraudeurClasseBM\"]=='1')| (df[\"MauvaiseClasseBM\"]=='0') & (df[\"FraudeurClasseBM\"]=='1'),\n",
    "    (df[\"MauvaiseClasseBM\"]=='0') & (df[\"FraudeurClasseBM\"]=='0')|(df[\"MauvaiseClasseBM\"]=='1') & (df[\"FraudeurClasseBM\"]=='0'),\n",
    "\n",
    "    ]\n",
    "choicelist7 = ['1', '0']\n",
    "df['Fraude1'] = np.select(conditionlist7, choicelist7, default='Not Specified')"
   ]
  },
  {
   "cell_type": "code",
   "execution_count": 83,
   "metadata": {
    "colab": {
     "base_uri": "https://localhost:8080/"
    },
    "executionInfo": {
     "elapsed": 587,
     "status": "ok",
     "timestamp": 1631485301464,
     "user": {
      "displayName": "Aliii Khelifi",
      "photoUrl": "https://lh3.googleusercontent.com/a/default-user=s64",
      "userId": "10316340169032043076"
     },
     "user_tz": -60
    },
    "id": "xiAgF5q5AW5t",
    "outputId": "2724af2b-6978-479f-bed6-db01af3d658e"
   },
   "outputs": [
    {
     "name": "stderr",
     "output_type": "stream",
     "text": [
      "<ipython-input-83-524bca8f0a3a>:7: SettingWithCopyWarning: \n",
      "A value is trying to be set on a copy of a slice from a DataFrame.\n",
      "Try using .loc[row_indexer,col_indexer] = value instead\n",
      "\n",
      "See the caveats in the documentation: https://pandas.pydata.org/pandas-docs/stable/user_guide/indexing.html#returning-a-view-versus-a-copy\n",
      "  df['Fraude2'] = np.select(conditionlist8, choicelist8, default='Not Specified')\n"
     ]
    }
   ],
   "source": [
    "conditionlist8 = [\n",
    "    (df[\"pourcentadeDeResponsabilite\"]>100),\n",
    "    (df[\"pourcentadeDeResponsabilite\"]<=100),\n",
    "\n",
    "    ]\n",
    "choicelist8 = [1, 0]\n",
    "df['Fraude2'] = np.select(conditionlist8, choicelist8, default='Not Specified')"
   ]
  },
  {
   "cell_type": "code",
   "execution_count": 84,
   "metadata": {
    "colab": {
     "base_uri": "https://localhost:8080/"
    },
    "executionInfo": {
     "elapsed": 4,
     "status": "ok",
     "timestamp": 1631485303010,
     "user": {
      "displayName": "Aliii Khelifi",
      "photoUrl": "https://lh3.googleusercontent.com/a/default-user=s64",
      "userId": "10316340169032043076"
     },
     "user_tz": -60
    },
    "id": "4HMjL5PcA-Kf",
    "outputId": "1e145a4c-2c92-42c5-eb2b-f69593154649"
   },
   "outputs": [
    {
     "name": "stderr",
     "output_type": "stream",
     "text": [
      "<ipython-input-84-09decfc9172b>:7: SettingWithCopyWarning: \n",
      "A value is trying to be set on a copy of a slice from a DataFrame.\n",
      "Try using .loc[row_indexer,col_indexer] = value instead\n",
      "\n",
      "See the caveats in the documentation: https://pandas.pydata.org/pandas-docs/stable/user_guide/indexing.html#returning-a-view-versus-a-copy\n",
      "  df['PotentielFraudeur'] = np.select(conditionlist9, choicelist9, default='Not Specified')\n"
     ]
    }
   ],
   "source": [
    "conditionlist9 = [\n",
    "    (df[\"Fraude1\"]=='1') | (df[\"Fraude2\"]=='1'),\n",
    "    (df[\"Fraude1\"]=='0') & (df[\"Fraude2\"]=='0'),\n",
    "\n",
    "    ]\n",
    "choicelist9 = ['1', '0']\n",
    "df['PotentielFraudeur'] = np.select(conditionlist9, choicelist9, default='Not Specified')"
   ]
  },
  {
   "cell_type": "code",
   "execution_count": 86,
   "metadata": {
    "colab": {
     "base_uri": "https://localhost:8080/"
    },
    "executionInfo": {
     "elapsed": 8,
     "status": "ok",
     "timestamp": 1631485304823,
     "user": {
      "displayName": "Aliii Khelifi",
      "photoUrl": "https://lh3.googleusercontent.com/a/default-user=s64",
      "userId": "10316340169032043076"
     },
     "user_tz": -60
    },
    "id": "52YPnyNF97az",
    "outputId": "fabb6e8d-aeb2-4fb4-f969-68a40a4ec27d"
   },
   "outputs": [
    {
     "data": {
      "text/html": [
       "<div>\n",
       "<style scoped>\n",
       "    .dataframe tbody tr th:only-of-type {\n",
       "        vertical-align: middle;\n",
       "    }\n",
       "\n",
       "    .dataframe tbody tr th {\n",
       "        vertical-align: top;\n",
       "    }\n",
       "\n",
       "    .dataframe thead th {\n",
       "        text-align: right;\n",
       "    }\n",
       "</style>\n",
       "<table border=\"1\" class=\"dataframe\">\n",
       "  <thead>\n",
       "    <tr style=\"text-align: right;\">\n",
       "      <th></th>\n",
       "      <th>CodeBonusMalus_id</th>\n",
       "      <th>CodePolice_id</th>\n",
       "      <th>CodeVehicule_id</th>\n",
       "      <th>CodeAssure_id</th>\n",
       "      <th>CodeSouscripteur_id</th>\n",
       "      <th>codeUsage</th>\n",
       "      <th>ETAT_VEHICULE</th>\n",
       "      <th>DATE_AFFECTATION</th>\n",
       "      <th>classeBonusMalus</th>\n",
       "      <th>classeBonusMalusCompagnie</th>\n",
       "      <th>...</th>\n",
       "      <th>naturePolice</th>\n",
       "      <th>typePolice</th>\n",
       "      <th>Etat_Police</th>\n",
       "      <th>dateEffetPolice</th>\n",
       "      <th>dateEcheancePolice</th>\n",
       "      <th>MauvaiseClasseBM</th>\n",
       "      <th>FraudeurClasseBM</th>\n",
       "      <th>Fraude1</th>\n",
       "      <th>Fraude2</th>\n",
       "      <th>PotentielFraudeur</th>\n",
       "    </tr>\n",
       "  </thead>\n",
       "  <tbody>\n",
       "    <tr>\n",
       "      <th>11707</th>\n",
       "      <td>129053.0</td>\n",
       "      <td>127874.0</td>\n",
       "      <td>123540.0</td>\n",
       "      <td>111612.0</td>\n",
       "      <td>111531.0</td>\n",
       "      <td>1.0</td>\n",
       "      <td>V</td>\n",
       "      <td>2016-12-12 00:00:00.000000</td>\n",
       "      <td>4.0</td>\n",
       "      <td>4.0</td>\n",
       "      <td>...</td>\n",
       "      <td>0</td>\n",
       "      <td>0</td>\n",
       "      <td>1</td>\n",
       "      <td>2014-01-17</td>\n",
       "      <td>116.0</td>\n",
       "      <td>0</td>\n",
       "      <td>0</td>\n",
       "      <td>0</td>\n",
       "      <td>0</td>\n",
       "      <td>0</td>\n",
       "    </tr>\n",
       "    <tr>\n",
       "      <th>11712</th>\n",
       "      <td>129058.0</td>\n",
       "      <td>127879.0</td>\n",
       "      <td>123545.0</td>\n",
       "      <td>111615.0</td>\n",
       "      <td>111534.0</td>\n",
       "      <td>1.0</td>\n",
       "      <td>V</td>\n",
       "      <td>2016-12-12 00:00:00.000000</td>\n",
       "      <td>3.0</td>\n",
       "      <td>3.0</td>\n",
       "      <td>...</td>\n",
       "      <td>0</td>\n",
       "      <td>0</td>\n",
       "      <td>1</td>\n",
       "      <td>2014-01-21</td>\n",
       "      <td>124.0</td>\n",
       "      <td>0</td>\n",
       "      <td>0</td>\n",
       "      <td>0</td>\n",
       "      <td>0</td>\n",
       "      <td>0</td>\n",
       "    </tr>\n",
       "    <tr>\n",
       "      <th>11727</th>\n",
       "      <td>129073.0</td>\n",
       "      <td>127894.0</td>\n",
       "      <td>123560.0</td>\n",
       "      <td>89881.0</td>\n",
       "      <td>89800.0</td>\n",
       "      <td>4.0</td>\n",
       "      <td>V</td>\n",
       "      <td>2017-01-01 00:00:00.000000</td>\n",
       "      <td>7.0</td>\n",
       "      <td>7.0</td>\n",
       "      <td>...</td>\n",
       "      <td>0</td>\n",
       "      <td>0</td>\n",
       "      <td>1</td>\n",
       "      <td>2014-01-24</td>\n",
       "      <td>123.0</td>\n",
       "      <td>0</td>\n",
       "      <td>1</td>\n",
       "      <td>1</td>\n",
       "      <td>0</td>\n",
       "      <td>1</td>\n",
       "    </tr>\n",
       "    <tr>\n",
       "      <th>11735</th>\n",
       "      <td>129081.0</td>\n",
       "      <td>127902.0</td>\n",
       "      <td>123568.0</td>\n",
       "      <td>57304.0</td>\n",
       "      <td>57304.0</td>\n",
       "      <td>1.0</td>\n",
       "      <td>V</td>\n",
       "      <td>2017-01-01 00:00:00.000000</td>\n",
       "      <td>3.0</td>\n",
       "      <td>3.0</td>\n",
       "      <td>...</td>\n",
       "      <td>0</td>\n",
       "      <td>0</td>\n",
       "      <td>1</td>\n",
       "      <td>2014-01-28</td>\n",
       "      <td>127.0</td>\n",
       "      <td>0</td>\n",
       "      <td>0</td>\n",
       "      <td>0</td>\n",
       "      <td>0</td>\n",
       "      <td>0</td>\n",
       "    </tr>\n",
       "    <tr>\n",
       "      <th>11743</th>\n",
       "      <td>129089.0</td>\n",
       "      <td>127910.0</td>\n",
       "      <td>123576.0</td>\n",
       "      <td>111631.0</td>\n",
       "      <td>111550.0</td>\n",
       "      <td>1.0</td>\n",
       "      <td>V</td>\n",
       "      <td>2017-01-01 00:00:00.000000</td>\n",
       "      <td>7.0</td>\n",
       "      <td>7.0</td>\n",
       "      <td>...</td>\n",
       "      <td>0</td>\n",
       "      <td>0</td>\n",
       "      <td>1</td>\n",
       "      <td>2014-01-29</td>\n",
       "      <td>128.0</td>\n",
       "      <td>0</td>\n",
       "      <td>0</td>\n",
       "      <td>0</td>\n",
       "      <td>0</td>\n",
       "      <td>0</td>\n",
       "    </tr>\n",
       "    <tr>\n",
       "      <th>...</th>\n",
       "      <td>...</td>\n",
       "      <td>...</td>\n",
       "      <td>...</td>\n",
       "      <td>...</td>\n",
       "      <td>...</td>\n",
       "      <td>...</td>\n",
       "      <td>...</td>\n",
       "      <td>...</td>\n",
       "      <td>...</td>\n",
       "      <td>...</td>\n",
       "      <td>...</td>\n",
       "      <td>...</td>\n",
       "      <td>...</td>\n",
       "      <td>...</td>\n",
       "      <td>...</td>\n",
       "      <td>...</td>\n",
       "      <td>...</td>\n",
       "      <td>...</td>\n",
       "      <td>...</td>\n",
       "      <td>...</td>\n",
       "      <td>...</td>\n",
       "    </tr>\n",
       "    <tr>\n",
       "      <th>543873</th>\n",
       "      <td>1431974.0</td>\n",
       "      <td>1425852.0</td>\n",
       "      <td>1091229.0</td>\n",
       "      <td>36330.0</td>\n",
       "      <td>63221.0</td>\n",
       "      <td>16.0</td>\n",
       "      <td>V</td>\n",
       "      <td>2017-04-01 00:00:00.000000</td>\n",
       "      <td>3.0</td>\n",
       "      <td>3.0</td>\n",
       "      <td>...</td>\n",
       "      <td>0</td>\n",
       "      <td>0</td>\n",
       "      <td>1</td>\n",
       "      <td>2016-09-16</td>\n",
       "      <td>916.0</td>\n",
       "      <td>0</td>\n",
       "      <td>1</td>\n",
       "      <td>1</td>\n",
       "      <td>0</td>\n",
       "      <td>1</td>\n",
       "    </tr>\n",
       "    <tr>\n",
       "      <th>543875</th>\n",
       "      <td>1431976.0</td>\n",
       "      <td>1425852.0</td>\n",
       "      <td>1091231.0</td>\n",
       "      <td>45825.0</td>\n",
       "      <td>63221.0</td>\n",
       "      <td>16.0</td>\n",
       "      <td>V</td>\n",
       "      <td>2017-04-01 00:00:00.000000</td>\n",
       "      <td>3.0</td>\n",
       "      <td>3.0</td>\n",
       "      <td>...</td>\n",
       "      <td>0</td>\n",
       "      <td>0</td>\n",
       "      <td>1</td>\n",
       "      <td>2014-07-18</td>\n",
       "      <td>718.0</td>\n",
       "      <td>0</td>\n",
       "      <td>1</td>\n",
       "      <td>1</td>\n",
       "      <td>0</td>\n",
       "      <td>1</td>\n",
       "    </tr>\n",
       "    <tr>\n",
       "      <th>545157</th>\n",
       "      <td>1433258.0</td>\n",
       "      <td>1425909.0</td>\n",
       "      <td>1092249.0</td>\n",
       "      <td>1065695.0</td>\n",
       "      <td>63221.0</td>\n",
       "      <td>9.0</td>\n",
       "      <td>V</td>\n",
       "      <td>2018-02-27 00:00:00.000000</td>\n",
       "      <td>1.0</td>\n",
       "      <td>1.0</td>\n",
       "      <td>...</td>\n",
       "      <td>0</td>\n",
       "      <td>0</td>\n",
       "      <td>1</td>\n",
       "      <td>2016-02-13</td>\n",
       "      <td>213.0</td>\n",
       "      <td>0</td>\n",
       "      <td>1</td>\n",
       "      <td>1</td>\n",
       "      <td>0</td>\n",
       "      <td>1</td>\n",
       "    </tr>\n",
       "    <tr>\n",
       "      <th>545158</th>\n",
       "      <td>1433259.0</td>\n",
       "      <td>1425909.0</td>\n",
       "      <td>1092250.0</td>\n",
       "      <td>1065695.0</td>\n",
       "      <td>63221.0</td>\n",
       "      <td>6.0</td>\n",
       "      <td>V</td>\n",
       "      <td>2018-02-27 00:00:00.000000</td>\n",
       "      <td>1.0</td>\n",
       "      <td>1.0</td>\n",
       "      <td>...</td>\n",
       "      <td>0</td>\n",
       "      <td>0</td>\n",
       "      <td>1</td>\n",
       "      <td>2012-09-16</td>\n",
       "      <td>916.0</td>\n",
       "      <td>0</td>\n",
       "      <td>1</td>\n",
       "      <td>1</td>\n",
       "      <td>0</td>\n",
       "      <td>1</td>\n",
       "    </tr>\n",
       "    <tr>\n",
       "      <th>545159</th>\n",
       "      <td>1433260.0</td>\n",
       "      <td>1425909.0</td>\n",
       "      <td>1092251.0</td>\n",
       "      <td>1065695.0</td>\n",
       "      <td>63221.0</td>\n",
       "      <td>5.0</td>\n",
       "      <td>V</td>\n",
       "      <td>2018-02-27 00:00:00.000000</td>\n",
       "      <td>1.0</td>\n",
       "      <td>1.0</td>\n",
       "      <td>...</td>\n",
       "      <td>0</td>\n",
       "      <td>0</td>\n",
       "      <td>1</td>\n",
       "      <td>2012-08-23</td>\n",
       "      <td>823.0</td>\n",
       "      <td>0</td>\n",
       "      <td>1</td>\n",
       "      <td>1</td>\n",
       "      <td>0</td>\n",
       "      <td>1</td>\n",
       "    </tr>\n",
       "  </tbody>\n",
       "</table>\n",
       "<p>124901 rows × 44 columns</p>\n",
       "</div>"
      ],
      "text/plain": [
       "        CodeBonusMalus_id  CodePolice_id  CodeVehicule_id  CodeAssure_id  \\\n",
       "11707            129053.0       127874.0         123540.0       111612.0   \n",
       "11712            129058.0       127879.0         123545.0       111615.0   \n",
       "11727            129073.0       127894.0         123560.0        89881.0   \n",
       "11735            129081.0       127902.0         123568.0        57304.0   \n",
       "11743            129089.0       127910.0         123576.0       111631.0   \n",
       "...                   ...            ...              ...            ...   \n",
       "543873          1431974.0      1425852.0        1091229.0        36330.0   \n",
       "543875          1431976.0      1425852.0        1091231.0        45825.0   \n",
       "545157          1433258.0      1425909.0        1092249.0      1065695.0   \n",
       "545158          1433259.0      1425909.0        1092250.0      1065695.0   \n",
       "545159          1433260.0      1425909.0        1092251.0      1065695.0   \n",
       "\n",
       "        CodeSouscripteur_id  codeUsage ETAT_VEHICULE  \\\n",
       "11707              111531.0        1.0             V   \n",
       "11712              111534.0        1.0             V   \n",
       "11727               89800.0        4.0             V   \n",
       "11735               57304.0        1.0             V   \n",
       "11743              111550.0        1.0             V   \n",
       "...                     ...        ...           ...   \n",
       "543873              63221.0       16.0             V   \n",
       "543875              63221.0       16.0             V   \n",
       "545157              63221.0        9.0             V   \n",
       "545158              63221.0        6.0             V   \n",
       "545159              63221.0        5.0             V   \n",
       "\n",
       "                  DATE_AFFECTATION  classeBonusMalus  \\\n",
       "11707   2016-12-12 00:00:00.000000               4.0   \n",
       "11712   2016-12-12 00:00:00.000000               3.0   \n",
       "11727   2017-01-01 00:00:00.000000               7.0   \n",
       "11735   2017-01-01 00:00:00.000000               3.0   \n",
       "11743   2017-01-01 00:00:00.000000               7.0   \n",
       "...                            ...               ...   \n",
       "543873  2017-04-01 00:00:00.000000               3.0   \n",
       "543875  2017-04-01 00:00:00.000000               3.0   \n",
       "545157  2018-02-27 00:00:00.000000               1.0   \n",
       "545158  2018-02-27 00:00:00.000000               1.0   \n",
       "545159  2018-02-27 00:00:00.000000               1.0   \n",
       "\n",
       "        classeBonusMalusCompagnie  ...  naturePolice typePolice  Etat_Police  \\\n",
       "11707                         4.0  ...             0          0            1   \n",
       "11712                         3.0  ...             0          0            1   \n",
       "11727                         7.0  ...             0          0            1   \n",
       "11735                         3.0  ...             0          0            1   \n",
       "11743                         7.0  ...             0          0            1   \n",
       "...                           ...  ...           ...        ...          ...   \n",
       "543873                        3.0  ...             0          0            1   \n",
       "543875                        3.0  ...             0          0            1   \n",
       "545157                        1.0  ...             0          0            1   \n",
       "545158                        1.0  ...             0          0            1   \n",
       "545159                        1.0  ...             0          0            1   \n",
       "\n",
       "       dateEffetPolice dateEcheancePolice  MauvaiseClasseBM FraudeurClasseBM  \\\n",
       "11707       2014-01-17              116.0                 0                0   \n",
       "11712       2014-01-21              124.0                 0                0   \n",
       "11727       2014-01-24              123.0                 0                1   \n",
       "11735       2014-01-28              127.0                 0                0   \n",
       "11743       2014-01-29              128.0                 0                0   \n",
       "...                ...                ...               ...              ...   \n",
       "543873      2016-09-16              916.0                 0                1   \n",
       "543875      2014-07-18              718.0                 0                1   \n",
       "545157      2016-02-13              213.0                 0                1   \n",
       "545158      2012-09-16              916.0                 0                1   \n",
       "545159      2012-08-23              823.0                 0                1   \n",
       "\n",
       "        Fraude1  Fraude2 PotentielFraudeur  \n",
       "11707         0        0                 0  \n",
       "11712         0        0                 0  \n",
       "11727         1        0                 1  \n",
       "11735         0        0                 0  \n",
       "11743         0        0                 0  \n",
       "...         ...      ...               ...  \n",
       "543873        1        0                 1  \n",
       "543875        1        0                 1  \n",
       "545157        1        0                 1  \n",
       "545158        1        0                 1  \n",
       "545159        1        0                 1  \n",
       "\n",
       "[124901 rows x 44 columns]"
      ]
     },
     "execution_count": 86,
     "metadata": {},
     "output_type": "execute_result"
    }
   ],
   "source": [
    "df"
   ]
  },
  {
   "cell_type": "code",
   "execution_count": 87,
   "metadata": {
    "colab": {
     "base_uri": "https://localhost:8080/"
    },
    "executionInfo": {
     "elapsed": 11,
     "status": "ok",
     "timestamp": 1631485306068,
     "user": {
      "displayName": "Aliii Khelifi",
      "photoUrl": "https://lh3.googleusercontent.com/a/default-user=s64",
      "userId": "10316340169032043076"
     },
     "user_tz": -60
    },
    "id": "dlEcf5OSAAqh",
    "outputId": "34c2f34f-5f0f-451d-9398-a89a4d57a697"
   },
   "outputs": [
    {
     "data": {
      "text/plain": [
       "Index(['CodeBonusMalus_id', 'CodePolice_id', 'CodeVehicule_id',\n",
       "       'CodeAssure_id', 'CodeSouscripteur_id', 'codeUsage', 'ETAT_VEHICULE',\n",
       "       'DATE_AFFECTATION', 'classeBonusMalus', 'classeBonusMalusCompagnie',\n",
       "       'coefBonusMalus', 'dateDeSurvenanceDuSinistre',\n",
       "       'heureSurvanceDusinistre', 'dateOuvertureDuSinistre', 'lieuDuSinistre',\n",
       "       'pourcentadeDeResponsabilite', 'numeroDePoliceCompagnieAdverse',\n",
       "       'codeCompagnieAdverse', 'porcentageCompagnieAdverse',\n",
       "       'numeroImmatriculationVehiculeAdverse',\n",
       "       'typeImmatriculationVehiculeAdverse', 'mouvementDusinistre',\n",
       "       'natureDuSinistre', 'Calculer_Sinistre', 'lieuDuSinistreajuste',\n",
       "       'heureSurvanceDusinistreajuste', 'fraud', 'mois', 'saison',\n",
       "       'CodePolice_id', 'codeCompagnie', 'codeAgence', 'typeIntermediaire',\n",
       "       'numPolice', 'naturePolice', 'typePolice', 'Etat_Police',\n",
       "       'dateEffetPolice', 'dateEcheancePolice', 'MauvaiseClasseBM',\n",
       "       'FraudeurClasseBM', 'Fraude1', 'Fraude2', 'PotentielFraudeur'],\n",
       "      dtype='object')"
      ]
     },
     "execution_count": 87,
     "metadata": {},
     "output_type": "execute_result"
    }
   ],
   "source": [
    "df.columns"
   ]
  },
  {
   "cell_type": "code",
   "execution_count": 88,
   "metadata": {
    "id": "NDeLT4sd0uY0"
   },
   "outputs": [],
   "source": [
    "df.to_excel(r\"data_Model.xlsx\",index=False)"
   ]
  },
  {
   "cell_type": "markdown",
   "metadata": {
    "id": "-zkmGhnOM5R0"
   },
   "source": [
    "# **III-Modélisation:**"
   ]
  },
  {
   "cell_type": "code",
   "execution_count": 89,
   "metadata": {
    "id": "FGCP0giLLKbv"
   },
   "outputs": [],
   "source": [
    "DataModel = df[['pourcentadeDeResponsabilite','natureDuSinistre','heureSurvanceDusinistreajuste','typePolice','codeUsage','Etat_Police','MauvaiseClasseBM','coefBonusMalus','FraudeurClasseBM','PotentielFraudeur','classeBonusMalus']]"
   ]
  },
  {
   "cell_type": "code",
   "execution_count": 90,
   "metadata": {
    "colab": {
     "base_uri": "https://localhost:8080/"
    },
    "executionInfo": {
     "elapsed": 13,
     "status": "ok",
     "timestamp": 1631485312370,
     "user": {
      "displayName": "Aliii Khelifi",
      "photoUrl": "https://lh3.googleusercontent.com/a/default-user=s64",
      "userId": "10316340169032043076"
     },
     "user_tz": -60
    },
    "id": "bPNdvL2NC5VU",
    "outputId": "2bb8f90d-22a4-4b28-9953-6c61983d3f44"
   },
   "outputs": [
    {
     "data": {
      "text/plain": [
       "Index(['pourcentadeDeResponsabilite', 'natureDuSinistre',\n",
       "       'heureSurvanceDusinistreajuste', 'typePolice', 'codeUsage',\n",
       "       'Etat_Police', 'MauvaiseClasseBM', 'coefBonusMalus', 'FraudeurClasseBM',\n",
       "       'PotentielFraudeur', 'classeBonusMalus'],\n",
       "      dtype='object')"
      ]
     },
     "execution_count": 90,
     "metadata": {},
     "output_type": "execute_result"
    }
   ],
   "source": [
    "DataModel.columns"
   ]
  },
  {
   "cell_type": "code",
   "execution_count": 91,
   "metadata": {
    "id": "4btjV-ieDCRv"
   },
   "outputs": [],
   "source": [
    "#Partition de la dataframe en une variable à expliquer et des variable explicatives\n",
    "X= DataModel.iloc[:,0:-1]\n",
    "Y= DataModel.iloc[:,-1]"
   ]
  },
  {
   "cell_type": "code",
   "execution_count": 92,
   "metadata": {
    "colab": {
     "base_uri": "https://localhost:8080/",
     "height": 418
    },
    "executionInfo": {
     "elapsed": 6,
     "status": "ok",
     "timestamp": 1631485316671,
     "user": {
      "displayName": "Aliii Khelifi",
      "photoUrl": "https://lh3.googleusercontent.com/a/default-user=s64",
      "userId": "10316340169032043076"
     },
     "user_tz": -60
    },
    "id": "URR7__nYDIIq",
    "outputId": "254ba8e2-197f-4181-8f9b-ccf4903815eb"
   },
   "outputs": [
    {
     "data": {
      "text/html": [
       "<div>\n",
       "<style scoped>\n",
       "    .dataframe tbody tr th:only-of-type {\n",
       "        vertical-align: middle;\n",
       "    }\n",
       "\n",
       "    .dataframe tbody tr th {\n",
       "        vertical-align: top;\n",
       "    }\n",
       "\n",
       "    .dataframe thead th {\n",
       "        text-align: right;\n",
       "    }\n",
       "</style>\n",
       "<table border=\"1\" class=\"dataframe\">\n",
       "  <thead>\n",
       "    <tr style=\"text-align: right;\">\n",
       "      <th></th>\n",
       "      <th>pourcentadeDeResponsabilite</th>\n",
       "      <th>natureDuSinistre</th>\n",
       "      <th>heureSurvanceDusinistreajuste</th>\n",
       "      <th>typePolice</th>\n",
       "      <th>codeUsage</th>\n",
       "      <th>Etat_Police</th>\n",
       "      <th>MauvaiseClasseBM</th>\n",
       "      <th>coefBonusMalus</th>\n",
       "      <th>FraudeurClasseBM</th>\n",
       "      <th>PotentielFraudeur</th>\n",
       "    </tr>\n",
       "  </thead>\n",
       "  <tbody>\n",
       "    <tr>\n",
       "      <th>11707</th>\n",
       "      <td>100.0</td>\n",
       "      <td>1</td>\n",
       "      <td>0.0</td>\n",
       "      <td>0</td>\n",
       "      <td>1.0</td>\n",
       "      <td>1</td>\n",
       "      <td>0</td>\n",
       "      <td>100.0</td>\n",
       "      <td>0</td>\n",
       "      <td>0</td>\n",
       "    </tr>\n",
       "    <tr>\n",
       "      <th>11712</th>\n",
       "      <td>0.0</td>\n",
       "      <td>1</td>\n",
       "      <td>10.0</td>\n",
       "      <td>0</td>\n",
       "      <td>1.0</td>\n",
       "      <td>1</td>\n",
       "      <td>0</td>\n",
       "      <td>90.0</td>\n",
       "      <td>0</td>\n",
       "      <td>0</td>\n",
       "    </tr>\n",
       "    <tr>\n",
       "      <th>11727</th>\n",
       "      <td>100.0</td>\n",
       "      <td>1</td>\n",
       "      <td>0.0</td>\n",
       "      <td>0</td>\n",
       "      <td>4.0</td>\n",
       "      <td>1</td>\n",
       "      <td>0</td>\n",
       "      <td>200.0</td>\n",
       "      <td>1</td>\n",
       "      <td>1</td>\n",
       "    </tr>\n",
       "    <tr>\n",
       "      <th>11735</th>\n",
       "      <td>0.0</td>\n",
       "      <td>1</td>\n",
       "      <td>16.0</td>\n",
       "      <td>0</td>\n",
       "      <td>1.0</td>\n",
       "      <td>1</td>\n",
       "      <td>0</td>\n",
       "      <td>90.0</td>\n",
       "      <td>0</td>\n",
       "      <td>0</td>\n",
       "    </tr>\n",
       "    <tr>\n",
       "      <th>11743</th>\n",
       "      <td>100.0</td>\n",
       "      <td>1</td>\n",
       "      <td>0.0</td>\n",
       "      <td>0</td>\n",
       "      <td>1.0</td>\n",
       "      <td>1</td>\n",
       "      <td>0</td>\n",
       "      <td>160.0</td>\n",
       "      <td>0</td>\n",
       "      <td>0</td>\n",
       "    </tr>\n",
       "    <tr>\n",
       "      <th>...</th>\n",
       "      <td>...</td>\n",
       "      <td>...</td>\n",
       "      <td>...</td>\n",
       "      <td>...</td>\n",
       "      <td>...</td>\n",
       "      <td>...</td>\n",
       "      <td>...</td>\n",
       "      <td>...</td>\n",
       "      <td>...</td>\n",
       "      <td>...</td>\n",
       "    </tr>\n",
       "    <tr>\n",
       "      <th>543873</th>\n",
       "      <td>100.0</td>\n",
       "      <td>1</td>\n",
       "      <td>0.0</td>\n",
       "      <td>0</td>\n",
       "      <td>16.0</td>\n",
       "      <td>1</td>\n",
       "      <td>0</td>\n",
       "      <td>100.0</td>\n",
       "      <td>1</td>\n",
       "      <td>1</td>\n",
       "    </tr>\n",
       "    <tr>\n",
       "      <th>543875</th>\n",
       "      <td>100.0</td>\n",
       "      <td>1</td>\n",
       "      <td>0.0</td>\n",
       "      <td>0</td>\n",
       "      <td>16.0</td>\n",
       "      <td>1</td>\n",
       "      <td>0</td>\n",
       "      <td>100.0</td>\n",
       "      <td>1</td>\n",
       "      <td>1</td>\n",
       "    </tr>\n",
       "    <tr>\n",
       "      <th>545157</th>\n",
       "      <td>100.0</td>\n",
       "      <td>1</td>\n",
       "      <td>0.0</td>\n",
       "      <td>0</td>\n",
       "      <td>9.0</td>\n",
       "      <td>1</td>\n",
       "      <td>0</td>\n",
       "      <td>80.0</td>\n",
       "      <td>1</td>\n",
       "      <td>1</td>\n",
       "    </tr>\n",
       "    <tr>\n",
       "      <th>545158</th>\n",
       "      <td>100.0</td>\n",
       "      <td>1</td>\n",
       "      <td>0.0</td>\n",
       "      <td>0</td>\n",
       "      <td>6.0</td>\n",
       "      <td>1</td>\n",
       "      <td>0</td>\n",
       "      <td>80.0</td>\n",
       "      <td>1</td>\n",
       "      <td>1</td>\n",
       "    </tr>\n",
       "    <tr>\n",
       "      <th>545159</th>\n",
       "      <td>100.0</td>\n",
       "      <td>1</td>\n",
       "      <td>0.0</td>\n",
       "      <td>0</td>\n",
       "      <td>5.0</td>\n",
       "      <td>1</td>\n",
       "      <td>0</td>\n",
       "      <td>80.0</td>\n",
       "      <td>1</td>\n",
       "      <td>1</td>\n",
       "    </tr>\n",
       "  </tbody>\n",
       "</table>\n",
       "<p>124901 rows × 10 columns</p>\n",
       "</div>"
      ],
      "text/plain": [
       "        pourcentadeDeResponsabilite natureDuSinistre  \\\n",
       "11707                         100.0                1   \n",
       "11712                           0.0                1   \n",
       "11727                         100.0                1   \n",
       "11735                           0.0                1   \n",
       "11743                         100.0                1   \n",
       "...                             ...              ...   \n",
       "543873                        100.0                1   \n",
       "543875                        100.0                1   \n",
       "545157                        100.0                1   \n",
       "545158                        100.0                1   \n",
       "545159                        100.0                1   \n",
       "\n",
       "        heureSurvanceDusinistreajuste typePolice  codeUsage Etat_Police  \\\n",
       "11707                             0.0          0        1.0           1   \n",
       "11712                            10.0          0        1.0           1   \n",
       "11727                             0.0          0        4.0           1   \n",
       "11735                            16.0          0        1.0           1   \n",
       "11743                             0.0          0        1.0           1   \n",
       "...                               ...        ...        ...         ...   \n",
       "543873                            0.0          0       16.0           1   \n",
       "543875                            0.0          0       16.0           1   \n",
       "545157                            0.0          0        9.0           1   \n",
       "545158                            0.0          0        6.0           1   \n",
       "545159                            0.0          0        5.0           1   \n",
       "\n",
       "       MauvaiseClasseBM  coefBonusMalus FraudeurClasseBM PotentielFraudeur  \n",
       "11707                 0           100.0                0                 0  \n",
       "11712                 0            90.0                0                 0  \n",
       "11727                 0           200.0                1                 1  \n",
       "11735                 0            90.0                0                 0  \n",
       "11743                 0           160.0                0                 0  \n",
       "...                 ...             ...              ...               ...  \n",
       "543873                0           100.0                1                 1  \n",
       "543875                0           100.0                1                 1  \n",
       "545157                0            80.0                1                 1  \n",
       "545158                0            80.0                1                 1  \n",
       "545159                0            80.0                1                 1  \n",
       "\n",
       "[124901 rows x 10 columns]"
      ]
     },
     "execution_count": 92,
     "metadata": {},
     "output_type": "execute_result"
    }
   ],
   "source": [
    "X"
   ]
  },
  {
   "cell_type": "code",
   "execution_count": 93,
   "metadata": {
    "colab": {
     "base_uri": "https://localhost:8080/"
    },
    "executionInfo": {
     "elapsed": 487,
     "status": "ok",
     "timestamp": 1631485320316,
     "user": {
      "displayName": "Aliii Khelifi",
      "photoUrl": "https://lh3.googleusercontent.com/a/default-user=s64",
      "userId": "10316340169032043076"
     },
     "user_tz": -60
    },
    "id": "yNWUICnq4iX4",
    "outputId": "7a1ecb6b-738b-4ca8-f5bd-bc446a567a86"
   },
   "outputs": [
    {
     "data": {
      "text/plain": [
       "11707     4.0\n",
       "11712     3.0\n",
       "11727     7.0\n",
       "11735     3.0\n",
       "11743     7.0\n",
       "         ... \n",
       "543873    3.0\n",
       "543875    3.0\n",
       "545157    1.0\n",
       "545158    1.0\n",
       "545159    1.0\n",
       "Name: classeBonusMalus, Length: 124901, dtype: float64"
      ]
     },
     "execution_count": 93,
     "metadata": {},
     "output_type": "execute_result"
    }
   ],
   "source": [
    "Y"
   ]
  },
  {
   "cell_type": "code",
   "execution_count": 94,
   "metadata": {
    "colab": {
     "base_uri": "https://localhost:8080/"
    },
    "executionInfo": {
     "elapsed": 384,
     "status": "ok",
     "timestamp": 1631485322896,
     "user": {
      "displayName": "Aliii Khelifi",
      "photoUrl": "https://lh3.googleusercontent.com/a/default-user=s64",
      "userId": "10316340169032043076"
     },
     "user_tz": -60
    },
    "id": "MEPL-9L0DNtu",
    "outputId": "107fe3ae-aebb-4497-a680-1536e7e2c9fc"
   },
   "outputs": [
    {
     "data": {
      "text/plain": [
       "1.0     27682\n",
       "3.0     25565\n",
       "4.0     24277\n",
       "2.0     15344\n",
       "8.0     12976\n",
       "5.0     10767\n",
       "6.0      6132\n",
       "7.0      1216\n",
       "9.0       776\n",
       "10.0      137\n",
       "11.0       29\n",
       "Name: classeBonusMalus, dtype: int64"
      ]
     },
     "execution_count": 94,
     "metadata": {},
     "output_type": "execute_result"
    }
   ],
   "source": [
    "Y.value_counts()"
   ]
  },
  {
   "cell_type": "code",
   "execution_count": 95,
   "metadata": {
    "id": "2kTbZRoADVjv"
   },
   "outputs": [],
   "source": [
    "from sklearn.model_selection import train_test_split\n",
    "from sklearn.metrics import classification_report,confusion_matrix\n",
    "from sklearn.preprocessing import StandardScaler\n",
    "from sklearn import metrics\n",
    "from sklearn.metrics import mean_absolute_error, mean_squared_error, median_absolute_error, r2_score"
   ]
  },
  {
   "cell_type": "code",
   "execution_count": 96,
   "metadata": {
    "id": "djhbuAEZDX-O"
   },
   "outputs": [],
   "source": [
    "X_train, X_test, Y_train, Y_test = train_test_split(X, Y, test_size=0.2,random_state=42,stratify=Y)"
   ]
  },
  {
   "cell_type": "markdown",
   "metadata": {
    "id": "_7sRltMPVu7x"
   },
   "source": [
    "# **1/DecisionTree**"
   ]
  },
  {
   "cell_type": "code",
   "execution_count": 97,
   "metadata": {
    "id": "ETdN9_t4D8Nv"
   },
   "outputs": [],
   "source": [
    "from sklearn.tree import DecisionTreeClassifier\n",
    "dt = DecisionTreeClassifier()\n",
    "dt.fit(X_train, Y_train)\n",
    "y_pred_dt = dt.predict(X_test)"
   ]
  },
  {
   "cell_type": "code",
   "execution_count": 98,
   "metadata": {
    "colab": {
     "base_uri": "https://localhost:8080/"
    },
    "executionInfo": {
     "elapsed": 5,
     "status": "ok",
     "timestamp": 1631485334057,
     "user": {
      "displayName": "Aliii Khelifi",
      "photoUrl": "https://lh3.googleusercontent.com/a/default-user=s64",
      "userId": "10316340169032043076"
     },
     "user_tz": -60
    },
    "id": "OPBeyndUVC8z",
    "outputId": "a9e10219-e661-44c3-87fd-69337ec7cd1e"
   },
   "outputs": [
    {
     "data": {
      "text/plain": [
       "array([3., 1., 1., ..., 3., 1., 4.])"
      ]
     },
     "execution_count": 98,
     "metadata": {},
     "output_type": "execute_result"
    }
   ],
   "source": [
    "y_pred_dt"
   ]
  },
  {
   "cell_type": "code",
   "execution_count": 99,
   "metadata": {
    "colab": {
     "base_uri": "https://localhost:8080/"
    },
    "executionInfo": {
     "elapsed": 373,
     "status": "ok",
     "timestamp": 1631485335743,
     "user": {
      "displayName": "Aliii Khelifi",
      "photoUrl": "https://lh3.googleusercontent.com/a/default-user=s64",
      "userId": "10316340169032043076"
     },
     "user_tz": -60
    },
    "id": "M7DqP5UY6u5b",
    "outputId": "7a45514a-282e-4826-eff4-860c71e0819c"
   },
   "outputs": [
    {
     "name": "stdout",
     "output_type": "stream",
     "text": [
      "train_score =  0.9999899919935948\n",
      "test_score =  0.9998799087306353\n",
      "R2 =  0.9999068863759688\n",
      "RMSE =  0.02098415245696848\n",
      "MAE =  0.00020015211560786198\n"
     ]
    }
   ],
   "source": [
    "print('train_score = ',dt.score(X_train,Y_train))\n",
    "print('test_score = ',dt.score(X_test,Y_test))\n",
    "print('R2 = ',r2_score(Y_test, y_pred_dt))\n",
    "print('RMSE = ', np.sqrt(mean_squared_error(Y_test, y_pred_dt)))\n",
    "print('MAE = ', mean_absolute_error(Y_test, y_pred_dt))"
   ]
  },
  {
   "cell_type": "markdown",
   "metadata": {
    "id": "qBZG6jdAbSdl"
   },
   "source": [
    "# **2/LogisticRegression**"
   ]
  },
  {
   "cell_type": "code",
   "execution_count": 102,
   "metadata": {
    "colab": {
     "base_uri": "https://localhost:8080/"
    },
    "executionInfo": {
     "elapsed": 10951,
     "status": "ok",
     "timestamp": 1631485349774,
     "user": {
      "displayName": "Aliii Khelifi",
      "photoUrl": "https://lh3.googleusercontent.com/a/default-user=s64",
      "userId": "10316340169032043076"
     },
     "user_tz": -60
    },
    "id": "OJ2GKZcfWKs5",
    "outputId": "48c6b5f2-94b1-4211-9511-2daab916fb0c"
   },
   "outputs": [
    {
     "name": "stderr",
     "output_type": "stream",
     "text": [
      "C:\\Users\\ALI\\anaconda3\\lib\\site-packages\\sklearn\\linear_model\\_sag.py:350: ConvergenceWarning: The max_iter was reached which means the coef_ did not converge\n",
      "  warnings.warn(\n"
     ]
    }
   ],
   "source": [
    "from sklearn.linear_model import LogisticRegression\n",
    "lr= LogisticRegression(solver='saga', max_iter=1000)\n",
    "lr.fit(X_train, Y_train)\n",
    "y_pred_lr = lr.predict(X_test)"
   ]
  },
  {
   "cell_type": "code",
   "execution_count": 103,
   "metadata": {
    "colab": {
     "base_uri": "https://localhost:8080/"
    },
    "executionInfo": {
     "elapsed": 21,
     "status": "ok",
     "timestamp": 1631485349774,
     "user": {
      "displayName": "Aliii Khelifi",
      "photoUrl": "https://lh3.googleusercontent.com/a/default-user=s64",
      "userId": "10316340169032043076"
     },
     "user_tz": -60
    },
    "id": "woo67cRzKbyK",
    "outputId": "d189128b-d007-4d45-9c83-4e891a0836a9"
   },
   "outputs": [
    {
     "name": "stdout",
     "output_type": "stream",
     "text": [
      "train_score =  0.7867293835068054\n",
      "test_score =  0.7868780273007485\n",
      "R2 =  0.9435308194625385\n",
      "RMSE =  0.5167619883892481\n",
      "MAE =  0.2285336856010568\n"
     ]
    }
   ],
   "source": [
    "print('train_score = ',lr.score(X_train,Y_train))\n",
    "print('test_score = ',lr.score(X_test,Y_test))\n",
    "print('R2 = ',r2_score(Y_test, y_pred_lr))\n",
    "print('RMSE = ', np.sqrt(mean_squared_error(Y_test, y_pred_lr)))\n",
    "print('MAE = ', mean_absolute_error(Y_test, y_pred_lr))"
   ]
  },
  {
   "cell_type": "markdown",
   "metadata": {
    "id": "dRnzJu1vbagO"
   },
   "source": [
    "# **3/RandomForestClassifier**"
   ]
  },
  {
   "cell_type": "code",
   "execution_count": 104,
   "metadata": {
    "colab": {
     "base_uri": "https://localhost:8080/"
    },
    "executionInfo": {
     "elapsed": 6236,
     "status": "ok",
     "timestamp": 1631485363095,
     "user": {
      "displayName": "Aliii Khelifi",
      "photoUrl": "https://lh3.googleusercontent.com/a/default-user=s64",
      "userId": "10316340169032043076"
     },
     "user_tz": -60
    },
    "id": "T-ZgndZnX3mZ",
    "outputId": "62f07da3-4af0-4015-e86a-693a9c9d49ec"
   },
   "outputs": [
    {
     "name": "stdout",
     "output_type": "stream",
     "text": [
      "Accuracy of DecisionTree on training set: 0.999989991994\n",
      "Accuracy of DecisionTree on test set: 0.999639726192\n"
     ]
    }
   ],
   "source": [
    "from sklearn.ensemble import RandomForestClassifier\n",
    "RF = RandomForestClassifier()\n",
    "RF.fit(X_train, Y_train)\n",
    "y_pred_RF = RF.predict(X_test)\n",
    "print('Accuracy of DecisionTree on training set: {:.12f}'.format(RF.score(X_train, Y_train)))\n",
    "print('Accuracy of DecisionTree on test set: {:.12f}'.format(RF.score(X_test, Y_test)))"
   ]
  },
  {
   "cell_type": "code",
   "execution_count": 105,
   "metadata": {
    "colab": {
     "base_uri": "https://localhost:8080/"
    },
    "executionInfo": {
     "elapsed": 2526,
     "status": "ok",
     "timestamp": 1631485365616,
     "user": {
      "displayName": "Aliii Khelifi",
      "photoUrl": "https://lh3.googleusercontent.com/a/default-user=s64",
      "userId": "10316340169032043076"
     },
     "user_tz": -60
    },
    "id": "akZnWchmK9ux",
    "outputId": "c4d32274-f8e3-4f4f-c12b-0c11c3691d4b"
   },
   "outputs": [
    {
     "name": "stdout",
     "output_type": "stream",
     "text": [
      "train_score =  0.9999899919935948\n",
      "test_score =  0.9996397261919059\n",
      "R2 =  0.9998560971264973\n",
      "RMSE =  0.026086724460283064\n",
      "MAE =  0.00044033465433729633\n"
     ]
    }
   ],
   "source": [
    "print('train_score = ',RF.score(X_train,Y_train))\n",
    "print('test_score = ',RF.score(X_test,Y_test))\n",
    "print('R2 = ',r2_score(Y_test, y_pred_RF))\n",
    "print('RMSE = ', np.sqrt(mean_squared_error(Y_test, y_pred_RF)))\n",
    "print('MAE = ', mean_absolute_error(Y_test, y_pred_RF))"
   ]
  },
  {
   "cell_type": "markdown",
   "metadata": {
    "id": "o0t5Kkwqbhmf"
   },
   "source": [
    "# **4/GaussianNB**"
   ]
  },
  {
   "cell_type": "code",
   "execution_count": 106,
   "metadata": {
    "id": "zl-8jOVIanZC"
   },
   "outputs": [],
   "source": [
    "from sklearn.naive_bayes import GaussianNB\n",
    "GNB = GaussianNB()\n",
    "GNB.fit(X_train, Y_train)\n",
    "y_pred_GNB = GNB.predict(X_test)"
   ]
  },
  {
   "cell_type": "code",
   "execution_count": 107,
   "metadata": {
    "colab": {
     "base_uri": "https://localhost:8080/"
    },
    "executionInfo": {
     "elapsed": 240,
     "status": "ok",
     "timestamp": 1627897723930,
     "user": {
      "displayName": "Aliii Khelifi",
      "photoUrl": "",
      "userId": "10316340169032043076"
     },
     "user_tz": -60
    },
    "id": "ZjlTwqmBOwzS",
    "outputId": "cf317cb9-2949-4d69-d703-f65aaef376a0"
   },
   "outputs": [
    {
     "name": "stdout",
     "output_type": "stream",
     "text": [
      "train_score =  0.6996397117694155\n",
      "test_score =  0.6984107922020736\n",
      "R2 =  0.9308335070946488\n",
      "RMSE =  0.5719165912319453\n",
      "MAE =  0.3064328889956367\n"
     ]
    }
   ],
   "source": [
    "print('train_score = ',GNB.score(X_train,Y_train))\n",
    "print('test_score = ',GNB.score(X_test,Y_test))\n",
    "print('R2 = ',r2_score(Y_test, y_pred_GNB))\n",
    "print('RMSE = ', np.sqrt(mean_squared_error(Y_test, y_pred_GNB)))\n",
    "print('MAE = ', mean_absolute_error(Y_test, y_pred_GNB))"
   ]
  },
  {
   "cell_type": "markdown",
   "metadata": {
    "id": "Vq9SrYJh3w9y"
   },
   "source": [
    "# **VI-Matrice de corrélation:**"
   ]
  },
  {
   "cell_type": "code",
   "execution_count": 108,
   "metadata": {
    "colab": {
     "base_uri": "https://localhost:8080/"
    },
    "executionInfo": {
     "elapsed": 1123,
     "status": "ok",
     "timestamp": 1631485373832,
     "user": {
      "displayName": "Aliii Khelifi",
      "photoUrl": "https://lh3.googleusercontent.com/a/default-user=s64",
      "userId": "10316340169032043076"
     },
     "user_tz": -60
    },
    "id": "dw-6m3SA3_iX",
    "outputId": "de09974e-9f25-4b47-86b3-ddd6f5f48fc7"
   },
   "outputs": [],
   "source": [
    "data= pd.read_excel(r\"data_Model.xlsx\")"
   ]
  },
  {
   "cell_type": "code",
   "execution_count": 109,
   "metadata": {
    "id": "v615_KKZHgao"
   },
   "outputs": [],
   "source": [
    " MatriceBonusMalus_df = data[['pourcentadeDeResponsabilite',\n",
    "                      'natureDuSinistre',\n",
    "                      'typePolice',\n",
    "                      'classeBonusMalus',\n",
    "                      'MauvaiseClasseBM',\n",
    "                      'coefBonusMalus',\n",
    "                      'PotentielFraudeur',\n",
    "                      'FraudeurClasseBM']]"
   ]
  },
  {
   "cell_type": "code",
   "execution_count": 110,
   "metadata": {
    "colab": {
     "base_uri": "https://localhost:8080/",
     "height": 418
    },
    "executionInfo": {
     "elapsed": 380,
     "status": "ok",
     "timestamp": 1631485380561,
     "user": {
      "displayName": "Aliii Khelifi",
      "photoUrl": "https://lh3.googleusercontent.com/a/default-user=s64",
      "userId": "10316340169032043076"
     },
     "user_tz": -60
    },
    "id": "pFkPcRniKOu8",
    "outputId": "2eacf071-6b54-40fd-cbc8-e3aaec83d4b8"
   },
   "outputs": [
    {
     "data": {
      "text/html": [
       "<div>\n",
       "<style scoped>\n",
       "    .dataframe tbody tr th:only-of-type {\n",
       "        vertical-align: middle;\n",
       "    }\n",
       "\n",
       "    .dataframe tbody tr th {\n",
       "        vertical-align: top;\n",
       "    }\n",
       "\n",
       "    .dataframe thead th {\n",
       "        text-align: right;\n",
       "    }\n",
       "</style>\n",
       "<table border=\"1\" class=\"dataframe\">\n",
       "  <thead>\n",
       "    <tr style=\"text-align: right;\">\n",
       "      <th></th>\n",
       "      <th>pourcentadeDeResponsabilite</th>\n",
       "      <th>natureDuSinistre</th>\n",
       "      <th>typePolice</th>\n",
       "      <th>classeBonusMalus</th>\n",
       "      <th>MauvaiseClasseBM</th>\n",
       "      <th>coefBonusMalus</th>\n",
       "      <th>PotentielFraudeur</th>\n",
       "      <th>FraudeurClasseBM</th>\n",
       "    </tr>\n",
       "  </thead>\n",
       "  <tbody>\n",
       "    <tr>\n",
       "      <th>0</th>\n",
       "      <td>100</td>\n",
       "      <td>1</td>\n",
       "      <td>0</td>\n",
       "      <td>4</td>\n",
       "      <td>0</td>\n",
       "      <td>100</td>\n",
       "      <td>0</td>\n",
       "      <td>0</td>\n",
       "    </tr>\n",
       "    <tr>\n",
       "      <th>1</th>\n",
       "      <td>0</td>\n",
       "      <td>1</td>\n",
       "      <td>0</td>\n",
       "      <td>3</td>\n",
       "      <td>0</td>\n",
       "      <td>90</td>\n",
       "      <td>0</td>\n",
       "      <td>0</td>\n",
       "    </tr>\n",
       "    <tr>\n",
       "      <th>2</th>\n",
       "      <td>100</td>\n",
       "      <td>1</td>\n",
       "      <td>0</td>\n",
       "      <td>7</td>\n",
       "      <td>0</td>\n",
       "      <td>200</td>\n",
       "      <td>1</td>\n",
       "      <td>1</td>\n",
       "    </tr>\n",
       "    <tr>\n",
       "      <th>3</th>\n",
       "      <td>0</td>\n",
       "      <td>1</td>\n",
       "      <td>0</td>\n",
       "      <td>3</td>\n",
       "      <td>0</td>\n",
       "      <td>90</td>\n",
       "      <td>0</td>\n",
       "      <td>0</td>\n",
       "    </tr>\n",
       "    <tr>\n",
       "      <th>4</th>\n",
       "      <td>100</td>\n",
       "      <td>1</td>\n",
       "      <td>0</td>\n",
       "      <td>7</td>\n",
       "      <td>0</td>\n",
       "      <td>160</td>\n",
       "      <td>0</td>\n",
       "      <td>0</td>\n",
       "    </tr>\n",
       "    <tr>\n",
       "      <th>...</th>\n",
       "      <td>...</td>\n",
       "      <td>...</td>\n",
       "      <td>...</td>\n",
       "      <td>...</td>\n",
       "      <td>...</td>\n",
       "      <td>...</td>\n",
       "      <td>...</td>\n",
       "      <td>...</td>\n",
       "    </tr>\n",
       "    <tr>\n",
       "      <th>124896</th>\n",
       "      <td>100</td>\n",
       "      <td>1</td>\n",
       "      <td>0</td>\n",
       "      <td>3</td>\n",
       "      <td>0</td>\n",
       "      <td>100</td>\n",
       "      <td>1</td>\n",
       "      <td>1</td>\n",
       "    </tr>\n",
       "    <tr>\n",
       "      <th>124897</th>\n",
       "      <td>100</td>\n",
       "      <td>1</td>\n",
       "      <td>0</td>\n",
       "      <td>3</td>\n",
       "      <td>0</td>\n",
       "      <td>100</td>\n",
       "      <td>1</td>\n",
       "      <td>1</td>\n",
       "    </tr>\n",
       "    <tr>\n",
       "      <th>124898</th>\n",
       "      <td>100</td>\n",
       "      <td>1</td>\n",
       "      <td>0</td>\n",
       "      <td>1</td>\n",
       "      <td>0</td>\n",
       "      <td>80</td>\n",
       "      <td>1</td>\n",
       "      <td>1</td>\n",
       "    </tr>\n",
       "    <tr>\n",
       "      <th>124899</th>\n",
       "      <td>100</td>\n",
       "      <td>1</td>\n",
       "      <td>0</td>\n",
       "      <td>1</td>\n",
       "      <td>0</td>\n",
       "      <td>80</td>\n",
       "      <td>1</td>\n",
       "      <td>1</td>\n",
       "    </tr>\n",
       "    <tr>\n",
       "      <th>124900</th>\n",
       "      <td>100</td>\n",
       "      <td>1</td>\n",
       "      <td>0</td>\n",
       "      <td>1</td>\n",
       "      <td>0</td>\n",
       "      <td>80</td>\n",
       "      <td>1</td>\n",
       "      <td>1</td>\n",
       "    </tr>\n",
       "  </tbody>\n",
       "</table>\n",
       "<p>124901 rows × 8 columns</p>\n",
       "</div>"
      ],
      "text/plain": [
       "        pourcentadeDeResponsabilite  natureDuSinistre  typePolice  \\\n",
       "0                               100                 1           0   \n",
       "1                                 0                 1           0   \n",
       "2                               100                 1           0   \n",
       "3                                 0                 1           0   \n",
       "4                               100                 1           0   \n",
       "...                             ...               ...         ...   \n",
       "124896                          100                 1           0   \n",
       "124897                          100                 1           0   \n",
       "124898                          100                 1           0   \n",
       "124899                          100                 1           0   \n",
       "124900                          100                 1           0   \n",
       "\n",
       "        classeBonusMalus  MauvaiseClasseBM  coefBonusMalus  PotentielFraudeur  \\\n",
       "0                      4                 0             100                  0   \n",
       "1                      3                 0              90                  0   \n",
       "2                      7                 0             200                  1   \n",
       "3                      3                 0              90                  0   \n",
       "4                      7                 0             160                  0   \n",
       "...                  ...               ...             ...                ...   \n",
       "124896                 3                 0             100                  1   \n",
       "124897                 3                 0             100                  1   \n",
       "124898                 1                 0              80                  1   \n",
       "124899                 1                 0              80                  1   \n",
       "124900                 1                 0              80                  1   \n",
       "\n",
       "        FraudeurClasseBM  \n",
       "0                      0  \n",
       "1                      0  \n",
       "2                      1  \n",
       "3                      0  \n",
       "4                      0  \n",
       "...                  ...  \n",
       "124896                 1  \n",
       "124897                 1  \n",
       "124898                 1  \n",
       "124899                 1  \n",
       "124900                 1  \n",
       "\n",
       "[124901 rows x 8 columns]"
      ]
     },
     "execution_count": 110,
     "metadata": {},
     "output_type": "execute_result"
    }
   ],
   "source": [
    "MatriceBonusMalus_df"
   ]
  },
  {
   "cell_type": "code",
   "execution_count": 111,
   "metadata": {
    "colab": {
     "base_uri": "https://localhost:8080/"
    },
    "executionInfo": {
     "elapsed": 8,
     "status": "ok",
     "timestamp": 1631485384034,
     "user": {
      "displayName": "Aliii Khelifi",
      "photoUrl": "https://lh3.googleusercontent.com/a/default-user=s64",
      "userId": "10316340169032043076"
     },
     "user_tz": -60
    },
    "id": "cEPRz1AWJrt3",
    "outputId": "9dcc6fcf-d25c-4e74-b55e-6ef4a90d87e9"
   },
   "outputs": [
    {
     "name": "stdout",
     "output_type": "stream",
     "text": [
      "The correlation DataFrame is:\n",
      "                             pourcentadeDeResponsabilite  natureDuSinistre  \\\n",
      "pourcentadeDeResponsabilite                     1.000000         -0.022511   \n",
      "natureDuSinistre                               -0.022511          1.000000   \n",
      "typePolice                                     -0.001926          0.003699   \n",
      "classeBonusMalus                               -0.019682          0.007360   \n",
      "MauvaiseClasseBM                               -0.002252         -0.002507   \n",
      "coefBonusMalus                                 -0.016861          0.004759   \n",
      "PotentielFraudeur                               0.000242         -0.005960   \n",
      "FraudeurClasseBM                                0.000242         -0.005960   \n",
      "\n",
      "                             typePolice  classeBonusMalus  MauvaiseClasseBM  \\\n",
      "pourcentadeDeResponsabilite   -0.001926         -0.019682         -0.002252   \n",
      "natureDuSinistre               0.003699          0.007360         -0.002507   \n",
      "typePolice                     1.000000         -0.005034         -0.000463   \n",
      "classeBonusMalus              -0.005034          1.000000          0.226627   \n",
      "MauvaiseClasseBM              -0.000463          0.226627          1.000000   \n",
      "coefBonusMalus                -0.002521          0.950560          0.323194   \n",
      "PotentielFraudeur              0.001040         -0.279424         -0.066865   \n",
      "FraudeurClasseBM               0.001040         -0.279424         -0.066865   \n",
      "\n",
      "                             coefBonusMalus  PotentielFraudeur  \\\n",
      "pourcentadeDeResponsabilite       -0.016861           0.000242   \n",
      "natureDuSinistre                   0.004759          -0.005960   \n",
      "typePolice                        -0.002521           0.001040   \n",
      "classeBonusMalus                   0.950560          -0.279424   \n",
      "MauvaiseClasseBM                   0.323194          -0.066865   \n",
      "coefBonusMalus                     1.000000          -0.111912   \n",
      "PotentielFraudeur                 -0.111912           1.000000   \n",
      "FraudeurClasseBM                  -0.111912           1.000000   \n",
      "\n",
      "                             FraudeurClasseBM  \n",
      "pourcentadeDeResponsabilite          0.000242  \n",
      "natureDuSinistre                    -0.005960  \n",
      "typePolice                           0.001040  \n",
      "classeBonusMalus                    -0.279424  \n",
      "MauvaiseClasseBM                    -0.066865  \n",
      "coefBonusMalus                      -0.111912  \n",
      "PotentielFraudeur                    1.000000  \n",
      "FraudeurClasseBM                     1.000000   \n",
      "\n"
     ]
    }
   ],
   "source": [
    "corr_df = MatriceBonusMalus_df.corr()\n",
    "print(\"The correlation DataFrame is:\")\n",
    "print(corr_df, \"\\n\")"
   ]
  },
  {
   "cell_type": "code",
   "execution_count": 113,
   "metadata": {
    "colab": {
     "base_uri": "https://localhost:8080/",
     "height": 296
    },
    "executionInfo": {
     "elapsed": 9,
     "status": "ok",
     "timestamp": 1631485386910,
     "user": {
      "displayName": "Aliii Khelifi",
      "photoUrl": "https://lh3.googleusercontent.com/a/default-user=s64",
      "userId": "10316340169032043076"
     },
     "user_tz": -60
    },
    "id": "beZDlVhJJ8BX",
    "outputId": "667865c4-d72f-42b9-9080-efed01ab520d"
   },
   "outputs": [
    {
     "data": {
      "text/html": [
       "<div>\n",
       "<style scoped>\n",
       "    .dataframe tbody tr th:only-of-type {\n",
       "        vertical-align: middle;\n",
       "    }\n",
       "\n",
       "    .dataframe tbody tr th {\n",
       "        vertical-align: top;\n",
       "    }\n",
       "\n",
       "    .dataframe thead th {\n",
       "        text-align: right;\n",
       "    }\n",
       "</style>\n",
       "<table border=\"1\" class=\"dataframe\">\n",
       "  <thead>\n",
       "    <tr style=\"text-align: right;\">\n",
       "      <th></th>\n",
       "      <th>pourcentadeDeResponsabilite</th>\n",
       "      <th>natureDuSinistre</th>\n",
       "      <th>typePolice</th>\n",
       "      <th>classeBonusMalus</th>\n",
       "      <th>MauvaiseClasseBM</th>\n",
       "      <th>coefBonusMalus</th>\n",
       "      <th>PotentielFraudeur</th>\n",
       "      <th>FraudeurClasseBM</th>\n",
       "    </tr>\n",
       "  </thead>\n",
       "  <tbody>\n",
       "    <tr>\n",
       "      <th>pourcentadeDeResponsabilite</th>\n",
       "      <td>1.000000</td>\n",
       "      <td>-0.022511</td>\n",
       "      <td>-0.001926</td>\n",
       "      <td>-0.019682</td>\n",
       "      <td>-0.002252</td>\n",
       "      <td>-0.016861</td>\n",
       "      <td>0.000242</td>\n",
       "      <td>0.000242</td>\n",
       "    </tr>\n",
       "    <tr>\n",
       "      <th>natureDuSinistre</th>\n",
       "      <td>-0.022511</td>\n",
       "      <td>1.000000</td>\n",
       "      <td>0.003699</td>\n",
       "      <td>0.007360</td>\n",
       "      <td>-0.002507</td>\n",
       "      <td>0.004759</td>\n",
       "      <td>-0.005960</td>\n",
       "      <td>-0.005960</td>\n",
       "    </tr>\n",
       "    <tr>\n",
       "      <th>typePolice</th>\n",
       "      <td>-0.001926</td>\n",
       "      <td>0.003699</td>\n",
       "      <td>1.000000</td>\n",
       "      <td>-0.005034</td>\n",
       "      <td>-0.000463</td>\n",
       "      <td>-0.002521</td>\n",
       "      <td>0.001040</td>\n",
       "      <td>0.001040</td>\n",
       "    </tr>\n",
       "    <tr>\n",
       "      <th>classeBonusMalus</th>\n",
       "      <td>-0.019682</td>\n",
       "      <td>0.007360</td>\n",
       "      <td>-0.005034</td>\n",
       "      <td>1.000000</td>\n",
       "      <td>0.226627</td>\n",
       "      <td>0.950560</td>\n",
       "      <td>-0.279424</td>\n",
       "      <td>-0.279424</td>\n",
       "    </tr>\n",
       "    <tr>\n",
       "      <th>MauvaiseClasseBM</th>\n",
       "      <td>-0.002252</td>\n",
       "      <td>-0.002507</td>\n",
       "      <td>-0.000463</td>\n",
       "      <td>0.226627</td>\n",
       "      <td>1.000000</td>\n",
       "      <td>0.323194</td>\n",
       "      <td>-0.066865</td>\n",
       "      <td>-0.066865</td>\n",
       "    </tr>\n",
       "    <tr>\n",
       "      <th>coefBonusMalus</th>\n",
       "      <td>-0.016861</td>\n",
       "      <td>0.004759</td>\n",
       "      <td>-0.002521</td>\n",
       "      <td>0.950560</td>\n",
       "      <td>0.323194</td>\n",
       "      <td>1.000000</td>\n",
       "      <td>-0.111912</td>\n",
       "      <td>-0.111912</td>\n",
       "    </tr>\n",
       "    <tr>\n",
       "      <th>PotentielFraudeur</th>\n",
       "      <td>0.000242</td>\n",
       "      <td>-0.005960</td>\n",
       "      <td>0.001040</td>\n",
       "      <td>-0.279424</td>\n",
       "      <td>-0.066865</td>\n",
       "      <td>-0.111912</td>\n",
       "      <td>1.000000</td>\n",
       "      <td>1.000000</td>\n",
       "    </tr>\n",
       "    <tr>\n",
       "      <th>FraudeurClasseBM</th>\n",
       "      <td>0.000242</td>\n",
       "      <td>-0.005960</td>\n",
       "      <td>0.001040</td>\n",
       "      <td>-0.279424</td>\n",
       "      <td>-0.066865</td>\n",
       "      <td>-0.111912</td>\n",
       "      <td>1.000000</td>\n",
       "      <td>1.000000</td>\n",
       "    </tr>\n",
       "  </tbody>\n",
       "</table>\n",
       "</div>"
      ],
      "text/plain": [
       "                             pourcentadeDeResponsabilite  natureDuSinistre  \\\n",
       "pourcentadeDeResponsabilite                     1.000000         -0.022511   \n",
       "natureDuSinistre                               -0.022511          1.000000   \n",
       "typePolice                                     -0.001926          0.003699   \n",
       "classeBonusMalus                               -0.019682          0.007360   \n",
       "MauvaiseClasseBM                               -0.002252         -0.002507   \n",
       "coefBonusMalus                                 -0.016861          0.004759   \n",
       "PotentielFraudeur                               0.000242         -0.005960   \n",
       "FraudeurClasseBM                                0.000242         -0.005960   \n",
       "\n",
       "                             typePolice  classeBonusMalus  MauvaiseClasseBM  \\\n",
       "pourcentadeDeResponsabilite   -0.001926         -0.019682         -0.002252   \n",
       "natureDuSinistre               0.003699          0.007360         -0.002507   \n",
       "typePolice                     1.000000         -0.005034         -0.000463   \n",
       "classeBonusMalus              -0.005034          1.000000          0.226627   \n",
       "MauvaiseClasseBM              -0.000463          0.226627          1.000000   \n",
       "coefBonusMalus                -0.002521          0.950560          0.323194   \n",
       "PotentielFraudeur              0.001040         -0.279424         -0.066865   \n",
       "FraudeurClasseBM               0.001040         -0.279424         -0.066865   \n",
       "\n",
       "                             coefBonusMalus  PotentielFraudeur  \\\n",
       "pourcentadeDeResponsabilite       -0.016861           0.000242   \n",
       "natureDuSinistre                   0.004759          -0.005960   \n",
       "typePolice                        -0.002521           0.001040   \n",
       "classeBonusMalus                   0.950560          -0.279424   \n",
       "MauvaiseClasseBM                   0.323194          -0.066865   \n",
       "coefBonusMalus                     1.000000          -0.111912   \n",
       "PotentielFraudeur                 -0.111912           1.000000   \n",
       "FraudeurClasseBM                  -0.111912           1.000000   \n",
       "\n",
       "                             FraudeurClasseBM  \n",
       "pourcentadeDeResponsabilite          0.000242  \n",
       "natureDuSinistre                    -0.005960  \n",
       "typePolice                           0.001040  \n",
       "classeBonusMalus                    -0.279424  \n",
       "MauvaiseClasseBM                    -0.066865  \n",
       "coefBonusMalus                      -0.111912  \n",
       "PotentielFraudeur                    1.000000  \n",
       "FraudeurClasseBM                     1.000000  "
      ]
     },
     "execution_count": 113,
     "metadata": {},
     "output_type": "execute_result"
    }
   ],
   "source": [
    "corr_df"
   ]
  },
  {
   "cell_type": "markdown",
   "metadata": {},
   "source": [
    "## Best model:"
   ]
  },
  {
   "cell_type": "code",
   "execution_count": 119,
   "metadata": {},
   "outputs": [],
   "source": [
    "from sklearn.metrics import accuracy_score"
   ]
  },
  {
   "cell_type": "code",
   "execution_count": 120,
   "metadata": {},
   "outputs": [
    {
     "name": "stdout",
     "output_type": "stream",
     "text": [
      "Accuracy of DecisionTree on test set: 0.999879908731\n"
     ]
    },
    {
     "name": "stderr",
     "output_type": "stream",
     "text": [
      "C:\\Users\\ALI\\anaconda3\\lib\\site-packages\\sklearn\\linear_model\\_sag.py:350: ConvergenceWarning: The max_iter was reached which means the coef_ did not converge\n",
      "  warnings.warn(\n"
     ]
    },
    {
     "name": "stdout",
     "output_type": "stream",
     "text": [
      "Accuracy of LogisticRegression on test set: 0.786878027301\n",
      "Accuracy of RandomForest on test set: 0.999479604499\n",
      "Accuracy of NaiveBayes on test set: 0.698410792202\n"
     ]
    }
   ],
   "source": [
    "models = {\n",
    "    'DecisionTree': dt,\n",
    "    'LogisticRegression': lr,\n",
    "    'RandomForest': RF,\n",
    "    'NaiveBayes': GNB\n",
    "}\n",
    "\n",
    "scores = {}\n",
    "\n",
    "for name, model in models.items():\n",
    "    model.fit(X_train, Y_train)\n",
    "    y_pred = model.predict(X_test)\n",
    "    score = accuracy_score(Y_test, y_pred)\n",
    "    scores[name] = score\n",
    "    print(f'Accuracy of {name} on test set: {score:.12f}')\n",
    "\n",
    "best_model_name = max(scores, key=scores.get)\n",
    "best_model = models[best_model_name]"
   ]
  },
  {
   "cell_type": "code",
   "execution_count": 121,
   "metadata": {},
   "outputs": [],
   "source": [
    "import numpy as np\n",
    "import matplotlib.pyplot as plt\n",
    "from sklearn.metrics import confusion_matrix, ConfusionMatrixDisplay\n",
    "from sklearn.model_selection import learning_curve"
   ]
  },
  {
   "cell_type": "code",
   "execution_count": 122,
   "metadata": {},
   "outputs": [
    {
     "data": {
      "image/png": "[encoded data removed]",
      "text/plain": [
       "<Figure size 432x288 with 2 Axes>"
      ]
     },
     "metadata": {
      "needs_background": "light"
     },
     "output_type": "display_data"
    }
   ],
   "source": [
    "y_pred_best = best_model.predict(X_test)\n",
    "\n",
    "cm = confusion_matrix(Y_test, y_pred_best)\n",
    "\n",
    "disp = ConfusionMatrixDisplay(confusion_matrix=cm, display_labels=best_model.classes_)\n",
    "disp.plot(cmap='Blues')\n",
    "plt.title(f'Confusion Matrix - Best Model: {best_model_name}')\n",
    "plt.show()"
   ]
  },
  {
   "cell_type": "code",
   "execution_count": 123,
   "metadata": {},
   "outputs": [
    {
     "data": {
      "image/png": "[encoded data removed]",
      "text/plain": [
       "<Figure size 576x432 with 1 Axes>"
      ]
     },
     "metadata": {
      "needs_background": "light"
     },
     "output_type": "display_data"
    }
   ],
   "source": [
    "train_sizes, train_scores, test_scores = learning_curve(\n",
    "    best_model, X_train, Y_train, cv=5, scoring='accuracy', n_jobs=-1, train_sizes=np.linspace(0.1, 1.0, 10)\n",
    ")\n",
    "\n",
    "train_mean = np.mean(train_scores, axis=1)\n",
    "train_std = np.std(train_scores, axis=1)\n",
    "test_mean = np.mean(test_scores, axis=1)\n",
    "test_std = np.std(test_scores, axis=1)\n",
    "\n",
    "plt.figure(figsize=(8, 6))\n",
    "plt.plot(train_sizes, train_mean, label='Training accuracy', color='blue')\n",
    "plt.plot(train_sizes, test_mean, label='Test accuracy', color='red')\n",
    "plt.fill_between(train_sizes, train_mean - train_std, train_mean + train_std, alpha=0.2, color='blue')\n",
    "plt.fill_between(train_sizes, test_mean - test_std, test_mean + test_std, alpha=0.2, color='red')\n",
    "plt.title(f'Learning Curve - Best Model: {best_model_name}')\n",
    "plt.xlabel('Training Size')\n",
    "plt.ylabel('Accuracy')\n",
    "plt.legend(loc='best')\n",
    "plt.grid()\n",
    "plt.show()"
   ]
  },
  {
   "cell_type": "code",
   "execution_count": 125,
   "metadata": {},
   "outputs": [],
   "source": [
    "import joblib"
   ]
  },
  {
   "cell_type": "code",
   "execution_count": 126,
   "metadata": {},
   "outputs": [
    {
     "name": "stdout",
     "output_type": "stream",
     "text": [
      "The best model is DecisionTree and has been saved to DecisionTree_best_model.pkl\n"
     ]
    }
   ],
   "source": [
    "#Save the model:\n",
    "joblib.dump(best_model, f'{best_model_name}_best_model.pkl')\n",
    "print(f'The best model is {best_model_name} and has been saved to {best_model_name}_best_model.pkl')"
   ]
  }
 ],
 "metadata": {
  "colab": {
   "authorship_tag": "ABX9TyMygZ2OyH+/yKSTOFR+hUA8",
   "provenance": []
  },
  "kernelspec": {
   "display_name": "Python 3",
   "language": "python",
   "name": "python3"
  },
  "language_info": {
   "codemirror_mode": {
    "name": "ipython",
    "version": 3
   },
   "file_extension": ".py",
   "mimetype": "text/x-python",
   "name": "python",
   "nbconvert_exporter": "python",
   "pygments_lexer": "ipython3",
   "version": "3.8.8"
  }
 },
 "nbformat": 4,
 "nbformat_minor": 1
}
