{
 "cells": [
  {
   "cell_type": "code",
   "execution_count": null,
   "id": "f8eacd12",
   "metadata": {},
   "outputs": [],
   "source": [
    "import pandas as pd\n",
    "from sklearn.cluster import KMeans\n",
    "\n",
    "# Charger votre jeu de données\n",
    "data = pd.read_csv('votre_fichier.csv')  # Assurez-vous de charger correctement votre fichier CSV\n",
    "\n",
    "# Sélectionner les colonnes pertinentes pour K-means\n",
    "X = data[['exact_weather_condition_by_accident', 'exact_accident_location_per_claim', 'number_of_findings_with_potential_fraudster',\n",
    "          'exact_description_of_accidents_by_photo', 'contact_with_potential_fraudster_mechanic', 'fraud_reported',\n",
    "          'vehicle_claim', 'total_claim_amount', 'property_claim', 'injury_claim', 'umbrella_limit',\n",
    "          'number_of_vehicles_involved', 'witnesses', 'bodily_injuries', 'months_as_customer', 'policy_deductable', 'age']]\n",
    "\n",
    "# Normaliser les données si nécessaire (exemple : StandardScaler)\n",
    "\n",
    "# Appliquer K-means avec 4 clusters\n",
    "kmeans = KMeans(n_clusters=4, random_state=0)\n",
    "data['cluster'] = kmeans.fit_predict(X)\n",
    "\n",
    "# Calculer le pourcentage de fraude pour chaque cluster\n",
    "fraud_percentage = data.groupby('cluster')['fraud_reported'].mean() * 100\n",
    "\n",
    "# Fonction pour mapper les pourcentages de fraude aux classes demandées\n",
    "def map_fraud_percentage_to_class(percentage):\n",
    "    if percentage <= 25:\n",
    "        return 0\n",
    "    elif percentage <= 50:\n",
    "        return 1\n",
    "    elif percentage <= 75:\n",
    "        return 2\n",
    "    else:\n",
    "        return 3\n",
    "\n",
    "# Appliquer la fonction pour mapper les classes\n",
    "data['Fraudster_client'] = data['cluster'].map(fraud_percentage.apply(map_fraud_percentage_to_class))\n",
    "\n",
    "# Afficher les résultats\n",
    "print(data[['fraud_reported', 'cluster', 'Fraudster_client']])\n",
    "\n",
    "# Sauvegarder les résultats si nécessaire\n",
    "data.to_csv('donnees_avec_classes.csv', index=False)\n"
   ]
  }
 ],
 "metadata": {
  "kernelspec": {
   "display_name": "Python 3",
   "language": "python",
   "name": "python3"
  },
  "language_info": {
   "codemirror_mode": {
    "name": "ipython",
    "version": 3
   },
   "file_extension": ".py",
   "mimetype": "text/x-python",
   "name": "python",
   "nbconvert_exporter": "python",
   "pygments_lexer": "ipython3",
   "version": "3.8.8"
  }
 },
 "nbformat": 4,
 "nbformat_minor": 5
}
